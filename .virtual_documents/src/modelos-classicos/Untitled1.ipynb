import pandas as pd


df = pd.read_csv('compara-xgb-bert-100-.csv')
df


df.melhores_parametros.iloc[0]


df.melhores_parametros.iloc[1]


df.melhores_parametros.iloc[2]



