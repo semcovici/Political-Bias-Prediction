import pandas as pd





rev_gaz_1 = """
                O pastor petista da Comunidade de Jesus em Campina Grande (PB), José Barbosa Jr., disse que “30% dos evangélicos (no Brasil) são fascistas” e propôs a criação de uma “bolha enorme de evangélicos de esquerda” para atrair a fatia restante desse público para o PT.
                
                A fala foi feita nesta sexta-feira (8), durante participação do pastor em um painel sobre Políticas de Direitos para Mudar o Brasil da Conferência Eleitoral do PT para 2024, que aconteceu em Brasília.

                No mesmo evento, o presidente Lula (PT) defendeu que a legenda precisa se aproximar dos evangélicos e fazer o “trabalho de base” para conseguir eleger mais candidatos no próximo pleito.
                
                “Essa luta da ideologia a gente tem como ganhar também por entre os evangélicos. Não pense que está tudo perdido. Tem 30% dos evangélicos que são fascistas. Com esses a gente nem conversa. Agora, tem 40%, 50% que estão em disputa. Então não vamos desistir [...] O núcleo de evangélicos do PT está aí, ativo. A gente não quer furar a bolha. A gente quer criar uma bolha enorme de evangélicos de esquerda. Dá para chegar lá. E rumo à vitória em 2024”, afirmou o pastor.
                
                Ao comentar sobre as críticas que recebe por ser um pastor evangélico de esquerda, José Barbosa disse que as críticas deveriam ser dirigidas aos pastores que se identificam com a direita. Segundo Barbosa, esses pastores defendem “um sistema baseado na acumulação de riquezas” que seria contra os ensinamentos do cristianismo.
                
                Ao citar um trecho do texto bíblico em que Jesus Cristo ensina sobre o socorro aos mais pobres, José Barbosa evocou para o PT o monopólio da caridade.
                
                "Tem o seguinte critério, eu tive fome, me deu de comer. Eu tive sede, você me deu de beber. Eu estava nu, você me vestiu. Eu era forasteiro, você me acolheu. Eu estava doente, você me visitou. Eu estava preso, você pregou de mim. Então, uma política pública, a partir do Evangelho, quem tem fome, dá de comer. Quem faz isso, o PT ou o (ex-presidente) Jair Bolsonaro? O PT", afirmou.
                """


rev_oeste_1 = """
            Um terço dos brasileiros desaprova o terceiro governo do presidente Luiz Inácio Lula da Silva (PT), com uma avaliação ruim ou péssima crescente desde o início do ano. É o que revelam as duas novas pesquisas Ipec e Datafolha divulgadas entre a noite de quinta (7) e a manhã desta sexta (8) com uma avaliação dos 11 meses de gestão do petista.

            Na pesquisa Ipec, por exemplo, a avaliação ruim ou péssima saltou de 24% em março para 30% em dezembro, enquanto que o Datafolha apurou uma oscilação um pouco menor, de 29% para 30%. Por outro lado, a opinião de regular dos dois institutos se manteve estável em 30%.
            
            Os brasileiros que consideram o governo Lula 3 como ótimo ou bom também reduziram a avaliação de 41% para 38% na pesquisa Ipec, enquanto que o Datafolha apontou uma estabilidade também em 38%.
            
            A aprovação de Lula também diminuiu no período segundo o Ipec, passando de 57% para 51%. Os que reprovam a condução do governo variaram de 35% para 43%.
            
            Já a confiança no presidente Lula passou por uma inversão de acordo com o Ipec. Enquanto que 53% dos brasileiros confiavam no que ele dizia em março, agora 50% dizem não confiar – a confiança caiu para 48%.
            
            O Datafolha fez um questionamento semelhante e apurou que 40% dos brasileiros dizem nunca confiar nas falas de Lula, contra 24% dos que afirmam acreditar sempre nas declarações dele. O instituto apontou, ainda, que 57% dos entrevistados afirmam que o presidente fez menos do que esperavam.
            
            O Ipec entrevistou 2 mil pessoas em 128 cidades brasileiras entre a última sexta (1º) e terça (5), com uma margem de erro de dois pontos porcentuais para mais ou para menos. Já o Datafolha ouviu 2.004 pessoas em 135 municípios, com a mesma margem de erro.
            """


rev_gaz_2 = """
            O presidente Luiz Inácio Lula da Silva (PT) deixou a presidência rotativa do Mercosul nesta quinta (7) sem conseguir fechar o tão desejado acordo comercial com a União Europeia e reconheceu que o andamento do bloco não tem consenso entre os países membros.
            
            Lula passou o comando do bloco para o presidente paraguaio, Santiago Peña, afirmando que “não tem problema” que os mandatários de cada país sejam trocados a cada quatro anos e que tenham visões diferentes sobre a condução das relações comerciais exteriores.
            
            “Tem um mais à direita, um mais à esquerda, um mais favorável, um mais contra. Um dia a gente vai encontrar o denominador comum”, disse Lula em discurso na Cúpula do Mercosul, que terminou no Rio de Janeiro.
            
            O petista disse ter uma expectativa “muito grande” para a presidência de Peña no bloco para seguir nas negociações com os europeus, na integração dos países da América Latina e nas relações com a África. “Você sabe que eu sou um fanático pela relação com a África, até porque eu acho que o Brasil tem uma dívida histórica com a África e nós temos que pagar, transferindo tecnologia”, afirmou o presidente brasileiro.
            
            Por outro lado, Peña fez um caminho contrário e disse que pretende olhar mais para dentro do bloco do que dar tanta atenção ao exterior. O mandatário paraguaio pregou um desenvolvimento maior das relações comerciais entre os países latinos e que eles estão “na melhor região do mundo e com maior potencial” – neste ponto convergindo com Lula no objetivo de uma maior integração regional.
            
            “Quero encorajar-me a sonhar que podemos voltar a concentrar-nos nestes grandes desafios enquanto região. Em guarani tem uma frase que diz ‘ya ovalema’, que é suficiente, e não quero dizer isso no sentido de que não queremos avançar com a União Europeia. Queremos avançar, mas acho que nos basta parar de olhar para fora e começar a olhar mais para dentro”, afirmou.
            
            Por outro lado, Peña também expressou que um problema que um país vizinho possa ter – citando a Argentina, que passa a ser presidida pelo libertário Javier Milei a partir de domingo (10) – não é apenas um restrito a esse país, mas é um “problema para todos”.
            
            “Não existe Mercosul onde apenas alguns tenham um bom desempenho e os ciclos econômicos não afetem de forma diferente. Os problemas atuais que a irmã Argentina pode ter não são os problemas da Argentina, são os problemas de todos os países do Mercosul”, concluiu.
            
            Além do Paraguai, que pretende reforçar as relações entre os países do continente, o Uruguai também não é mais um grande defensor do Mercosul. O presidente Luis Alberto Lacalle Pou já se mostrou favorável diversas vezes em fechar acordos bilaterais fora do bloco, contrariando as expectativas de Lula.
            """


rev_gaz_3 = """
            Enquanto aumentam as tensões por conta das ameaças de invasão feitas pelo ditador da Venezuela, Nicolás Maduro, contra a Guiana, a esquerda brasileira se divide entre o silêncio e manifestações de apoio ao ditador venezuelano.

            O problema segue ainda sem uma sinalização clara do presidente Lula e do seu partido, o PT.
            
            Na noite da quarta-feira (6), o presidente da Guiana, Mohamed Irfaan Ali, disse que conversou Lula e o petista teria assegurado que o Brasil “apoia fortemente a Guiana” e “não veria nenhum comportamento imprudente da Venezuela”.
            
            Três dias antes da declaração do presidente Irfaan Ali, Lula pediu “bom senso” da Venezuela e da Guiana igualmente. No mesmo dia, a Venezuela realizou um referendo sobre a disputa territorial, vencendo a vontade de Maduro com 96% dos votos.
            
            No fim da manhã desta quinta (7), durante abertura da cúpula do Mercosul, no Rio de Janeiro, Lula disse que o continente "não precisa de guerra".
            
            Procurado pela Gazeta do Povo, o Partido dos Trabalhadores (PT) silenciou sobre a posição da sigla em relação ao conflito.
            
            Procurados pelo jornal, o PDT e o PSB, partidos que integram a base do governo, também optaram pelo silêncio até o fechamento desta matéria.
            
            Questionado pela Gazeta, o PSOL disse que “espera que o Brasil atue no esforço por uma solução diplomática para a questão do Essequibo”, território reivindicado por Maduro e que corresponde a 74% de toda a Guiana.
            
            Já o Partido Comunista do Brasil (PCdoB) e o Partido da Causa Operária (PCO) se manifestaram abertamente sobre o tema em suas plataformas na internet.
            
            “A imprensa capitalista tem acusado Maduro de realizar uma ‘manobra ufanista’ – isto é, de trazer à tona a questão do Essequibo apenas para esconder uma crise de popularidade. Trata-se, obviamente, de uma calúnia, que já é parte da campanha de guerra do imperialismo contra a Venezuela. Não há indícios de que Maduro vá ocupar militarmente Essequibo neste momento. Ao que parece, o referendo é parte de uma campanha política que o governo venezuelano está promovendo para ‘preparar o terreno’”, afirmou o PCO em artigo publicado em seu site.
            
            O PCdoB disse ser contra a guerra, mas lembrou da fraude no laudo arbitral de 1899 que impediu a anexação do território da Guiana pela Venezuela e que hoje é reivindicado por Maduro.
            
            “O central para mim é informar as pessoas que há uma origem nessa controvérsia, com o laudo arbitral de 1899, que posteriormente foi revelado como fraudulento e bem típico dos grandes impérios. Desde 1960 os venezuelanos argumentam isso na ONU e foi o que gerou o acordo de 1966 que a Guiana independente reconheceu e aderiu”, disse a secretária de Relações Internacionais do PCdoB, Ana Prestes, em artigo publicado no site do partido.
            """


rev_gaz_4 = """
            A Confederação Nacional da Agricultura e Pecuária (CNA) avalia que o relacionamento do agronegócio, responsável por quase um quarto do Produto Interno Bruto (PIB) brasileiro, com o governo era melhor na gestão do ex-presidente Jair Bolsonaro (PL) do que na do presidente Luiz Inácio Lula da Silva (PT). “Havia mais ministros ligados à classe”, disse o presidente da entidade, João Martins, em evento da CNA em Brasília nesta quarta-feira (6).

            Por outro lado, ele acredita que o ministro da Agricultura, Carlos Fávaro, "tem feito um bom trabalho" nesse primeiro ano de governo, destacando a manutenção da política de abertura de mercados a produção brasileira que vem de governos anteriores. "Até o dia 5, foram abertos 73 mercados", citou.
            
            Martins ainda relatou que a CNA tem tido conversas com a equipe técnica do ministério do Meio Ambiente, mas que não houve contatos com a ministra Marina Silva.
            """


rev_gaz_5 = """
            O presidente Luiz Inácio Lula da Silva (PT) admitiu judicialmente ter cometido uma irregularidade em 2017 em uma obra no sítio "Los Fubangos" em São Bernardo do Campo (SP). Segundo apuração publicada nesta quarta (6) pelo jornal O Estado de São Paulo com base nos autos de infração, houve uma retirada de terra supostamente sem a devida autorização da Prefeitura em uma área ambientalmente restrita, o que resultou em uma disputa judicial que se estendeu desde 2019.

            A defesa de Lula negou a infração ambiental e disse que a autuação foi “de origem burocrática”, em que o presidente “pagou corretamente a guia de arrecadação municipal”, mas que o alvará “não teria computado a terraplanagem necessária para o projeto”.
            
            Após um acordo entre a defesa de Lula e o Executivo municipal, Lula concordou em pagar uma multa de R$ 41.740, em decorrência da infração. O processo, que se arrastava há quatro anos, foi encerrado com a adesão ao Plano de Regularização Tributária de São Bernardo do Campo (Refis).
            
            Os valores atualizados da multa, em 2021, alcançaram R$ 67,6 mil, mas Lula se beneficiará de uma redução de 100% dos juros, multa e acréscimos compensatórios ao quitar a dívida à vista ou em até seis parcelas mensais consecutivas.
            
            O sítio "Los Fubangos" está localizado em uma área de proteção e recuperação dos mananciais do reservatório da represa Billings. Vale ressaltar que este sítio não está vinculado às acusações da Operação Lava Jato sobre a propriedade de um sítio em Atibaia (SP) atribuída a Lula.
            
            “O executado [Lula] jamais cometeu qualquer infração contra o meio ambiente”, disse a defesa de Lula
            
            O embasamento legal para a multa foi um decreto de 2015, do ex-prefeito Luiz Marinho (PT), que proíbe terraplanagem sem autorização dos órgãos ambientais competentes. O auto de infração de 2017 apontou a retirada de 1.358 m³ de terra do sítio, contrariando o alvará de construção que autorizava apenas uma edificação nivelada por pilotis.
            
            A defesa de Lula buscou cancelar a multa até outubro de 2023, alegando que o presidente não cometeu ato ilícito, mas a questão era burocrática. Os advogados afirmaram não ter acesso integral aos autos e questionaram a comprovação da fórmula de cálculo do volume de terra. A Prefeitura emitiu um novo alvará em 2019, reduzindo o volume de terraplanagem para 598,62 m³.
            
            O relatório de fiscalização ambiental de novembro de 2017 revelou a presença de terra retirada do sítio "Los Fubangos". A Prefeitura chegou a solicitar, em abril de 2021, a penhora de bens de Lula para quitar o débito. Com a desistência do ex-presidente e o acordo com a Prefeitura, o caso será encerrado com o pagamento da multa, evitando uma nova perícia agendada para dezembro de 2023.
            """


rev_gaz_6 = """
            O ministro da Justiça, Flávio Dino, afirmou nesta terça-feira (5) que a operação de combate ao tráfico internacional de armas afeta as duas maiores facções criminosas do Brasil. Nesta manhã, a Polícia Federal, em parceria com autoridades paraguaias, deflagrou a Operação Dakovo para desbaratar uma uma quadrilha suspeita de enviar 43 mil armas entre 2019 e 2022 para facções brasileiras.
            
            “Essa ação com o Paraguai fará com que as duas maiores facções brasileiras, que eram as destinatárias principais desses armamentos ilegais, tenham o fechamento dessa via logística para a realização da suas operações”, disse Dino em coletiva à imprensa sobre o balanço da operação. Para o ministro, os resultados marcam uma “nova fase do combate ao crime organizado no Brasil”.
            
            Até o momento, foram cumpridos 19 mandados de prisão (5 no Brasil e 14 no Paraguai) e 38 mandados de busca e apreensão (17 no Brasil e 21 no Paraguai). De acordo com o Ministério da Justiça, desde o início das investigações, a empresa investigada movimentou, em três anos, cerca de R$ 1,2 bilhão. Na operação, também foram bloqueados R$ 66 milhões em bens e valores no Brasil, com o objetivo de identificar a lavagem de dinheiro oriunda de rede ilegal.
            
            As armas eram importadas pela International Auto Supply Company (IAS), com sede em Assunção (capital paraguaia), de propriedade do argentino Diego Hernan Dirísio. A casa dele foi alvo de mandados de busca e apreensão, mas conseguiu fugir da polícia. O superintendente da PF na Bahia, Flávio Albergaria, afirmou que os policiais estão realizando diligências para localizar Dirísio no Paraguai.
            
            O mandado de prisão foi expedido por um colegiado de juízes da Justiça Federal do Brasil, foram imputados ao argentino cerca de 30 fatos de tráfico internacional de armas, além dos crimes de organização criminosa e lavagem de dinheiro, informou Albergaria.
            
            “O investigado é o dono da empresa, ele coordenada todas as operações da empresa, ele atua diretamente na venda e fazia tratativas diretas da compra e revenda com consciência de que essas armas estavam sendo destinadas ao crime organizado”, disse o superintendente da PF, ressaltando que o papel de Dirísio no esquema foi comprovado pela investigação. Ele afirmou que o esquema foi possível por “atos de corrupção nos órgão de controle dentro do Paraguai”.
            
            Segundo Dino, o trabalho desempenhado pela investigação é “complementar” a Garantia da Lei e da Ordem (GLO) em portos e aeroportos. O ministro da Justiça destacou o trabalho de inteligência desempenhado pelas autoridades de segurança, que resultou em uma operação sem violência.
            
            “O trabalho investigativo profissional substitui com muito êxito dezenas de operações que eram feitas com tiros e que resultam, às vezes, nas famosas balas perdidas. Aqui, não houve o disparo de um único tiro e, portanto, não houve uma única bala perdida. Isso é combater o crime organizado de verdade”, disse Dino.
            
            Albergaria afirmou que a investigação começou em 2020 a partir da apreensão de 25 armas em Vitória da Conquista (BA). Após perícia técnica, foi identificado que todas as armas tinham origem de uma empresa importadora do Paraguai, que comprava armamento da Croácia, Eslovênia, República Tcheca e Turquia, e revendia para quadrilhas brasileiras. Há indicativos de participação de doleiros e empresas de fachada dos Estados Unidos no esquema.
            
            “Conseguimos identificar o número de série e rastreamos a origem. Encontramos várias outras armas do mesmo fabricante e demos início à apuração do tráfico internacional de armas de fogo. A partir daí, nos deparamos com grandes remessas de armas da Europa para o Paraguai, onde eram raspadas e recebiam carimbos falsos, para dissimular a verdadeira origem. Estas armas eram passadas a grupos intermediários que atuam na fronteira e revendidas às duas maiores facções do Brasil”, disse Albergaria.
            
            Além de Dino e Albergaria, participaram da apresentação dos resultados da operação: ministro da Secretaria Nacional Antidrogas do Paraguai (Senad/PY), Jalil Rachid, o diretor-executivo da PF, Gustavo Souza; o coordenador-geral de Polícia de Repressão a Entorpecentes (CGPRE/DICOR/PF), Júlio Danilo Ferreira; o coordenador-geral de cooperação jurídica internacional da PF, João Vianey Xavier Filho; o responsável pelo inquérito policial, Diego Gordilho; o diretor de Assuntos Internacionais do Ministério Público do Paraguai, Manuel Doldan; e o diretor-geral da Senad do Paraguai, Anderson Araújo.
            """


rev_gaz_7 = """
            O presidente do Tribunal Superior Eleitoral (TSE), Alexandre de Moraes, negou Recurso Extraordinário (RE) apresentado pela defesa do ex-presidente, Jair Bolsonaro (PL), contra a sentença que deixou o ex-mandatário inelegível por oito anos.
            
            O recurso é apresentado ao Supremo Tribunal Federal (STF), mas cabe ao presidente do TSE enviá-lo ao Supremo ou rejeitá-lo.
            
            Moraes é, ao mesmo tempo, presidente do TSE e ministro da Suprema Corte.
            
            No recurso, a defesa de Bolsonaro alegou que a decisão contra o ex-presidente contraria precedentes estabelecidos em decisões anteriores do STF e do TSE.
            
            Os advogados do ex-presidente cobram do TSE o mesmo entendimento que lastreou a decisão do caso Dilma-Temer. 
            
            Em 2017, ao julgar a cassação dos ex-presidentes Dilma Rousseff (PT) e Michel Temer (MDB), a Corte não admitiu a inclusão de elementos que não estavam nos autos desde o início do processo. No caso de Bolsonaro, o PDT (autor da ação) agregou as manifestações de 8 de janeiro dentro do processo. O pedido foi aceito pelo relator do caso no TSE, o ministro Benedito Gonçalves.
            
            A ação inicial pede a inelegibilidade de Bolsonaro por abuso de poder político e dos meios de comunicação pela reunião do ex-presidente com embaixadores em 2022. O evento foi transmitido pela TV Brasil, veículo estatal.
            
            Para Moraes, o julgamento do ex-presidente não envolveu "alteração de jurisprudência" do tribunal nem apresentou "decisões conflitantes". Para o magistrado, a sentença foi “lastreada nas condutas, fatos e provas do caso concreto".
            """


rev_gaz_8 = """
            Ao comentar sobre o estado de saúde do coronel Jorge Eduardo Naime, ex-comandante do Departamento de Operações da Polícia Militar do Distrito Federal (PMDF) preso desde o dia 7 de fevereiro por suposta omissão para conter os atos de 8 de janeiro, o deputado Nikolas Ferreira (PL-MG) disse que o coronel está sofrendo “tortura” e chamou de “tirania” as medidas adotadas pelo ministro do Supremo Tribunal Federal (STF), Alexandre de Moraes, contra acusados de participação no 8/1.
            
            “Já acionamos a justiça, denunciamos, conversamos com os familiares, fizemos de tudo que pudesse ser feito. Mas não há meios legais contra a tirania. O que estão fazendo com o coronel Naime é tortura. Alexandre, solte esse homem para que outra família não venha chorar mais uma perda”, escreveu o deputado na rede social X, nesta segunda-feira (4), ao lembrar do caso Cleriston Pereira - preso do 8/1 que faleceu na Papuda.
            
            A publicação de Nikolas foi feita momentos depois que o coronel precisou ser levado para o hospital com “fortes dores no peito”.
            
            Foi a terceira vez em menos de uma semana que o militar precisou receber atendimento médico.
            
            O militar também passou mal no último dia 28 e na sexta (1º). Na semana passada, a equipe médica detectou um trombo na veia cefálica, na região do bíceps, informou a revista Veja.
            
            Segundo a esposa do coronel, Mariana Adôrno Naime, o militar tem sofrido com “dormência nos braços e pés”, “muita dor de cabeça” e “vômito”. Além disso, no dia 13 de julho, ele teve uma queda de pressão e, ao tombar, tentou se apoiar num armário, que acabou caindo sobre si, o que o fez ser conduzido ao hospital. Em 24 de julho, Naime voltou a necessitar de atendimento médico, mas não precisou ser levado ao hospital.
            
            Mesmo de férias no dia 8 de janeiro, o coronel Naime deixou sua residência para ajudar a conter os manifestantes. Durante a ação policial, o militar chegou a ser ferido com o disparo de um rojão. Em maio, a a Procuradoria-Geral da República (PGR) enviou ao Supremo Tribunal Federal (STF) um parecer a favor da manutenção da prisão do militar.
            """


rev_gaz_9 = """
            O presidente Luiz Inácio Lula da Silva (PT) sinalizou nesta segunda (4) que pode ter planos de continuar na presidência da República até 2030, o que pode confirmar a intenção de se candidatar à reeleição em 2026. A afirmação foi dada durante uma coletiva de imprensa junto do primeiro-ministro alemão Olaf Scholz, em Berlim, com quem se reuniu pela manhã para tratar de negócios bilaterais e o avanço do acordo entre o Mercosul e a União Europeia.
            
            A declaração segue em linha com o que o PT já havia divulgado na resolução do partido para as eleições municipais de 2024, em agosto, de que será um “momento estratégico para a construção de uma sólida aliança popular e democrática que promova a recondução do Governo Lula em 2026”.
            
            A intenção de Lula em disputar a reeleição foi dada no momento em que comentava com Scholz as políticas ambientais que vem implementando no Brasil, como o de zerar o desmatamento ilegal da floresta amazônica até 2030.
            
            “No Brasil, no meu governo, em 2030 eu quero entregar ao mundo desmatamento zero na Amazônia para que as pessoas saibam que é possível a gente cuidar do planeta que nos dá vida, água, comida”, disse.
            
            Lula sempre evitou comentar se pretendia disputar a reeleição em 2026, mas nunca negou a intenção. No começo do ano, em meados de fevereiro, ele sinalizou essa possibilidade, afirmando que “se chegar no momento, sabe, e estiver uma situação delicada e eu estiver com saúde, porque também só posso ser candidato se eu estiver com a saúde perfeita, sabe?”
            
            “Mas, saúde perfeita com oitenta e pouco, 81 de idade, energia de 40 e tesão de 30. Pronto, aí eu posso [concorrer à reeleição]”, completou.
            
            As falas não tão claras, mas também sem negar, contrastam com o que declarou ao longo de toda a campanha eleitoral de 2022, em que não concorreria à reeleição em 2026. “Eu não vou ser um presidente da República que está pensando na sua reeleição. Eu vou ser o presidente que vou estar pensando em governar este país por quatro anos e deixá-lo tinindo para que o povo brasileiro recupere definitivamente o bem-estar social, a alegria, o prazer de viver, o prazer de ser baiano, o prazer de ser brasileiro”, disse em julho do ano passado à rádio Metrópole, da Bahia.
            
            Em outra entrevista no mesmo mês ao UOL, Lula afirmou que não concorreria em 2026 por conta da idade avançada que terá – 81 anos – e que antes já não pretendia sequer disputar o terceiro mandato no ano passado.
            
            Além da declaração sobre o de “entregar” o desmatamento zero ilegal da floresta amazônica, Lula afirmou que pretende convencer pelo cansaço o presidente francês Emmanuel Macron a aceitar o acordo comercial entre a União Europeia e o Mercosul, e criticou a Organização das Nações Unidas (ONU) por não conseguir chegar a uma solução para resolver os conflitos em curso no mundo e implantar as medidas de combate às mudanças climáticas.
            """


rev_gaz_10 = """
            A Câmara dos Deputados restringiu o acesso do influencer Bernardo Moreira às dependências da Casa depois da confusão causada pelo influencer na semana passada, quando Moreira ofendeu o deputado Nikolas Ferreira (PL-MG).
            
            Ao abordar o parlamentar nos corredores da Câmara, Moreira chamou Nikolas de “Nikole chupeta” e disse que o deputado “não trabalha”.
            
            Vídeos que circulam pelas redes sociais mostram o momento da confusão. Ao reagir às provocações do influencer, Nikolas acionou a Polícia Legislativa e disse que o influencer teria mentido ao afirmar que trabalhava na Câmara, aparentemente, para ter acesso ao deputado.
            
            “Atacar um servidor público durante o serviço dele é crime. Atacar um deputado durante o serviço dele é crime, seu gênio. Você não conhece o código penal. Você injuriar, xingar um deputado em exercício do trabalho é crime”, disse Nikolas ao pedir para que a polícia conduzisse o influencer.
            
            Durante a condução, Moreira continuou debochando do deputado e reivindicando “liberdade de expressão”.
            
            Caso o Ministério Público Federal (MPF) entenda que houve crime na conduta do influencer, Moreira poderá responder por difamação e injúria contra o deputado.
            
            Pelas redes sociais, Moreira ironizou a atitude do deputado: “Engraçado como a ‘liberdade de expressão irrestrita’ só funciona para contar fake news e atacar instituições, de resto os defensores dela choram”, escreveu o influencer na rede social X, nesta segunda-feira (4).
            
            A expressão usada por Moreira para ofender o deputado faz referência a uma sucessão de eventos ocorridos ainda em março deste ano.
            
            Em discurso proferido no Dia Internacional das Mulheres, Nikolas usou uma peruca para falar como “Nikole” e denunciar as contradições da ideologia de gênero.
            
            Após o episódio, o deputado foi vítima de diversos ataques homofóbicos por parte de outros parlamentares.
            
            Durante audiência na Câmara, no fim de março, o deputado André Janones (Avante-MG), aliado do presidente Luiz Inácio Lula da Silva (PT), chamou Nikolas Ferreira de “chupeta” e “chupetinha”.
            
            Segundo Janones, quem teria criado o rótulo de "chupetinha" seria o influenciador petista Felipe Neto, integrante do grupo de trabalho criado pelo Ministério dos Direitos Humanos, do governo Lula, para combater o “discursos de ódio” nas redes sociais.
            
            Os ataques ao deputado foram endossados por parlamentares da esquerda e ignorados por entidades LGBT.
            """


rev_br247_1 = """
                O presidente Luiz Inácio Lula da Silva participou nesta quarta-feira (6) da cerimônia de credenciamento do Instituto de Matemática Pura e Aplicada (Impa) como instituição de Educação Superior, no Rio de Janeiro. Em seu discurso, ele destacou a importância de investimentos na educação pública de qualidade. 

                "Existe um preconceito contra as escolas públicas no Brasil. As pessoas não conhecem nem os governantes, seus filhos não estudam nelas", disse Lula. "Da mesma forma que o estudante de escola privada terá uma melhor qualidade de ensino, queremos abrir a porta para aqueles que não têm a mesma oportunidade do dinheiro".
                
                O presidente Lula também afirmou que os investimentos em educação não devem ser tratados como gastos. "Educação não é gasto, é investimento", disse. 
                
                Ele citou o exemplo de países asiáticos que investiram na qualidade da educação e pediu maior foco em matérias como matemática. "O que estamos fazer é criar um outro país", complementou. 
                """


rev_br247_2 = """
                Nesta quarta-feira (6), dados divulgados pelo IBGE revelaram que 7 milhões de mulheres entre 15 e 29 anos não estudaram nem trabalharam em 2022, apontando o cuidado com parentes ou tarefas domésticas como o principal motivo. Esse contingente representa 63,4% dos mais de 10,8 milhões de brasileiros nessa faixa etária na mesma situação. O trabalho de cuidado abrange atividades domésticas e assistência a familiares, como preparo de refeições, limpeza e cuidado de crianças e idosos. Muitas vezes, essas atividades são consideradas "invisíveis" por não entrarem na contabilidade do trabalho remunerado. No governo Lula, com o apoio da primeira-dama, Rosângela Silva, a Janja, um grupo composto por representantes de 17 ministérios está discutindo a criação de um plano nacional com medidas para apoiar tanto as mulheres, mais impactadas por esse tipo de serviço não remunerado, quanto aqueles que necessitam dos cuidados, como crianças, idosos e pessoas com deficiência. A previsão é apresentar uma proposta até maio de 2024, informa o jornal O Globo.

                Embora o formato ainda não esteja definido, o grupo estabeleceu que as ações devem incluir oferta de serviços (como creches e escolas integrais), tempo (reforçando direitos como a licença-maternidade), recursos e benefícios (como políticas de transferência de renda), regulação (como regulamentação das relações e condições de trabalho das profissões de cuidado) e transformação cultural (por meio de campanhas de conscientização). Apesar da ausência de uma Política Nacional de Cuidado estruturada, o governo já realizou ações dispersas que dialogam com o tema, como a retomada da construção de creches e a ampliação das escolas em tempo integral, liberando o tempo das mães.
                
                Uma política nacional de cuidados teria um impacto econômico significativo. A Organização Internacional do Trabalho indicou que até 2035, 300 milhões de empregos poderiam ser criados globalmente a partir dessas estruturas. Além disso, a ONU Mulheres destacou que a remuneração adequada dessas atividades poderia impactar até 39% do PIB. Enquanto o Brasil avança na construção de uma Política Nacional, países vizinhos como Colômbia, Argentina, Chile, República Dominicana e Uruguai já possuem experiências que são observadas pelo governo brasileiro. 
                
                A primeira-dama, Janja, apoia a iniciativa, destacando que transformar o trabalho de cuidado em política pública pode trazer "avanços reais" ao "despertar a sociedade" para uma "responsabilidade compartilhada". "O trabalho do cuidado precisa ser um trabalho de homens e mulheres. Precisamos despertar a sociedade para que exista uma responsabilidade compartilhada. E, para além do compartilhamento da responsabilidade, acredito que conseguiremos ter avanços reais com relação ao assunto quando transformarmos a política do cuidado em política pública, política de Estado. E é isso que o presidente Lula está fazendo no atual governo, construindo a Política e o Plano Nacional de Cuidado voltado para cuidar de quem cuida".
                
                "Estamos em 2023 e nós, mulheres, continuamos sendo as principais responsáveis pelo trabalho de cuidado, enfrentando muitos desafios diariamente para exercer essa função sem deixar de lado as tantas outras atribuições que a sociedade nos impõe. Sabemos que historicamente a divisão social do trabalho coloca o homem como o provedor e a mulher como cuidadora e é por isso que precisamos debater sobre o assunto com urgência, para desconstruir essa realidade", acrescentou.
                """


rev_br247_3 = """
                Jair Bolsonaro, que está inelegível, espalhou uma série de mentiras e proferiu ataques durante uma entrevista a uma rádio argentina. Ele está no país para a posse do presidente eleito, o ultralibertário de extrema direita Javier Milei. 

                Uma das mentiras ditas por Bolsonaro na entrevista à rádio Mitre foi que a esquerda quebrou o Brasil. Ele então atacou o Nordeste, dizendo que os estados dessa região não "têm perspectivas", mentiu sobre o PIX, declarando que seu governo criou o sistema, e justificou o massacre de Israel contra a Palestina. 
                
                Bolsonaro disse que a existência de Israel é um "milagre", atacou Lula ao mentir sobre o presidente supostamente nunca ter condenado atos terroristas do Hamas. Ele disse que Lula é "pró-Hamas", mas Lula condenou várias vezes os ataques do Hamas. 
                
                Ele então reclamou de estar inelegível pela reunião com embaixadores. Bolsonaro também espalhou uma fake news ao dizer que o presidente Lula "se reuniu com a nata das lideranças em comunidades tomadas pelo tráfico no Rio de Janeiro sem qualquer aparato de segurança". Ele ainda negou envolvimento com os atos terroristas de 8 de janeiro de 2023. 
                """


rev_br247_4 = """
                O Ministério dos Direitos Humanos e da Cidadania (MDHC), comandado por Silvio Luiz de Almeida, lançou o Programa Nacional de Fortalecimento das Casas de Acolhimento LGBTQIA+. A política pública irá compor a Estratégia Nacional de Enfrentamento à Violência contra Pessoas LGBTQIA+, ambas publicadas no Diário Oficial da União desta quinta-feira (7). Em até 120 dias, o MDHC publicará atos para adesão de instituições públicas e privadas com objetivo de implementar e fortalecer Casas de Acolhimento para pessoas LGBTQIA+. No mesmo prazo, será instaurado Comitê de Avaliação e Monitoramento para acompanhar as ações a serem instituídas pelo programa Acolher+.

                O Brasil registrou ao menos 273 mortes violentas de pessoas LGBTQIAP+ no ano passado. Desses casos, 228 foram assassinatos, 30 suicídios e 15 outras causas, como morte decorrente de lesões por agressão. A média é de um morto a cada 32 horas, de acordo com o Observatório de Mortes Violentas Contra LGBTI+, que ainda conta contou com a parceria de Antra (Associação Nacional de Travestis e Transexuais) e ABGLT (Associação Brasileira de Lésbicas, Gays, Bissexuais, Travestis, Transexuais e Intersexos).
                
                De acordo com a publicação, o programa Acolher + deverá fortalecer e também implementar casas de acolhimento para pessoas LGBTQIA+ em situação ou iminência de rompimento dos vínculos familiares em razão de sua identidade de gênero, orientação sexual e/ou características sexuais. Diferentemente do que se compreende por moradia fixa, as casas de acolhimentos se destinam ao abrigo provisório de pessoas acometidas pela violência ou em risco de perda eminente de vínculo comunitário em razão do preconceito e das violações de direitos fundamentais.
                
                O programa se baseará no reconhecimento de violências e discriminações em razão das condições de gênero e sexuais sofridas pela comunidade LGBTQIA+ de modo estrutural na sociedade brasileira. De acordo com o a secretária nacional dos Direitos das Pessoas LGBTQIA+, Symmy Larrat, "esse programa nasce com a expectativa de que os planos, as ações e o desenvolvimento de projetos do Poder Executivo observem a importância da institucionalização das políticas públicas para as pessoas LGBTQIA+, pois não podemos permitir que mudanças governamentais firam o princípio das garantias de direitos fundamentais, previstos inclusive na Declaração Universal dos Direitos Humanos".
                
                Tendo como público-alvo pessoas entre 18 e 65 anos em situação de abandono familiar, o programa irá priorizar populações “com vulnerabilidade acrescida por atravessamento de outros marcadores sociais, como os de raça e etnia, território, classe, gênero, idade, religiosidade, deficiência e outros”, indica a portaria oficial.
                
                São diretrizes do Programa Acolher+ a participação social para implementação da iniciativa, articulação com as diferentes esferas governamentais, cooperação internacional e interfederativa com estados, municípios e o Distrito Federal (DF).
                """


rev_br247_5 = """
                À medida que o mundo continua a enfrentar uma severa recessão econômica e vários indicadores econômicos na China refletem uma trajetória de recuperação constante, bem como altos e baixos na economia chinesa, a atenção global se volta para uma importante reunião de fim de ano para entender como os principais formuladores de políticas chineses veem as perspectivas econômicas da China e as principais prioridades para 2024.

                A Conferência Econômica Central é geralmente realizada em meados de dezembro e estabelece o tom para a formulação de políticas econômicas para o próximo ano. Como um prelúdio crucial para a conferência, uma reunião do Birô Político do Comitê Central do Partido Comunista da China (PCCh) na sexta-feira (8) sugeriu que os formuladores de políticas econômicas provavelmente priorizarão diretrizes para consolidar ainda mais a recuperação econômica, garantir um crescimento razoável, continuar a abordar os principais riscos e impulsionar novos setores emergentes para garantir um desenvolvimento de alta qualidade, disseram analistas no domingo.
                
                Em geral, enquanto a economia da China continuará enfrentando riscos e desafios tanto externos quanto internos, a trajetória de recuperação ascendente provavelmente continuará e se consolidará ainda mais, graças à forte resiliência da economia chinesa e à abundância de ferramentas e margens de manobra para os formuladores de políticas chineses lidarem eficazmente com a pressão negativa, preveem os analistas. A segunda maior economia do mundo permanecerá como o principal motor de crescimento global para 2024, em que a economia global é esperada para enfrentar grandes riscos descendentes, observaram.
                
                Até este domingo (10), informações sobre a Conferência Econômica Central, realizada a portas fechadas, permanecem escassas. Um comunicado oficial da reunião geralmente é divulgado após a reunião. Alguns sinais indicam que a reunião pode estar próxima. Em primeiro lugar, geralmente é realizada em meados de dezembro. A conferência do ano passado ocorreu de 15 a 16 de dezembro e prometeu uma série de medidas para enfrentar riscos e promover uma melhoria geral nas operações econômicas em 2023.
                
                Outro indicador crucial para a conferência anual é uma reunião do Birô Político do Comitê Central do PCCh, que se concentra no trabalho econômico do próximo ano e ocorre pouco antes da conferência. Na sexta-feira (8), o Birô Político realizou a reunião para analisar e estudar o trabalho econômico de 2024, organizar a conduta do partido e o trabalho de combate à corrupção, e revisar regulamentos sobre a ação disciplinar do Partido Comunista, relatou a Agência de Notícias Xinhua. A reunião do birô político geralmente é considerada uma janela confiável do que pode estar reservado para a conferência de trabalho econômico, observaram os analistas.
                
                "A reunião do Birô Político geralmente define o tom para a Conferência Econômica Central, e os sinais de políticas da reunião desse birô geralmente serão mais refinados na Conferência Econômica Central", disse Hu Qimu, vice-secretário-geral do Fórum de Integração das Economias Digital-Real, ao Global Times no domingo.
                
                Sinais da reunião do Birô Político na sexta-feira sugeriram que as prioridades serão colocadas na consolidação da recuperação econômica, enfrentando riscos e promovendo o desenvolvimento de alta qualidade em 2024, de acordo com analistas.
                
                A reunião destacou que é importante impulsionar a vitalidade econômica, prevenir e mitigar riscos, melhorar as expectativas sociais, consolidar e promover o impulso de recuperação econômica e melhorar efetivamente a qualidade da economia chinesa e promover seu crescimento dentro de uma faixa razoável, de acordo com a Xinhua. A reunião também enfatizou o princípio geral de buscar o progresso mantendo a estabilidade.
                
                Yao Jingyuan, pesquisador especial do Gabinete dos Conselheiros do Conselho de Estado, disse que, como a economia da China continuará enfrentando muitos desafios internos e externos em 2024, buscar o progresso mantendo a estabilidade permanecerá a tonalidade geral para o próximo ano.
                
                "O que estou dizendo é que nosso trabalho econômico deve respeitar as leis da economia, ser racional e não ansioso. Nesse caso, devemos persistir em fazer progressos mantendo a estabilidade, avançar passo a passo e resolver riscos e problemas durante o processo de desenvolvimento", disse Yao ao Global Times.
                
                Yao observou que, no que diz respeito ao enfrentamento de riscos e desafios, a China continuará focada em questões no mercado imobiliário, dívida do governo local e apoio ao setor privado em 2024. "Esses são problemas que enfrentaremos no próximo ano e seremos capazes de resolvê-los e manter um crescimento econômico relativamente bom."
                
                Embora tanto a reunião do Birô Político quanto a Conferência Econômica Central não ofereçam uma meta específica de crescimento, as tonalidades sugerirão que os formuladores de políticas tomarão esforços mais fortes para consolidar a recuperação e garantir um crescimento estável, disseram analistas, apontando para várias promessas de políticas da reunião de sexta-feira.
                
                A reunião disse que as políticas fiscais pró-ativas devem ser fortalecidas e aprimoradas adequadamente em qualidade e eficiência, enquanto as políticas monetárias prudentes devem ser flexíveis, apropriadas, precisas e eficazes.
                
                Essas promessas indicam que os formuladores de políticas provavelmente intensificarão o suporte tanto fiscal quanto monetário para a economia em 2024, observaram os analistas.
                
                Apontando para a persistente pressão descendente, Tian Yuan, um economista baseado em Pequim, disse que espera mais políticas de estímulo para o próximo ano. "A Conferência Econômica Central provavelmente elaborará um conjunto de políticas para garantir a continuidade da recuperação econômica no próximo ano", disse Tian ao Global Times.
                
                O foco das políticas de estímulo será o consumo, observaram os analistas. A reunião do Bureau Político na sexta-feira também enfatizou que é imperativo intensificar a regulação macroeconômica, expandir a demanda doméstica e aprofundar a reforma estrutural do lado da oferta.
                
                "Julgando pelos sinais da reunião, impulsionar o consumo será uma prioridade máxima", disse Hu, observando que a contribuição do consumo para o crescimento econômico atingiu 80 por cento nos primeiros 11 meses de 2023. "Então, no próximo ano, provavelmente introduziremos algumas políticas de estímulo, o que pode impulsionar o consumo."
                
                As prioridades também serão dadas para impulsionar novas indústrias emergentes para fomentar novos motores de crescimento e garantir um desenvolvimento de alta qualidade, observaram os analistas, apontando para várias referências no comunicado da reunião de sexta-feira.
                
                A reunião observou que também é essencial acelerar a criação de um novo paradigma de desenvolvimento, focar na promoção do desenvolvimento de alta qualidade, aprofundar de forma abrangente a reforma e a abertura, e construir autossuficiência e força em ciência e tecnologia de alto nível. Também instou a esforços para estabelecer o novo antes de abolir o antigo, o que, segundo os analistas, se refere ao foco em fomentar novos modelos de crescimento.
                
                Apesar dos vários riscos e desafios em 2024, espera-se que a economia chinesa permaneça uma das de crescimento mais rápido entre as principais economias e o principal impulsionador do crescimento global, disseram os analistas. Algumas organizações internacionais também aumentaram suas projeções de crescimento para a China, mesmo quando reduziram as previsões para o crescimento global. Na semana passada, o FMI afirmou que espera que a economia chinesa atinja a meta de crescimento de cerca de 5 por cento em 2023 e reafirmou uma revisão ascendente de outubro na projeção de crescimento da China para 2024, de 4,2 por cento para 4,6 por cento.
                """


rev_br247_6 = """
                Um acidente de trabalho envolvendo funcionários de uma empresa de internet provocou a descarga elétrica que resultou na morte de nove pessoas na noite de sábado (9) no acampamento Terra e Liberdade, do Movimento dos Trabalhadores Rurais Sem Terra (MST), em Parauapebas, sul do Pará.

                Seis sem-terra e três trabalhadores da empresa morreram. Oito pessoas ficaram feridas com queimaduras e foram levadas ao hospital. Neste domingo (10), uma delas permanecia internada com queimaduras de segundo grau, conforme o MST.
                
                As informações foram divulgadas neste domingo (10) em entrevista coletiva de dirigentes do Movimento, que expressaram solidariedade às vítimas e reafirmaram a importância da luta pela terra no sul do Pará, região marcada pela ação violenta de grandes proprietários de terras reivindicadas para a reforma agrária.
                
                Segundo o MST, funcionários da empresa de internet “sem o mínimo padrão de segurança” faziam a instalação de uma antena de internet solicitada individualmente por moradores do acampamento, que tem cerca de 2,5 mil pessoas. Após a descarga elétrica, o Samu e o Corpo de Bombeiros foram acionados. O fogo foi contido, e os sem-terra se mobilizaram para resgatar os feridos.
                
                “Por volta das 20h, quando tentavam fixar uma antena, o equipamento teria entrado em contato com a rede de alta tensão. Esse contato incendiou todos os cabos de internet, que são feitos de material inflamável, e incendiou alguns barracos”, explicou Pablo Neri, da direção Nacional do MST.
                
                O MST identificou oito dos nove mortos: Jovenilson Aragão Trindade; Francisco Ferreira; Francisco De Assis Pereira Rodrigues: Fernanda Sousa de Almeida; Eva Maria da Conceição Silva; Francisco Nascimento de Sousa Júnior; Gabriel Pereira da Silva e Geovane Pereira dos Santos. Os três últimos nomes são dos técnicos da internet, segundo nota divulgada pela empregadora, a G5 Internet.
                
                "A G5 Internet, de Parauapebas, ofereceu os serviços aos acampados, que consensuaram em fechar contrato com a empresa. Como o Movimento Sem Terra não tem como fornecer internet, a decisão foi de que a empresa poderia fornecer", disse Pablo Neri. 
                
                No comunicado divulgado pela rede social Instagram, a G5 Internet lamentou profundamente as mortes dos trabalhadores, afirmou que segue dando apoio aos familiares das vítimas e fez votos de conforto e fortalecimento aos envolvidos.
                
                “Estendemos também nossas condolências a todos que perderam seus familiares e amigos no incêndio ocorrido no acampamento do Movimento dos Trabalhadores Rurais Sem Terra - MST, em Palmares II, na noite deste sábado, dia 9”, afirma a G5 Internet em nota.
                """


rev_br247_7 = """
                O Governo Federal lançou uma nova campanha veiculada em rede nacional, neste domingo (10/12), com o intuito de mobilizar os brasileiros em prol da reconstrução do país, sob o lema "O Brasil é um só povo".

                Desde o início do ano, a mensagem de união e reconstrução tem sido um foco do governo, e esta campanha se insere nesse contexto de trabalho conjunto.
                
                Um dos destaques da campanha é um vídeo musical, reunindo artistas de diversos estilos como Sandra de Sá, Pastor Kleber Lucas, Lellê, Jorge Vercillo e Manno Góes. A composição transmite mensagens de união, ressaltando a ideia de "um Brasil e um só povo", além de exaltar a resistência e determinação do país.
                
                As peças publicitárias também visam combater o negacionismo e a intolerância. Outro vídeo enfoca a mensagem de paz e reconstrução de laços, ressaltando valores como relações familiares e amizade, especialmente ressaltados neste período do ano.
                
                A campanha conta com sete comerciais adicionais que destacam os brasileiros como protagonistas de histórias cotidianas, enfatizando reconciliações e exemplos de superação por meio de programas sociais como Minha Casa Minha Vida, Novo PAC, Bolsa Família, ProUni, Farmácia Popular, Plano Safra e o programa de vacinação. Essas peças reforçam conceitos como família, cidadania, solidariedade e amizade.
                """


rev_br247_8 = """
                O Ministério do Desenvolvimento Agrário e Agricultura Familiar divulgou nota neste domingo (10) lamentando a morte de nove trabalhadores em decorrência de um incêndio provocado pela eletrificação da fiação de internet no Acampamento Terra e Liberdade em Parauapebas (PA), do Movimento Sem Terra (MST).

                O presidente Lula (PT) determinou que o ministro Paulo Teixeira e o presidente do Incra (Instituto Nacional de Colonização e Reforma Agrária), César Aldrighi, vão até o local para acompanhar a situação.
                
                Leia a nota: O Ministério do Desenvolvimento Agrário e Agricultura Familiar e o Incra vêm a público se solidarizar com familiares e amigos das vítimas do incêndio no Acampamento Terra e Liberdade em Parauapebas (PA), do Movimento dos Sem Terra (MST).
                
                A tragédia teria sido ocasionada por causa da eletrificação da fiação de internet no acampamento, na noite de sábado (9).
                
                A pedido do presidente Lula, o ministro Paulo Teixeira, e o presidente do Incra, César Aldrighi, vão hoje para o estado, acompanhar o caso de perto e levar todo o apoio do Governo Federal às famílias das vítimas dessa tragédia.
                """


rev_br247_9 = """
                O governo federal, sob a liderança do presidente Luiz Inácio Lula da Silva, lançou uma campanha nacional intitulada "O Brasil é um só povo". Esta iniciativa visa fortalecer a união entre os brasileiros e apoiar a reconstrução do país. O lançamento ocorreu neste domingo e a campanha, que enfatiza a mensagem de unidade e reconstrução, é uma continuação dos esforços do governo desde o início do ano. Com esta iniciativa, busca-se reforçar o sentimento de coesão nacional e combater atitudes de negacionismo e intolerância.

                Um dos destaques da campanha é um clipe musical que reúne artistas de diversos estilos, como Sandra de Sá, representando o soul, o pastor Kleber Lucas com cantos Gospel, a cantora Lellê trazendo o funk, Jorge Vercillo com sua toada e Manno Góes com o axé. A trilha sonora transmite mensagens de união e força, com letras enfatizando que "somos filhos de uma mãe gentil, de um Brasil que luta e não se curva".

                Além do aspecto musical, a campanha também apresenta um filme que enfoca a paz e a reconstrução de laços sociais e familiares, especialmente relevantes no final do ano. Este filme visa reavivar valores como relações familiares e de amizade. A iniciativa inclui ainda sete comerciais que destacam histórias cotidianas de brasileiros. Estes comerciais apresentam exemplos de pessoas beneficiadas por programas sociais como Minha Casa Minha Vida, Novo PAC, Bolsa Família, ProUni, Farmácia Popular, Plano Safra e pelo programa de vacinação. As histórias enfatizam a importância da família, cidadania, solidariedade e amizade. Essa campanha do governo Lula é um passo significativo na busca por um Brasil mais unido e resiliente, após anos de polarização.
                """


rev_br247_10 = """
                Com um cenário de inflação controlada, o Brasil se encaminha para uma nova redução na taxa básica de juros, a Selic, na próxima reunião do Comitê de Política Monetária (Copom) do Banco Central, marcada para quarta-feira (13). O Ministro da Fazenda, Fernando Haddad, projeta que a Selic será ajustada para 11,75% ao ano, implicando um corte de 0,50 ponto percentual. Esta semana promete ser crucial para os mercados, com a expectativa de decisões importantes sobre política monetária tanto no Brasil quanto em outros grandes centros econômicos. Além da reunião do Copom, haverá a divulgação das decisões de juros pelo Federal Open Market Committee (Fomc) do Federal Reserve (Fed) nos Estados Unidos, e pelo Banco Central Europeu (BCE) e o Banco da Inglaterra (BoE), segundo informa o Infomoney.

                Um dos indicadores mais aguardados antes da decisão do Copom é o Índice Nacional de Preços ao Consumidor Amplo (IPCA) de novembro, a ser divulgado pelo Instituto Brasileiro de Geografia e Estatística (IBGE). A expectativa do Bradesco é de um aumento de 0,26% na comparação mensal. Esse índice tem um papel fundamental na orientação das políticas monetárias e na projeção das tendências econômicas futuras.
                
                Além do IPCA, a semana também traz a divulgação de outros indicadores econômicos relevantes, como o Índice de Preços ao Consumidor (IPC) pela FIPE, o relatório Focus do Banco Central e os números da balança comercial. Na terça-feira, serão conhecidos também os números do Índice de Confiança do Empresário Industrial (ICEI) de dezembro, apresentados pela Confederação Nacional da Indústria (CNI).
                
                A quarta-feira se destaca não só pela decisão sobre a Selic, mas também pela divulgação da Pesquisa Mensal de Serviços e dos dados de Fluxo Cambial pelo Banco Central. A Pesquisa Mensal de Comércio e o índice IBC-Br de atividade econômica, assim como o IGP-10 de dezembro pela Fundação Getúlio Vargas (FGV), completam a agenda econômica da semana.
                
                No cenário internacional, após uma semana de ganhos nas bolsas dos EUA, o Fomc deverá manter a taxa de juros entre 5,25% e 5,50%. Dados importantes como o índice de preços ao consumidor e o resultado fiscal de novembro também serão divulgados nos Estados Unidos.
                """


noticias = [rev_gaz_1, rev_gaz_2, rev_gaz_3, rev_gaz_4, rev_gaz_5, rev_gaz_6, rev_gaz_7, rev_gaz_8, rev_gaz_9,
          rev_gaz_10, rev_br247_1, rev_br247_2, rev_br247_3, rev_br247_4, rev_br247_5, rev_br247_6,
          rev_br247_7, rev_br247_8, rev_br247_9, rev_br247_10]

# Criar DataFrame a partir da lista de strings
df = pd.DataFrame({'Textos': noticias})
df.rename(columns={'Textos': 'Conteudo'}, inplace=True)
df.to_csv('noticias-teste.csv', index=False)





rev_oeste_1 = """
                A presidente do PT, Gleisi Hoffmann, disse a militantes do partido que é imprescindível manter em bom nível a popularidade do presidente Lula, para evitar que o Congresso Nacional “engula” o governo. “Se cair só um pouquinho a popularidade de Lula, não tenham dúvidas do que o Parlamento vai fazer”, advertiu a petista, neste sábado, 9. “Se a gente baixar a popularidade do presidente, esse Congresso engole a gente.” De acordo com a deputada, o crescimento do país deve estar embasado em políticas fiscais e mais gastos públicos. “Não temos política monetária e cambial”, afirmou. “Só temos a política fiscal para mexer na economia, que é a política do crescimento econômico.” Gleisi ainda afirmou que é preocupante a desaceleração da economia. Segundo ela, a meta do governo é que o país cresça 4% no próximo ano. Além disso, a deputada disse que o presidente do Banco Central, Roberto Campos Neto, é um “neoliberal que atenta contra os interesses do Brasil”. “Essa é a cabeça dele”, afirmou Gleisi. “Não tem razão de ficar baixando os juros a conta-gotas. Para subir foi rápido, mas para baixar não. Essa é a cabeça do mercado financeiro.”
                """


rev_oeste_2 = """
                O combate à corrupção tem sido uma fraqueza no governo Lula. Os dois primeiros mandatos do presidente foram marcados pelos escândalos do mensalão e de desvios na Petrobras. Agora, com 11 meses de gestão no terceiro mandato, 59% da população considera “ruim ou péssimo” o governo do petista em relação ao combate à corrupção, segundo resultados da recente pesquisa do Instituto Datafolha, divulgados nesta sexta-feira, 8. O presidente mantém o deputado licenciado Juscelino Filho (União Brasil-MA) como ministro das Comunicações, mesmo depois dele ter sido alvo de operação da Polícia Federal (PF), em setembro, por suspeita de desvio de recursos públicos por meio de emendas parlamentares. De acordo com o recorte do levantamento do Datafolha, 23% consideram regular e apenas 15% acham “ótimo ou bom”. A margem de erro é de 2 pontos percentuais. Na comparação com o primeiro ano do governo Bolsonaro, 50% opinaram o combate à corrupção como “ruim ou péssimo”, 29% acharam “ótimo ou bom” e 19% regular.
                """


rev_oeste_3 = """
                Contudo, não apenas dessa, pois as reuniões e cerimônias paralelas ocorridas durante a COP-27 no Egito, em 2022, mostraram que o leque religioso é bem mais amplo, desvendando o aspecto e a profundeza espiritual do assunto. Assim, o tema é escancarado. Está aí para que todos vejam e liguem os pontos. Não tem nada de ares conspiracionistas como querem proclamar os envolvidos no controle das mídias de forma a tratar os que os refutam como loucos.
                 """


rev_oeste_4 = """
                Deixando os aspectos metafísicos de lado por um momento, vejamos pelo ângulo da análise científica. O ponto primordial é que levantaram uma hipótese e a corroboraram como verdadeira, ou seja, tornaram-na uma teoria, sem apresentar as devidas evidências. Em outras palavras, não há no mundo real a prova física de que o CO2 cause aquecimento ou “mudança de clima” porque isto nunca foi verificado na história geológica do planeta. Se por um lado não há esta prova física, especialmente que seriam os humanos os que mais contribuiriam com o CO2, então a hipótese passa a ser “sustentada” por modelos de computador que não sabem simular a realidade climática e esse é um dos pontos em que Clauser bate de frente, assim como diversos outros climatologistas e meteorologistas que não aceitaram esse embuste por saberem o que esses modelos simulam.
                """


rev_oeste_5 = """
               Modelos não sabem simular o Sol, os oceanos, os vulcões, o solo, os ciclos biogeoquímicos e notoriamente o aspecto principal desempenhado pelas nuvens. Foi justamente neste último ponto que Clauser bateu com eficiência, deixando os erros escancarados. Na tentativa de contestá-lo, o jornal chamou alguns “especialistas” para tentar refutar Clauser, atacando-o e fazendo o diversionismo característico de sempre. Desta forma, não só devemos mostrar como eles estão errados, mas também expor o que eles mesmos praticaram no passado.
               """


rev_oeste_6 = """
               O jornal chamou Michael Mann, o arquiteto do F3 (famoso, fadado e fraudulento) “taco de hóquei”, aquele gráfico que omitia processos de aquecimento e resfriamento pretéritos, totalmente comprovados pela climatologia, e que fazia um aquecimento abrupto no século XX. Nesta subida final de seu gráfico, Mann, utilizando-se da dendroclimatologia (climatologia estudada através dos anéis de árvores), escolheu à dedo os dados de menos de dez árvores e aplicou um algoritmo viciado que ampliava os valores ao extremo. Foi devidamente desmascarado por Stephen McIntyre e Ross McKitrick, em 2005. Mann teve apoio de Phill Jones, outro pesquisador climático de escritório que trocou mensagens dizendo ter conseguido elaborar um truque para disfarçar os dados reais. Contestado pelo famoso climatologista, professor Timothy Francis Ball (1938-2022), Mann apelou aos tribunais contra Ball. Nas contestações, nunca trouxe as provas solicitadas pelo tribunal e acabou condenado a pagar as custas processuais por perda (proposital) de prazo.
                """


rev_oeste_7 = """
                O que Mann e o outro pesquisador de “ciências atmosféricas”, Andrew Dessler disseram sobre as nuvens mostra o quanto escritórios fazem mal à ciência meteorológica. Eles continuam a insistir que o sinal climático de nuvens é positivo (causam aquecimento), utilizando o falso processo de retroalimentação do vapor d’água, ignorando os fatos do mundo real e só se concentrando no que os seus modelos foram programados para dizer. São verdadeiros omissos porque o próprio IPCC admite que “não sabe o papel fundamental das nuvens”. Então Mann e Dessler devem ser verdadeiros oráculos climáticos.
                """


rev_oeste_8 = """
                As nuvens baixas, especialmente as do tipo Cumulus refletem enorme quantidade de energia proveniente do Sol, devolvendo-a para o espaço. Seu sinal é negativo. Quanto à energia proveniente de onda longa da superfície, elas atuam como amortecedoras. Só atrasam a perda, não a bloqueiam e muito menos fazem aquecer. Absurdo criar energia do nada. A influência das nuvens Cumulus é muito importante, especialmente porque são as que cobrem vastas áreas da superfície do planeta, moderando diretamente o saldo de radiação solar que entra, interferindo no suprimento de energia que será transformado para compor a radiação terrestre. Há uma dependência desta última do que chega primeiro do Sol.
                """


rev_oeste_9 = """
              Assim, não faz o menor sentido o que Mann e Dessler falam. Aliás, a “laia” que Dessler cita jocosamente no jornal estadunidense como “os céticos ao consenso climático”, não corrobora com o que ele e os da sua trupe aceitam sem nenhuma contestação como os escândalos do ClimateGate I, II e III; a publicação errônea dos gráficos de temperaturas do BEST; as diversas nações que estariam encobertas pelo mar até 2000; o degelo do Ártico que não houve em 2012, segundo os modelos da NOAA de 1985; o absurdo fim do Himalaia até 2035; o fim da Groenlândia em 2005; o aquecimento exagerado dos modelos de clima do mundo que não se constataram em cerca de um terço do tempo do século XXI; medições de temperatura com erro para mais de 1,0.
              """


rev_oeste_10 = """
             Recentemente, vimos novamente o professor John Francis Clauser, laureado com o prêmio Nobel, ser atacado pelas mídias, por mostrar que não há uma emergência ou crise climática como alardearam nos últimos 35 anos, de forma oficial pelo IPCC — o painel climático da ONU. A origem da empreitada contra Clauser nasceu desta vez no jornal The Washington Post e foi traduzido para diversos jornais do mundo, incluindo o Brasil.Na matéria, baseada na entrevista concedida durante convenção no hotel Four Seasons, de Baltimore (EUA), os presentes palestrantes, onde Clauser era um deles, declararam o que hoje já está cristalino para muitas pessoas, mas é tratado pela imprensa marrom como “conspiração global”, já que não conseguem enxergar, ou fingem não conseguir: que a fraude das “mudanças climáticas” é claramente arquitetada pelas ONU, FEM (Fórum Econômico Mundial) e infelizmente, por alguns líderes da Igreja Católica.Contudo, não apenas dessa, pois as reuniões e cerimônias paralelas ocorridas durante a COP-27 no Egito, em 2022, mostraram que o leque religioso é bem mais amplo, desvendando o aspecto e a profundeza espiritual do assunto. Assim, o tema é escancarado. Está aí para que todos vejam e liguem os pontos. Não tem nada de ares conspiracionistas como querem proclamar os envolvidos no controle das mídias de forma a tratar os que os refutam como loucos.Deixando os aspectos metafísicos de lado por um momento, vejamos pelo ângulo da análise científica. O ponto primordial é que levantaram uma hipótese e a corroboraram como verdadeira, ou seja, tornaram-na uma teoria, sem apresentar as devidas evidências. Em outras palavras, não há no mundo real a prova física de que o CO2 cause aquecimento ou “mudança de clima” porque isto nunca foi verificado na história geológica do planeta. Se por um lado não há esta prova física, especialmente que seriam os humanos os que mais contribuiriam com o CO2, então a hipótese passa a ser “sustentada” por modelos de computador que não sabem simular a realidade climática e esse é um dos pontos em que Clauser bate de frente, assim como diversos outros climatologistas e meteorologistas que não aceitaram esse embuste por saberem o que esses modelos simulam.Modelos não sabem simular o Sol, os oceanos, os vulcões, o solo, os ciclos biogeoquímicos e notoriamente o aspecto principal desempenhado pelas nuvens. Foi justamente neste último ponto que Clauser bateu com eficiência, deixando os erros escancarados. Na tentativa de contestá-lo, o jornal chamou alguns “especialistas” para tentar refutar Clauser, atacando-o e fazendo o diversionismo característico de sempre. Desta forma, não só devemos mostrar como eles estão errados, mas também expor o que eles mesmos praticaram no passado.O jornal chamou Michael Mann, o arquiteto do F3 (famoso, fadado e fraudulento) “taco de hóquei”, aquele gráfico que omitia processos de aquecimento e resfriamento pretéritos, totalmente comprovados pela climatologia, e que fazia um aquecimento abrupto no século XX. Nesta subida final de seu gráfico, Mann, utilizando-se da dendroclimatologia (climatologia estudada através dos anéis de árvores), escolheu à dedo os dados de menos de dez árvores e aplicou um algoritmo viciado que ampliava os valores ao extremo. Foi devidamente desmascarado por Stephen McIntyre e Ross McKitrick, em 2005. Mann teve apoio de Phill Jones, outro pesquisador climático de escritório que trocou mensagens dizendo ter conseguido elaborar um truque para disfarçar os dados reais. Contestado pelo famoso climatologista, professor Timothy Francis Ball (1938-2022), Mann apelou aos tribunais contra Ball. Nas contestações, nunca trouxe as provas solicitadas pelo tribunal e acabou condenado a pagar as custas processuais por perda (proposital) de prazo.O que Mann e o outro pesquisador de “ciências atmosféricas”, Andrew Dessler disseram sobre as nuvens mostra o quanto escritórios fazem mal à ciência meteorológica. Eles continuam a insistir que o sinal climático de nuvens é positivo (causam aquecimento), utilizando o falso processo de retroalimentação do vapor d’água, ignorando os fatos do mundo real e só se concentrando no que os seus modelos foram programados para dizer. São verdadeiros omissos porque o próprio IPCC admite que “não sabe o papel fundamental das nuvens”. Então Mann e Dessler devem ser verdadeiros oráculos climáticos.As nuvens baixas, especialmente as do tipo Cumulus refletem enorme quantidade de energia proveniente do Sol, devolvendo-a para o espaço. Seu sinal é negativo. Quanto à energia proveniente de onda longa da superfície, elas atuam como amortecedoras. Só atrasam a perda, não a bloqueiam e muito menos fazem aquecer. Absurdo criar energia do nada. A influência das nuvens Cumulus é muito importante, especialmente porque são as que cobrem vastas áreas da superfície do planeta, moderando diretamente o saldo de radiação solar que entra, interferindo no suprimento de energia que será transformado para compor a radiação terrestre. Há uma dependência desta última do que chega primeiro do Sol.Assim, não faz o menor sentido o que Mann e Dessler falam. Aliás, a “laia” que Dessler cita jocosamente no jornal estadunidense como “os céticos ao consenso climático”, não corrobora com o que ele e os da sua trupe aceitam sem nenhuma contestação como os escândalos do ClimateGate I, II e III; a publicação errônea dos gráficos de temperaturas do BEST; as diversas nações que estariam encobertas pelo mar até 2000; o degelo do Ártico que não houve em 2012, segundo os modelos da NOAA de 1985; o absurdo fim do Himalaia até 2035; o fim da Groenlândia em 2005; o aquecimento exagerado dos modelos de clima do mundo que não se constataram em cerca de um terço do tempo do século XXI; medições de temperatura com erro para mais de 1,0Lembro-me do pronunciamento do Prof. Dr. Harold Warren Lewis (1923-2011), medalhado e Emérito em Física que, como membro da Sociedade Americana de Física (APS), enviou uma carta à instituição onde declarou: “Nesse ínterim, o escândalo ‘ClimateGate’ invadiu os noticiários, e as maquinações dos principais alarmistas foram reveladas ao mundo. Era uma fraude em uma escala que nunca vi e me faltam as palavras para descrever sua enormidade. Efeito sobre a posição da APS: nenhum. Nenhum mesmo. Isso não é ciência; outras forças estão a trabalhar”.Com uma afirmação destas e como o IPCC se nega a realizar auditorias eficazes em todas as fraudes que foram trazidas ao público, isso só deixa cada vez mais claro para que serve esse painel político-científico, aumentando a desconfiança geral do mundo sobre as suas atribuições. Então, quando um jornal acusa essas mesmas desconfianças dos críticos de “teorias conspiratórias”, recusa-se a descortinar a evidente mentira, pois aceitam a omissão da investigação dos piores casos de falta de lisura científica.Aliás, temos que lembrar um ponto importante da “ciência climática” realizada pelos embusteiros. Ela é tão consolidada que eles precisam apelar para um princípio jurídico, o da precaução. Se existissem evidências, elas bastariam, mas como elas são fabricadas em modelos fantasiosos, melhor garantir por outros meios a fraude climática, não é mesmo?Também não podemos deixar de citar que o IPCC não quis se manifestar sobre os pronunciamentos de Clauser porque sabe da ineficiência dos modelos que eles usam, especialmente quando o próprio IPCC “confessa” em seus relatórios que suas “certezas centrais” (para um bom entendedor, significa “não temos a menor ideia de como isto funciona”) incluíam os entes naturais, especialmente as nuvens.Clauser não usa de sua estatura de laureado pelo Nobel para enganar o público a respeito de uma emergência planetária, como disseram os embusteiros climáticos e o jornal original da matéria. Ele usa do argumento da verdade como autoridade. Quem usa a “autoridade” como verdade, baseado em falso consenso científico foram justamente os que o afrontaram, os “especialistas” que consideram centésimo de grau Celsius relevante em medição de temperatura do ar média, em relação ao planeta inteiro.Paralela a esta “alta relevância científica”, temos as “relevâncias pessoais” utilizadas por todas as mídias como padrão de dissimulação, objetivando tirar o foco do ponto central. São tentativas de refutar argumentos por desmerecimento da pessoa que os apresenta. No caso do jornal em tela, tivemos a inclusão do tipo de roupa que Clauser usou, corte de cabelo, quem paga as suas contas, número de pessoas a assisti-lo, faltando apenas o tipo de papel higiênico utilizado no dia.Importante citar que Clauser foi inovador e saiu do consenso em sua pesquisa, segundo ele, “houve um consenso esmagador sobre eu estar fazendo algo sem sentido, nos anos 1970″, e concluiu, “Levou 50 anos para o meu trabalho ganhar o prêmio — é o tempo que leva para as opiniões mudarem”. Nesse ponto, é exatamente o que afirmara John Michael Crichton (1942‑2008), famoso escritor estadunidense, autor de diversas obras, incluindo as que relatavam a falsa ideia de emergência climática. Crichton, um dos mais famosos céticos do “aquecimento global antropogênico”, afirmava que “Os maiores cientistas da História são grandes precisamente porque romperam com o consenso. Não existe tal coisa como a Ciência Consenso. Se isso é Ciência, não é consenso. Se é consenso, não é Ciência.”. Só discordo de Clauser em um aspecto: que não temos 50 anos para que as pessoas entendam o problema que o embuste causará na sociedade, privando-a de tudo do meio natural.Vale lembrar também de outro laureado com o Nobel em Física, doutor Ivar Giaever e sua declaração realizada há mais de dez anos: “Eu sou um cético, (…) O aquecimento global está se tornando uma nova religião. Não se supõem que você seja contra o aquecimento global. Você basicamente não tem escolha. E eu lhes digo quantos cientistas apoiam isto. Mas o número de cientistas não é importante. A única coisa importante é se os cientistas estão corretos; esta é a parte importante”.Foi interessante ver que Dr. Clauser atendeu ao chamado dos católicos, provavelmente porque estão alarmados com o papa Francisco adorando deuses da natureza em detrimento de Jesus Cristo. Dizem que Clauser se declara ateu. Talvez, atendendo cada vez mais às demandas de palestras para os cristãos, desmistificando o “Apocalipse Climático”, ele acabe aceitando Jesus, faltando então apenas isto para que ele tenha a sua salvação plena, porque as obras “aquecimentistas” de adoração a Satanás, essas, ele já negou.
             """





rev_carta_cap_1 = """
                O presidente Lula (PT) afirmou nesta sexta-feira 8 que as eleições municipais de 2024 devem reeditar sua disputa contra o ex-presidente Jair Bolsonaro (PL). A declaração foi concedida na abertura da conferência eleitoral do PT, que começará a definir os rumos do partido para o pleito do ano que vem. "Sinceramente, acho que essa eleição será outra vez Lula e Bolsonaro disputando nos municípios. E vocês sabem que não pode aceitar provocação, não pode ficar com medo, não pode ficar com vergonha, não pode enfiar o rabo no meio das pernas", alertou o presidente. "Vamos fazer as eleições mais competitivas, mas a gente não terá medo de ninguém. O único medo que a gente tem de ter é o de trair a expectativa que o povo brasileiro tem no PT e nos nossos aliados." Lula ainda declarou que o governo tem muito a mostrar em seus primeiros 12 meses, mas avaliou que esse não será o ponto central para conquistar vitórias em 2024. "O que vai ajudar a gente a ganhar as eleições é a gente ter coragem de fazer o embate político e ideológico com os nossos adversários, para que a gente possa mostrar as diferenças dos projetos de cidades que cada um de vocês vai construir." Por decisão do Tribunal Superior Eleitoral, Jair Bolsonaro está inelegível pelos próximos oito anos.
                """


rev_carta_cap_2 = """
             A declaração de Silvio Almeida foi dada durante sessão pública para celebrar os 75 anos da Declaração Universal dos Direitos Humanos da Organização das Nações Unidas.O Conselho Nacional de Direitos Humanos (CNDH) realizou, nesta sexta-feira 8, uma sessão pública para celebrar os 75 anos da Declaração Universal dos Direitos Humanos da Organização das Nações Unidas (ONU).Durante o ato, o ministro dos Direitos Humanos e da Cidadania, Silvio Almeida, destacou que as noções de direitos humanos vivem em constante disputa. E especificamente sobre o Brasil, o ministro entende que vivemos um momento de divisão ainda mais acentuado.Para Silvio Almeida, o capitalismo em crise e as violações constantes dos direitos humanos no país alimentam a ideologia política do fascismo de maneira particular. “No Brasil, as crises são permanentes por conta da nossa condição de dependência econômica, que a gente insiste em não se livrar mesmo quando tem oportunidade de fazê-lo. O Brasil é um país insensível à democracia e à participação popular”.O ministro defendeu que, neste momento de celebração do 75º aniversário da declaração da ONU, “é preciso avançar em direção ao futuro, pois ainda não há garantia de respeito aos diretos humanos no país”.“Quero também celebrar o Conselho Nacional de Direitos Humanos, celebrar a Política Nacional de Direitos Humanos, que se faz em consonância com uma política internacional de direitos humanos, que está em luta e em construção. Não está nada dado. Não está nada posto. Nós temos que pôr isso na luta constante, no debate, na disputa ideológica. O campo dos direitos humanos se tornou principal ponto da disputa ideológica sobre o sentido do mundo”, afirmou.A coordenadora residente da ONU Brasil, Silvia Rucks, avalia que, pelo mundo, a Declaração Universal dos Direitos Humanos fortaleceu movimentos sociais pelos direitos de trabalhadores, ajudou a diminuir muitas formas de discriminação, como de raça, etnia, religião, contra pessoas com deficiência. E que o Brasil também teve progressos.“No Brasil, ajudou a construir instituições do estado de direito imparciais, transparentes e acessíveis. Orientou o enorme progresso na educação, na saúde, na proteção social. Demonstrou que quando há maior liberdade, as decisões políticas ficam mais seguramente ancoradas na vontade do povo”, disse.O chefe Adjunto da Delegação da União Europeia (UE) no Brasil, Jean-Pierre Bou, detalhou ações no território brasileiro, em parceria com instituições nacionais, com o apoio aos defensores dos direitos humanos às organizações indígenas, organizações não governamentais em geral e apoio a mais de 30 projetos relativos à igualdade de gênero, empoderamento das mulheres, inclusão econômica e social e luta contra as desigualdades.Jean-Pierre Bou defende que o Brasil e a UE, juntos, devem continuar a valorizar a democracia e a defesa dos direitos humanos, além das relações comerciais e dos intercâmbios culturais. “É imperativo que reforcemos essa parceria para enfrentar desafios”.Segundo o representante da UE, a volta do país ao Conselho de Direitos Humanos da ONU, em 2024, contribuirá para intercâmbios mais intensos sobre múltiplas questões e o Brasil poderá alavancar sua influência diplomática para defender os direitos humanos mundo afora.“A União Europeia e o Brasil, enquanto defensores da democracia, têm a responsabilidade de promover e proteger a dignidade e os direitos de todas as pessoas, tanto dentro das suas fronteiras, como na cena internacional”, disse.A sessão pública que celebrou os 75 anos da Declaração Universal dos Direitos Humanos da ONU contou com a presença, ainda, de representantes da Defensoria Pública da União, do Ministério público e de diversos movimentos de luta sociais.
             """


rev_carta_cap_3 = """
               A Procuradoria-Geral de Justiça de São Paulo informou nesta sexta-feira 8 a abertura de uma investigação contra o promotor aposentado Marcelo Millani, que admitiu ter denunciado por vingança o ex- prefeito paulistano e atual ministro da Fazenda, Fernando Haddad (PT).Millani trabalhava na Promotoria de Defesa do Patrimônio Público, setor do MP responsável por investigar crimes de corrupção e improbidade administrativa.O MP-SP avaliará a conduta de seu ex-integrante após ele afirmar ter se “excedido em sua conduta e ajuizado ações de improbidade administrativa” contra Haddad.Ele ofereceu a denúncia em 2017, após Haddad relatar ter recebido a informação de que Millani teria pedido 1 milhão de reais em propina para não apresentar uma ação judicial contra a Odebrecht.A admissão de culpa de Millani ocorreu em um acordo firmado entre ele e Haddad para encerrar uma ação judicial movida pelo promotor aposentado contra o petista por crimes contra a honra.No acordo, homologado pelo Superior Tribunal de Justiça, Millani admite que, em razão da acusação de perseguição política feita por Haddad e “com uma má interpretação da conduta” do ex-prefeito, protocolou quatro ações.O MP-SP ainda informou nesta sexta que, caso os fatos narrados sejam comprovados, ajuizará uma ação judicial visando a cassação da aposentadoria do ex-promotor.
               """


rev_carta_cap_4 = """
               O Tribunal Regional Federal da 1ª Região condenou o deputado federal Nikolas Ferreira (PL-MG) a pagar 2 mil reais à senadora Eliziane Gama (PSD-MA) e à União por ter acionado a Justiça contra a parlamentar em um processo “sem fundamento”.O bolsonarista solicitou à relatora da CPMI do 8 de Janeiro que tornasse pública a prestação de contas de seu gabinete, alegando um suposto uso indevido de recursos públicos para promoção do mandato. Os dados requisitados, no entanto, já estavam disponíveis no Portal da Transparência do Senado.Na decisão, a juíza federal substituta Liviane Kelly Soares Vasconcelos destaca que a ação popular movida por Nikolas não obedece aos requisitos legais.“A lei da ação popular não ampara a pretensão do autor, uma vez que cabe ao cidadão diligenciar administrativamente para obter as provas necessárias para comprovar os fatos alegados na inicial ou, caso não obtenha os documentos administrativamente, ajuizar a própria ação popular comprovando a negativa no fornecimento das informações. Não há, portanto, fundamento para o ajuizamento de ação ‘preparatória’ de ação popular”, decidiu a magistrada.
               """


rev_carta_cap_5 = """
                Uma pesquisa Datafolha divulgada nesta quinta-feira 7 mostra que o presidente Lula (PT) continua a enfrentar resistência entre os evangélicos, que compõem 28% do eleitorado brasileiro. A reprovação ao petista nesse grupo é de 38%, enquanto entre os católicos esse índice é de 28% (52% da população ouvida). No geral, segundo o levantamento, Lula fecha o ano em estabilidade, com 38% de aprovação, enquanto 30% consideram seu trabalho regular e outros 30% o definem como ruim ou péssimo. Na rodada anterior, de setembro, os índices eram, respectivamente, de 38%, 30% e 31%. O Datafolha ouviu 2.004 eleitores em 135 cidades na terça-feira 5. A margem de erro é de 2 pontos.
                """


rev_carta_cap_6 = """
              O depoimento prestado ao Tribunal Regional Eleitoral do Paraná nesta quinta-feira 7 por Sergio Moro (União-PR) encerra a fase de instrução processual em duas ações que podem levar à cassação do mandato do senador. Até a semana que vem, a defesa do ex-juiz deve apresentar suas alegações finais. Com o cumprimento das últimas pendências das ações, o caso pode ir a julgamento na Corte no início de 2024. Em junho, o TRE-PR decidiu analisar em conjunto duas ações de investigação contra Moro - uma delas protocolada pela federação PT/PV/PCdoB, outra pelo PL do Paraná. Conforme apurou CartaCapital, o PL projeta que a ação irá a julgamento no Tribunal Superior Eleitoral às vésperas das eleições municipais de 2024. Independentemente do resultado no TRE, a parte derrotada acionará o TSE para reverter a decisão. O depoimento de Moro nesta quinta durou menos de uma hora. Ele respondeu às perguntas do desembargador Luciano Carrasco Falavinha Souza, mas não se manifestou sobre os questionamentos dos advogados de PL e PT. "Em relação aos advogados, foram propostas ações levianas, cujos fatos não foram demonstrados. Eles têm que demonstrar aquilo que eles afirmam. Eu, pessoalmente, me sinto agredido em relação a esses fatos. Tudo foi feito segundo as regras", alegou Moro, após a oitiva. O depoimento prestado ao Tribunal Regional Eleitoral do Paraná nesta quinta-feira 7 por Sergio Moro (União-PR) encerra a fase de instrução processual em duas ações que podem levar à cassação do mandato do senador. Até a semana que vem, a defesa do ex-juiz deve apresentar suas alegações finais. Com o cumprimento das últimas pendências das ações, o caso pode ir a julgamento na Corte no início de 2024. Em junho, o TRE-PR decidiu analisar em conjunto duas ações de investigação contra Moro - uma delas protocolada pela federação PT/PV/PCdoB, outra pelo PL do Paraná. Conforme apurou CartaCapital, o PL projeta que a ação irá a julgamento no Tribunal Superior Eleitoral às vésperas das eleições municipais de 2024. Independentemente do resultado no TRE, a parte derrotada acionará o TSE para reverter a decisão. O depoimento de Moro nesta quinta durou menos de uma hora. Ele respondeu às perguntas do desembargador Luciano Carrasco Falavinha Souza, mas não se manifestou sobre os questionamentos dos advogados de PL e PT. "Em relação aos advogados, foram propostas ações levianas, cujos fatos não foram demonstrados. Eles têm que demonstrar aquilo que eles afirmam. Eu, pessoalmente, me sinto agredido em relação a esses fatos. Tudo foi feito segundo as regras", alegou Moro, após a oitiva.
              """


rev_carta_cap_7 = """
               O Senado aprovou nesta quarta-feira 6 a criação da Política Nacional de Trabalho Digno para a população em situação de rua, que prioriza o acesso ao trabalho, renda e qualificação profissional a quem está em vulnerabilidade social. O projeto tem autoria da deputada federal Erika Hilton (PSOL-SP). Resta agora a sanção do presidente Luiz Inácio Lula da Silva (PT). A proposta aprovada nesta quarta também prevê a prioridade das pessoas em situação de rua aos programas sociais e de habitação do governo. Todas as medidas propostas no projeto não impedirão o recebimento de outros beneficios ofertados pelo governo federal, como o Bolsa Família Segundo o relator do projeto no Senado, Paulo Paim (PT), a política nacional ficará condicionada à frequência escolar ou à realização de um curso técnico ou universitário. Para a execução, a política de trabalho digno contará com uma parceria entre o governo federal, estaduais e municipais para localizar essa parcela população em cada região e garantir a oferta aos cursos ou vagas em escolas. Em paralelo, o projeto também promoverá a oferta gratuita de espaços seguros para a guarda de objetos pessoais e material escolar enquanto o beneficiário ainda não é atendido pelos programas habitacionais. Outra etapa aprovada no texto da deputada também prevê a emissão de documentos, como RG, CPF e a carteira do trabalhador.
               """


rev_carta_cap_8 = """
               O líder do governo Lula (PT) no Congresso Nacional, senador Randolfe Rodrigues (sem partido-AP), afirmou nesta segunda-feira 11 que deve ocorrer nesta semana a divulgação de uma proposta alternativa à desoneração da folha de pagamentos. A declaração foi concedida após uma reunião com líderes parlamentares e ministros no Palácio do Planalto. Em novembro, Lula vetou a prorrogação até 2027 da desoneração da folha para 17 setores da economia. Nesta segunda, o ministro da Fazenda, Fernando Haddad (PT), disse após a reunião no Planalto que a proposta alternativa será apresentada depois da votação pelo Congresso de importantes projetos da agenda econômica, nesta semana. "Já está submetida ao presidente, que aprovou a maneira como a gente está conduzindo as coisas, e não tratamos ainda com os líderes sobre o assunto", detalhou o ministro. "Mas o compromisso nosso, desde o começo eu falei: aprovada a reforma tributária, vamos resolver esse problema." Sem a desoneração, as empresas teriam de arcar com impostos equivalentes a 20% da folha de pagamentos. O projeto aprovado pelo Legislativo e vetado por Lula permite que os empresários passem a pagar uma alíquota de 1% a 4,5% sobre a receita bruta.
               """


rev_carta_cap_9 = """
                    O grupo de brasileiros que acha que o Brasil está melhor em 2023, na gestão de Lula (PT), do que estava em 2022, sob comando de Jair Bolsonaro (PL), saltou de 39% para 49% nos últimos 12 meses. O crescimento aparece na nova edição da pesquisa Ipespe/Febraban, divulgada nesta sexta-feira 8.O volume registrado hoje, vale dizer, é semelhante ao da pesquisa imediatamente anterior, de outubro deste ano. Na comparação com abril, data da primeira pesquisa veiculada pelo instituto em 2023, o salto é ainda maior, de 12 pontos percentuais.A pesquisa ainda mostra que caiu 14 pontos, desde dezembro do ano passado, a parcela de brasileiros que diziam que o País está pior naquele momento. Nesta sexta, o grupo soma apenas 20%. Era 34% em dezembro de 2022. Na primeira pesquisa do ano, de abril, o grupo somava 25%.“A percepção de melhoria do país ultrapassa os 50% entre as mulheres (53%), na faixa de idade de 25 a 44 anos (51%) e entre os que vivem no Nordeste (55%) “, diz ainda o instituto na divulgação do levantamento.O levantamento desta sexta-feira também mostrou uma alta no otimismo da população para 2024. “Quase seis em cada dez entrevistados 59 acreditam que o Brasil vai melhorar em 2024 quatro pontos a mais que no mesmo período de 2022 55 quando o país avistava a posse do Presidente eleito”, destaca o Ipespe.Os pessimistas, mostra a pesquisa, caíram de 26% para 17%. Quem não espera melhora e nem piora na situação do país era 13% e hoje soma 21%.Novamente, o otimismo é maior entre mulheres (60%), mais jovens (60%) e nos entrevistados que vivem no Nordeste do Brasil (65%).O Ipespe realizou 2.000 entrevistas por telefone entre os dias 29 de novembro e 2 de dezembro de 2023. A margem de erro é de 2,2 pontos percentuais, com nível de confiança de 95,5%.
                    """


rev_carta_cap_10 = """
               O governo Lula (PT) é aprovado por 51% dos brasileiros, aponta uma pesquisa Ipespe/Febraban divulgada nesta sexta-feira 8. Outros 42% desaprovam, enquanto 7% não quiseram responder. De acordo com o levantamento, a aprovação é mais expressiva entre mulheres (55%) e os jovens de 18 a 24 anos (54%). A pesquisa ainda mostra que para a maioria dos entrevistados a prioridade do governo no próximo ano deve ser reduzir ainda mais o desemprego no País. Com um terço das menções (32%), Emprego e Renda vem à frente de Saúde (26%) e Educação (12%). Sobre as perspectivas para o futuro, quase seis em cada dez entrevistados (59%) acreditam que o Brasil vai melhorar em 2024, quatro pontos a mais que no mesmo período de 2022 (55%). Em dimensão pessoal/familiar, as projeções são mais elevadas, para estes, a perspectiva de melhora é de 74%, mesmo número levantado pelo instituto em dezembro do ano passado. O instituto entrevistou 2.000 pessoas de todas as regiões do País entre 29 de novembro e 02 de fevereiro. A margem de erro máxima estimada é de 2,2 pontos percentuais, considerando um intervalo de confiança de 95,5%.
               """


import pandas as pd


noticias = [rev_oeste_1, rev_oeste_2, rev_oeste_3, rev_oeste_4, rev_oeste_5, rev_oeste_6, rev_oeste_7, rev_oeste_8,
            rev_oeste_9, rev_oeste_10, rev_carta_cap_1, rev_carta_cap_2, rev_carta_cap_3, rev_carta_cap_4,
            rev_carta_cap_5, rev_carta_cap_6, rev_carta_cap_7, rev_carta_cap_8, rev_carta_cap_9, rev_carta_cap_10]

# Criar DataFrame a partir da lista de strings
df_oeste_capital = pd.DataFrame({'Conteudo': noticias})
df_oeste_capital.to_csv('noticias-teste-oeste-cart_capital.csv', index=False)


df_oeste_capital



