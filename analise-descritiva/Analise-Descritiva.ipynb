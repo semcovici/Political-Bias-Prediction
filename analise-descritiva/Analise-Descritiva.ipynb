{
 "cells": [
  {
   "cell_type": "code",
   "execution_count": 6,
   "id": "d33f7190-b82e-48d1-8ed2-30be2faee117",
   "metadata": {
    "tags": []
   },
   "outputs": [],
   "source": [
    "import pandas as pd\n",
    "import nltk\n",
    "from nltk.tokenize import word_tokenize\n",
    "import matplotlib.pyplot as plt\n",
    "import numpy as np"
   ]
  },
  {
   "cell_type": "code",
   "execution_count": 7,
   "id": "2eacd470-1128-4c59-84d0-591cbef21245",
   "metadata": {
    "tags": []
   },
   "outputs": [
    {
     "data": {
      "text/html": [
       "<div>\n",
       "<style scoped>\n",
       "    .dataframe tbody tr th:only-of-type {\n",
       "        vertical-align: middle;\n",
       "    }\n",
       "\n",
       "    .dataframe tbody tr th {\n",
       "        vertical-align: top;\n",
       "    }\n",
       "\n",
       "    .dataframe thead th {\n",
       "        text-align: right;\n",
       "    }\n",
       "</style>\n",
       "<table border=\"1\" class=\"dataframe\">\n",
       "  <thead>\n",
       "    <tr style=\"text-align: right;\">\n",
       "      <th></th>\n",
       "      <th>Partido</th>\n",
       "      <th>Conteudo</th>\n",
       "      <th>URL</th>\n",
       "      <th>Vies</th>\n",
       "    </tr>\n",
       "  </thead>\n",
       "  <tbody>\n",
       "    <tr>\n",
       "      <th>0</th>\n",
       "      <td>Novo</td>\n",
       "      <td>Multa imposta ao candidato na condenação foi...</td>\n",
       "      <td>https://novo.org.br/plenario-do-tse-acata-acao...</td>\n",
       "      <td>direita</td>\n",
       "    </tr>\n",
       "    <tr>\n",
       "      <th>1</th>\n",
       "      <td>Novo</td>\n",
       "      <td>Cadastro será usado como identificação junt...</td>\n",
       "      <td>https://novo.org.br/aprovado-na-camara-o-subst...</td>\n",
       "      <td>direita</td>\n",
       "    </tr>\n",
       "    <tr>\n",
       "      <th>2</th>\n",
       "      <td>Novo</td>\n",
       "      <td>A Bancada do NOVO na Câmara considera temerá...</td>\n",
       "      <td>https://novo.org.br/bancada-do-novo-requer-urg...</td>\n",
       "      <td>direita</td>\n",
       "    </tr>\n",
       "    <tr>\n",
       "      <th>3</th>\n",
       "      <td>Novo</td>\n",
       "      <td>Um ambiente com ausência de segurança juríd...</td>\n",
       "      <td>https://novo.org.br/aprovado-em-1-turno-projet...</td>\n",
       "      <td>direita</td>\n",
       "    </tr>\n",
       "    <tr>\n",
       "      <th>4</th>\n",
       "      <td>Novo</td>\n",
       "      <td>Segundo o MP, o estado do RJ sequer utiliza os...</td>\n",
       "      <td>https://novo.org.br/adriana-balthazar-atua-con...</td>\n",
       "      <td>direita</td>\n",
       "    </tr>\n",
       "  </tbody>\n",
       "</table>\n",
       "</div>"
      ],
      "text/plain": [
       "  Partido                                           Conteudo  \\\n",
       "0    Novo  Multa imposta ao candidato na condenação foi...   \n",
       "1    Novo  Cadastro será usado como identificação junt...   \n",
       "2    Novo  A Bancada do NOVO na Câmara considera temerá...   \n",
       "3    Novo  Um ambiente com ausência de segurança juríd...   \n",
       "4    Novo  Segundo o MP, o estado do RJ sequer utiliza os...   \n",
       "\n",
       "                                                 URL     Vies  \n",
       "0  https://novo.org.br/plenario-do-tse-acata-acao...  direita  \n",
       "1  https://novo.org.br/aprovado-na-camara-o-subst...  direita  \n",
       "2  https://novo.org.br/bancada-do-novo-requer-urg...  direita  \n",
       "3  https://novo.org.br/aprovado-em-1-turno-projet...  direita  \n",
       "4  https://novo.org.br/adriana-balthazar-atua-con...  direita  "
      ]
     },
     "execution_count": 7,
     "metadata": {},
     "output_type": "execute_result"
    }
   ],
   "source": [
    "df = pd.read_csv('../dataset/processed/artigos_de_partidos/artigos_partidos.csv')\n",
    "df.head()"
   ]
  },
  {
   "cell_type": "code",
   "execution_count": 8,
   "id": "64b375ed-89a5-4294-a77b-987f65bbcf89",
   "metadata": {},
   "outputs": [
    {
     "data": {
      "text/plain": [
       "(11713, 4)"
      ]
     },
     "execution_count": 8,
     "metadata": {},
     "output_type": "execute_result"
    }
   ],
   "source": [
    "df.shape"
   ]
  },
  {
   "cell_type": "code",
   "execution_count": 9,
   "id": "b4c1d100-b292-492a-8392-a862f5b5504f",
   "metadata": {},
   "outputs": [
    {
     "data": {
      "text/plain": [
       "Partido     0\n",
       "Conteudo    0\n",
       "URL         0\n",
       "Vies        0\n",
       "dtype: int64"
      ]
     },
     "execution_count": 9,
     "metadata": {},
     "output_type": "execute_result"
    }
   ],
   "source": [
    "df.isnull().sum()"
   ]
  },
  {
   "cell_type": "code",
   "execution_count": 5,
   "id": "2ed8f53a-6b01-4b74-9e14-6482e5ba206c",
   "metadata": {
    "tags": []
   },
   "outputs": [
    {
     "data": {
      "text/plain": [
       "(0, 4)"
      ]
     },
     "execution_count": 5,
     "metadata": {},
     "output_type": "execute_result"
    }
   ],
   "source": [
    "df[df['Conteudo'].isna()].shape"
   ]
  },
  {
   "cell_type": "code",
   "execution_count": 49,
   "id": "36324a4e-2f4a-40e6-a98d-1f896e4b3c57",
   "metadata": {
    "tags": []
   },
   "outputs": [
    {
     "data": {
      "text/plain": [
       "(8976, 4)"
      ]
     },
     "execution_count": 49,
     "metadata": {},
     "output_type": "execute_result"
    }
   ],
   "source": [
    "df.shape"
   ]
  },
  {
   "cell_type": "markdown",
   "id": "8823abee-7602-4a95-8ab3-242d8dfe2e17",
   "metadata": {},
   "source": [
    "# Proporção de labels"
   ]
  },
  {
   "cell_type": "code",
   "execution_count": 10,
   "id": "2cf34e74-dfad-445e-a5e5-1513d2a8817b",
   "metadata": {
    "tags": []
   },
   "outputs": [
    {
     "data": {
      "text/plain": [
       "array([46.6, 31.4, 22. ])"
      ]
     },
     "execution_count": 10,
     "metadata": {},
     "output_type": "execute_result"
    }
   ],
   "source": [
    "porcentagens = df['Vies'].value_counts().values / df.shape[0] * 100\n",
    "\n",
    "for i in range(len(porcentagens)):\n",
    "    porcentagens[i] = round(porcentagens[i], 1)  # Modify each element by doubling its value\n",
    "\n",
    "porcentagens"
   ]
  },
  {
   "cell_type": "code",
   "execution_count": 12,
   "id": "c0ac22a7-843d-41b9-b305-e9ff8484a1c7",
   "metadata": {
    "tags": []
   },
   "outputs": [
    {
     "data": {
      "image/png": "[encoded data removed]",
      "text/plain": [
       "<Figure size 640x480 with 1 Axes>"
      ]
     },
     "metadata": {},
     "output_type": "display_data"
    }
   ],
   "source": [
    "# Dados para o gráfico de pizza\n",
    "classes = df['Vies'].value_counts().index\n",
    "porcentagens  # Porcentagens para cada categoria\n",
    "\n",
    "# Cores para cada fatia (opcional)\n",
    "colors = ['lightgreen', 'lightcoral', 'lightskyblue', 'gold']\n",
    "\n",
    "# Criar o gráfico de pizza\n",
    "plt.pie(porcentagens, labels=classes, colors=colors, autopct='%1.1f%%', startangle=140)\n",
    "\n",
    "# Adicionar um título\n",
    "plt.title('Porcentagem de labels dos textos extraídos')\n",
    "\n",
    "plt.savefig('proporcao-labels.png')\n",
    "\n",
    "# Mostrar o gráfico\n",
    "plt.show()"
   ]
  },
  {
   "cell_type": "markdown",
   "id": "a3ba0fb4-6c80-4624-aa0a-8a36bcab3fd9",
   "metadata": {},
   "source": [
    "# Proporção de partidos"
   ]
  },
  {
   "cell_type": "markdown",
   "id": "730b1091-4361-40f8-ac97-5d303f997e5b",
   "metadata": {},
   "source": [
    "## Barras"
   ]
  },
  {
   "cell_type": "code",
   "execution_count": 13,
   "id": "f8084018-735e-488e-82b6-f1f7bc3308ac",
   "metadata": {
    "tags": []
   },
   "outputs": [
    {
     "data": {
      "text/plain": [
       "Partido\n",
       "PL              3385\n",
       "PSB             1762\n",
       "Novo            1197\n",
       "PV               868\n",
       "PSTU             627\n",
       "PCB              617\n",
       "PCDoB            602\n",
       "MDB              601\n",
       "PT               597\n",
       "PP               587\n",
       "PDT              447\n",
       "União Brasil     284\n",
       "Rede             124\n",
       "PSOL              15\n",
       "Name: count, dtype: int64"
      ]
     },
     "execution_count": 13,
     "metadata": {},
     "output_type": "execute_result"
    }
   ],
   "source": [
    "df['Partido'].value_counts()"
   ]
  },
  {
   "cell_type": "code",
   "execution_count": 14,
   "id": "a65d4217-4aa8-453c-b2e1-7772111d238e",
   "metadata": {
    "tags": []
   },
   "outputs": [],
   "source": [
    "classes = df['Partido'].value_counts().index"
   ]
  },
  {
   "cell_type": "code",
   "execution_count": 31,
   "id": "b85ea4a6-5cba-4410-b8fd-562304f82591",
   "metadata": {},
   "outputs": [
    {
     "data": {
      "text/plain": [
       "['PL',\n",
       " 'PSB',\n",
       " 'Novo',\n",
       " 'PV',\n",
       " 'PSTU',\n",
       " 'PCB',\n",
       " 'PCDoB',\n",
       " 'MDB',\n",
       " 'PT',\n",
       " 'PP',\n",
       " 'PDT',\n",
       " 'UNIÃO',\n",
       " 'Rede',\n",
       " 'PSOL']"
      ]
     },
     "execution_count": 31,
     "metadata": {},
     "output_type": "execute_result"
    }
   ],
   "source": [
    "classes = list(classes)\n",
    "classes[-3] = 'UNIÃO'\n",
    "classes"
   ]
  },
  {
   "cell_type": "code",
   "execution_count": 32,
   "id": "d6cbe131-2b04-444a-9eff-814bf86b8bfd",
   "metadata": {
    "tags": []
   },
   "outputs": [],
   "source": [
    "pos = np.arange(len(classes))"
   ]
  },
  {
   "cell_type": "code",
   "execution_count": 33,
   "id": "b5a2e16d-ead9-4513-aa48-56f696189ba1",
   "metadata": {
    "tags": []
   },
   "outputs": [],
   "source": [
    "qnt_linhas = df['Partido'].value_counts().values"
   ]
  },
  {
   "cell_type": "code",
   "execution_count": 34,
   "id": "6793d16a-1c4a-4132-9b4a-103fe23a1f4f",
   "metadata": {
    "tags": []
   },
   "outputs": [
    {
     "data": {
      "image/png": "[encoded data removed]",
      "text/plain": [
       "<Figure size 1000x800 with 1 Axes>"
      ]
     },
     "metadata": {},
     "output_type": "display_data"
    }
   ],
   "source": [
    "plt.figure(figsize=(10,8))\n",
    "bars = plt.bar(pos, qnt_linhas, align='center', linewidth=0)\n",
    "plt.xticks(pos, classes, alpha=0.8)\n",
    "plt.ylabel('Quantidade de textos')\n",
    "plt.title('Textos por partido', alpha=0.8)\n",
    "\n",
    "# remocao das bordas\n",
    "for spine in plt.gca().spines.values(): \n",
    "    spine.set_visible(False)\n",
    "\n",
    "# remocao dos labels y\n",
    "plt.yticks([])\n",
    "\n",
    "for bar in bars:\n",
    "\n",
    "    height = bar.get_height()\n",
    "    plt.gca().text(bar.get_x() + bar.get_width()/2, bar.get_height() + 10, str(int(height)), ha='center', color='black', fontsize=11)\n",
    "\n",
    "plt.savefig('textos-por-partido.png')"
   ]
  },
  {
   "cell_type": "code",
   "execution_count": 57,
   "id": "bbd532b3-5edd-4a6a-8379-79105b5ed483",
   "metadata": {
    "tags": []
   },
   "outputs": [],
   "source": [
    "# IDEIA: COLORIR BARRAS DE ACORDO COM VIES DO PARTIDO"
   ]
  },
  {
   "cell_type": "markdown",
   "id": "b2e9a7a2-1097-4e5d-881a-bba21b4ed121",
   "metadata": {},
   "source": [
    "# Tokens"
   ]
  },
  {
   "cell_type": "code",
   "execution_count": 35,
   "id": "1a7e6302-faa4-4bb3-9ee4-a118b06f1984",
   "metadata": {
    "tags": []
   },
   "outputs": [
    {
     "data": {
      "text/html": [
       "<div>\n",
       "<style scoped>\n",
       "    .dataframe tbody tr th:only-of-type {\n",
       "        vertical-align: middle;\n",
       "    }\n",
       "\n",
       "    .dataframe tbody tr th {\n",
       "        vertical-align: top;\n",
       "    }\n",
       "\n",
       "    .dataframe thead th {\n",
       "        text-align: right;\n",
       "    }\n",
       "</style>\n",
       "<table border=\"1\" class=\"dataframe\">\n",
       "  <thead>\n",
       "    <tr style=\"text-align: right;\">\n",
       "      <th></th>\n",
       "      <th>Partido</th>\n",
       "      <th>Conteudo</th>\n",
       "      <th>URL</th>\n",
       "      <th>Vies</th>\n",
       "    </tr>\n",
       "  </thead>\n",
       "  <tbody>\n",
       "    <tr>\n",
       "      <th>0</th>\n",
       "      <td>Novo</td>\n",
       "      <td>Multa imposta ao candidato na condenação foi...</td>\n",
       "      <td>https://novo.org.br/plenario-do-tse-acata-acao...</td>\n",
       "      <td>direita</td>\n",
       "    </tr>\n",
       "    <tr>\n",
       "      <th>1</th>\n",
       "      <td>Novo</td>\n",
       "      <td>Cadastro será usado como identificação junt...</td>\n",
       "      <td>https://novo.org.br/aprovado-na-camara-o-subst...</td>\n",
       "      <td>direita</td>\n",
       "    </tr>\n",
       "    <tr>\n",
       "      <th>2</th>\n",
       "      <td>Novo</td>\n",
       "      <td>A Bancada do NOVO na Câmara considera temerá...</td>\n",
       "      <td>https://novo.org.br/bancada-do-novo-requer-urg...</td>\n",
       "      <td>direita</td>\n",
       "    </tr>\n",
       "    <tr>\n",
       "      <th>3</th>\n",
       "      <td>Novo</td>\n",
       "      <td>Um ambiente com ausência de segurança juríd...</td>\n",
       "      <td>https://novo.org.br/aprovado-em-1-turno-projet...</td>\n",
       "      <td>direita</td>\n",
       "    </tr>\n",
       "    <tr>\n",
       "      <th>4</th>\n",
       "      <td>Novo</td>\n",
       "      <td>Segundo o MP, o estado do RJ sequer utiliza os...</td>\n",
       "      <td>https://novo.org.br/adriana-balthazar-atua-con...</td>\n",
       "      <td>direita</td>\n",
       "    </tr>\n",
       "  </tbody>\n",
       "</table>\n",
       "</div>"
      ],
      "text/plain": [
       "  Partido                                           Conteudo  \\\n",
       "0    Novo  Multa imposta ao candidato na condenação foi...   \n",
       "1    Novo  Cadastro será usado como identificação junt...   \n",
       "2    Novo  A Bancada do NOVO na Câmara considera temerá...   \n",
       "3    Novo  Um ambiente com ausência de segurança juríd...   \n",
       "4    Novo  Segundo o MP, o estado do RJ sequer utiliza os...   \n",
       "\n",
       "                                                 URL     Vies  \n",
       "0  https://novo.org.br/plenario-do-tse-acata-acao...  direita  \n",
       "1  https://novo.org.br/aprovado-na-camara-o-subst...  direita  \n",
       "2  https://novo.org.br/bancada-do-novo-requer-urg...  direita  \n",
       "3  https://novo.org.br/aprovado-em-1-turno-projet...  direita  \n",
       "4  https://novo.org.br/adriana-balthazar-atua-con...  direita  "
      ]
     },
     "execution_count": 35,
     "metadata": {},
     "output_type": "execute_result"
    }
   ],
   "source": [
    "df.head()"
   ]
  },
  {
   "cell_type": "code",
   "execution_count": 36,
   "id": "348ed0c9-60be-4780-8a68-4e1dc090c329",
   "metadata": {
    "tags": []
   },
   "outputs": [
    {
     "data": {
      "text/plain": [
       "Partido     0\n",
       "Conteudo    0\n",
       "URL         0\n",
       "Vies        0\n",
       "dtype: int64"
      ]
     },
     "execution_count": 36,
     "metadata": {},
     "output_type": "execute_result"
    }
   ],
   "source": [
    "df.isnull().sum()"
   ]
  },
  {
   "cell_type": "code",
   "execution_count": 37,
   "id": "a512d0a1-2ac6-4b3f-b801-ad4558e7e282",
   "metadata": {
    "tags": []
   },
   "outputs": [
    {
     "data": {
      "text/plain": [
       "Partido     0\n",
       "Conteudo    0\n",
       "URL         0\n",
       "Vies        0\n",
       "dtype: int64"
      ]
     },
     "execution_count": 37,
     "metadata": {},
     "output_type": "execute_result"
    }
   ],
   "source": [
    "df.dropna(inplace=True)\n",
    "df.isnull().sum()"
   ]
  },
  {
   "cell_type": "code",
   "execution_count": 38,
   "id": "f57a3c90-b54b-443a-ab31-5fb56cb62e1f",
   "metadata": {
    "tags": []
   },
   "outputs": [],
   "source": [
    "def contar_tokens(frase):\n",
    "    tokens = word_tokenize(frase)\n",
    "    return len(tokens)\n",
    "\n",
    "# Aplicar a função à coluna 'texto' e criar a coluna 'tokens'\n",
    "df['tokens'] = df['Conteudo'].apply(contar_tokens)"
   ]
  },
  {
   "cell_type": "markdown",
   "id": "38de3d7e-5c9f-4fe6-b5b3-dd2028a0f1d8",
   "metadata": {},
   "source": [
    "## Tokens médio do dataset"
   ]
  },
  {
   "cell_type": "code",
   "execution_count": 39,
   "id": "e422797f-b07f-48ac-a8d5-55f603ef13b5",
   "metadata": {
    "tags": []
   },
   "outputs": [
    {
     "name": "stdout",
     "output_type": "stream",
     "text": [
      "A média de tokens no dataset é de 519 tokens por texto\n"
     ]
    }
   ],
   "source": [
    "media_tokens = df['tokens'].mean()\n",
    "media_tokens = int(media_tokens)\n",
    "print(f'A média de tokens no dataset é de {media_tokens} tokens por texto')"
   ]
  },
  {
   "cell_type": "markdown",
   "id": "fe10d7ac-a390-42ab-b909-e14d05f601b4",
   "metadata": {},
   "source": [
    "## Tokens médio por viés"
   ]
  },
  {
   "cell_type": "code",
   "execution_count": 40,
   "id": "356ecdcc-280c-44ff-8320-c942f20f6a02",
   "metadata": {
    "tags": []
   },
   "outputs": [
    {
     "name": "stdout",
     "output_type": "stream",
     "text": [
      "Média de tokens por texto do viés\n",
      "-------------------------------------\n",
      "centro: média de 553.0 tokens por texto\n",
      "direita: média de 361.0 tokens por texto\n",
      "esquerda: média de 806.0 tokens por texto\n"
     ]
    }
   ],
   "source": [
    "# Calcular a média de tokens por classe usando groupby\n",
    "media_tokens_por_classe = df.groupby('Vies')['tokens'].mean()\n",
    "\n",
    "print(f'Média de tokens por texto do viés')\n",
    "print('-------------------------------------')\n",
    "\n",
    "for i in range(len(media_tokens_por_classe)):\n",
    "    label = media_tokens_por_classe.index[i]\n",
    "    media_tokens_por_classe.values[i] = int(media_tokens_por_classe.values[i])\n",
    "    media = media_tokens_por_classe.values[i]\n",
    "    print(f'{label}: média de {media} tokens por texto')"
   ]
  },
  {
   "cell_type": "code",
   "execution_count": 41,
   "id": "9187a1c1-9973-4ae2-b1ad-7e4ac9dc0e5d",
   "metadata": {
    "tags": []
   },
   "outputs": [],
   "source": [
    "classes = df['Vies'].value_counts().index\n",
    "pos = np.arange(len(classes))\n",
    "qnt_media_token_vies = media_tokens_por_classe.values"
   ]
  },
  {
   "cell_type": "code",
   "execution_count": 42,
   "id": "1902fb76-7314-4bb7-a5be-b7ba1a558b4f",
   "metadata": {
    "tags": []
   },
   "outputs": [
    {
     "data": {
      "image/png": "[encoded data removed]",
      "text/plain": [
       "<Figure size 1000x800 with 1 Axes>"
      ]
     },
     "metadata": {},
     "output_type": "display_data"
    }
   ],
   "source": [
    "plt.figure(figsize=(10,8))\n",
    "bars = plt.bar(pos, qnt_media_token_vies, align='center', linewidth=0, color='coral')\n",
    "plt.xticks(pos, classes, alpha=0.8)\n",
    "plt.ylabel('Quantidade média de tokens por texto')\n",
    "plt.title('Quantidade média de tokens por viés', alpha=0.8)\n",
    "\n",
    "# remocao das bordas\n",
    "for spine in plt.gca().spines.values(): \n",
    "    spine.set_visible(False)\n",
    "\n",
    "# remocao dos labels y\n",
    "plt.yticks([])\n",
    "\n",
    "for bar in bars:\n",
    "\n",
    "    height = bar.get_height()\n",
    "    plt.gca().text(bar.get_x() + bar.get_width()/2, bar.get_height() + 10, str(int(height)), ha='center', color='black', fontsize=11)\n",
    "\n",
    "plt.savefig('tokens-medio-por-vies.png')"
   ]
  },
  {
   "cell_type": "markdown",
   "id": "38d9fa1b-f91e-437b-a030-c82f75b0eec5",
   "metadata": {},
   "source": [
    "## Tokens médio por partido"
   ]
  },
  {
   "cell_type": "code",
   "execution_count": 43,
   "id": "df0c113b-6d55-4f8b-acb1-7065c5ec3d78",
   "metadata": {
    "tags": []
   },
   "outputs": [
    {
     "name": "stdout",
     "output_type": "stream",
     "text": [
      "Média de tokens por texto do partido\n",
      "-------------------------------------\n",
      "MDB: média de 502.0 tokens por texto\n",
      "Novo: média de 388.0 tokens por texto\n",
      "PCB: média de 784.0 tokens por texto\n",
      "PCDoB: média de 554.0 tokens por texto\n",
      "PDT: média de 770.0 tokens por texto\n",
      "PL: média de 345.0 tokens por texto\n",
      "PP: média de 403.0 tokens por texto\n",
      "PSB: média de 501.0 tokens por texto\n",
      "PSOL: média de 234.0 tokens por texto\n",
      "PSTU: média de 1259.0 tokens por texto\n",
      "PT: média de 712.0 tokens por texto\n",
      "PV: média de 580.0 tokens por texto\n",
      "Rede: média de 356.0 tokens por texto\n",
      "União Brasil: média de 338.0 tokens por texto\n"
     ]
    }
   ],
   "source": [
    "# Calcular a média de tokens por classe usando groupby\n",
    "media_tokens_por_partido = df.groupby('Partido')['tokens'].mean()\n",
    "\n",
    "print(f'Média de tokens por texto do partido')\n",
    "print('-------------------------------------')\n",
    "\n",
    "for i in range(len(media_tokens_por_partido)):\n",
    "    label = media_tokens_por_partido.index[i]\n",
    "    media_tokens_por_partido.values[i] = int(media_tokens_por_partido.values[i])\n",
    "    media = media_tokens_por_partido.values[i]\n",
    "    \n",
    "    print(f'{label}: média de {media} tokens por texto')"
   ]
  },
  {
   "cell_type": "code",
   "execution_count": 44,
   "id": "1a0c0d8b-496b-4d8d-ae03-626db65bcef7",
   "metadata": {
    "tags": []
   },
   "outputs": [],
   "source": [
    "classes = df['Partido'].value_counts().index\n",
    "pos = np.arange(len(classes))\n",
    "qnt_media_token_partido = media_tokens_por_partido.values"
   ]
  },
  {
   "cell_type": "code",
   "execution_count": 45,
   "id": "88292dd9-2c95-40de-9f5d-8be2a20c16a1",
   "metadata": {},
   "outputs": [
    {
     "data": {
      "text/plain": [
       "['PL',\n",
       " 'PSB',\n",
       " 'Novo',\n",
       " 'PV',\n",
       " 'PSTU',\n",
       " 'PCB',\n",
       " 'PCDoB',\n",
       " 'MDB',\n",
       " 'PT',\n",
       " 'PP',\n",
       " 'PDT',\n",
       " 'UNIÃO',\n",
       " 'Rede',\n",
       " 'PSOL']"
      ]
     },
     "execution_count": 45,
     "metadata": {},
     "output_type": "execute_result"
    }
   ],
   "source": [
    "classes = list(classes)\n",
    "classes[-3] = 'UNIÃO'\n",
    "classes"
   ]
  },
  {
   "cell_type": "code",
   "execution_count": 47,
   "id": "f8a80fc4-f23b-4358-84d3-c41771024767",
   "metadata": {
    "tags": []
   },
   "outputs": [
    {
     "data": {
      "image/png": "[encoded data removed]",
      "text/plain": [
       "<Figure size 1000x800 with 1 Axes>"
      ]
     },
     "metadata": {},
     "output_type": "display_data"
    }
   ],
   "source": [
    "plt.figure(figsize=(10,8))\n",
    "bars = plt.bar(pos, qnt_media_token_partido, align='center', linewidth=0, color='green')\n",
    "plt.xticks(pos, classes, alpha=0.8)\n",
    "plt.ylabel('Quantidade média de tokens por texto')\n",
    "plt.title('Quantidade média de tokens por partido', alpha=0.8)\n",
    "\n",
    "# remocao das bordas\n",
    "for spine in plt.gca().spines.values(): \n",
    "    spine.set_visible(False)\n",
    "\n",
    "# remocao dos labels y\n",
    "plt.yticks([])\n",
    "\n",
    "for bar in bars:\n",
    "\n",
    "    height = bar.get_height()\n",
    "    plt.gca().text(bar.get_x() + bar.get_width()/2, bar.get_height() + 10, str(int(height)), ha='center', color='black', fontsize=11)\n",
    "\n",
    "plt.savefig('tokens-medio-por-partido.png')"
   ]
  },
  {
   "cell_type": "code",
   "execution_count": null,
   "id": "e12cd155-78cd-4195-aef4-27465858a1b2",
   "metadata": {},
   "outputs": [],
   "source": []
  },
  {
   "cell_type": "code",
   "execution_count": null,
   "id": "08432d65-6fee-472f-9cc2-3ff24e185781",
   "metadata": {},
   "outputs": [],
   "source": []
  }
 ],
 "metadata": {
  "kernelspec": {
   "display_name": "Python 3 (ipykernel)",
   "language": "python",
   "name": "python3"
  },
  "language_info": {
   "codemirror_mode": {
    "name": "ipython",
    "version": 3
   },
   "file_extension": ".py",
   "mimetype": "text/x-python",
   "name": "python",
   "nbconvert_exporter": "python",
   "pygments_lexer": "ipython3",
   "version": "3.9.13"
  }
 },
 "nbformat": 4,
 "nbformat_minor": 5
}
