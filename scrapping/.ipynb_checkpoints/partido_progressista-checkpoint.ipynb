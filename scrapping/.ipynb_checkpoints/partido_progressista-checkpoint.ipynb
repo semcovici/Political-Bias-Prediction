{
 "cells": [
  {
   "cell_type": "code",
   "execution_count": 41,
   "id": "0a403d3c",
   "metadata": {},
   "outputs": [],
   "source": [
    "# == importar bibliotecas == \n",
    "\n",
    "from bs4 import BeautifulSoup as bs\n",
    "import unicodedata as ucd\n",
    "import requests\n",
    "import pandas as pd\n",
    "import numpy as np\n",
    "from tqdm import tqdm\n",
    "from joblib import Parallel, delayed\n",
    "from time import sleep\n",
    "import os\n",
    "from itertools import chain \n",
    "from selenium import webdriver\n",
    "from selenium.webdriver.common.by import By"
   ]
  },
  {
   "cell_type": "code",
   "execution_count": 82,
   "id": "0f367fd1",
   "metadata": {},
   "outputs": [],
   "source": [
    "# == settando variáveis == \n",
    "\n",
    "JORNAL = 'PP'\n",
    "LABEL = 'direita' \n",
    "URL = \"https://progressistas.org.br/noticias/\"\n",
    "REFRESH = 50\n",
    "str_load = 'Carregar mais'\n",
    "class_1 = 'wq-box_com_img'\n",
    "class_2 = 'wq-item'\n",
    "headers = {\n",
    "    'User-Agent': 'Mozilla/5.0 (Macintosh; Intel Mac OS X 10.12; rv:55.0) Gecko/20100101 Firefox/55.0',\n",
    "}"
   ]
  },
  {
   "cell_type": "code",
   "execution_count": 43,
   "id": "315d0e77",
   "metadata": {},
   "outputs": [],
   "source": [
    "# == configurando env == \n",
    "\n",
    "driver= webdriver.Chrome()\n",
    "driver.get(URL)\n",
    "driver.maximize_window()\n",
    "but = driver.find_element(By.XPATH, f\"//span[contains(text(),'{str_load}')]\")"
   ]
  },
  {
   "cell_type": "code",
   "execution_count": 71,
   "id": "4a01505c",
   "metadata": {},
   "outputs": [],
   "source": [
    "# == obter html == \n",
    "\n",
    "def get_soup(url):\n",
    "    response = requests.get(url, headers=headers)\n",
    "    html = response.content\n",
    "    soup = bs(html, 'html.parser')\n",
    "    return soup"
   ]
  },
  {
   "cell_type": "code",
   "execution_count": 45,
   "id": "1866dec4",
   "metadata": {},
   "outputs": [],
   "source": [
    "# == obter dataframe do texto == \n",
    "\n",
    "def return_df(url, text):\n",
    "    return pd.DataFrame({\n",
    "        'jornal': JORNAL,\n",
    "        'url': url,\n",
    "        'artigo': text,\n",
    "        'label': LABEL\n",
    "    }, index=[1])"
   ]
  },
  {
   "cell_type": "code",
   "execution_count": 46,
   "id": "8ebb3ecc",
   "metadata": {},
   "outputs": [],
   "source": [
    "# == obter conteúdo == \n",
    "\n",
    "for n in range(REFRESH):\n",
    "    driver.execute_script(\"arguments[0].click();\", but)\n",
    "    sleep(5)"
   ]
  },
  {
   "cell_type": "code",
   "execution_count": 51,
   "id": "4d2422cb",
   "metadata": {},
   "outputs": [],
   "source": [
    "# == coletar o site dos artigos == \n",
    "\n",
    "list_url = []\n",
    "soup = bs(driver.page_source, 'lxml')\n",
    "for tag in soup.find_all(\"a\", href=True, class_=class_1):\n",
    "    list_url.append(tag.get('href'))"
   ]
  },
  {
   "cell_type": "code",
   "execution_count": 53,
   "id": "d7fd4212",
   "metadata": {},
   "outputs": [],
   "source": [
    "# == remover url duplicado == \n",
    "\n",
    "list_url = list(set(list_url))"
   ]
  },
  {
   "cell_type": "code",
   "execution_count": 80,
   "id": "29ae51ce",
   "metadata": {
    "scrolled": true
   },
   "outputs": [
    {
     "name": "stderr",
     "output_type": "stream",
     "text": [
      "100%|██████████| 591/591 [01:35<00:00,  6.21it/s]\n"
     ]
    }
   ],
   "source": [
    "# == obter conteúdo da notícia == \n",
    "\n",
    "def get_artigo(url):\n",
    "    soup = get_soup(url)\n",
    "    list_text = []\n",
    "    for div in soup.find_all(\"div\", class_=class_2):\n",
    "        for p in div.find_all(\"p\"):\n",
    "            list_text.append(ucd.normalize(\"NFKD\", p.text))\n",
    "        return return_df(url, \" \".join(list_text))\n",
    "\n",
    "res = []\n",
    "for url in list_url:\n",
    "    res.append(get_artigo(url))\n",
    "scrap = pd.concat(res)"
   ]
  },
  {
   "cell_type": "code",
   "execution_count": 86,
   "id": "02bb0814",
   "metadata": {},
   "outputs": [],
   "source": [
    "# == salvar o scrapping == \n",
    "\n",
    "scrap.to_parquet('../dataset/scrapping/PP.parquet')"
   ]
  },
  {
   "cell_type": "code",
   "execution_count": null,
   "id": "b36e1b99",
   "metadata": {},
   "outputs": [],
   "source": []
  },
  {
   "cell_type": "code",
   "execution_count": null,
   "id": "a57f4970",
   "metadata": {},
   "outputs": [],
   "source": []
  }
 ],
 "metadata": {
  "kernelspec": {
   "display_name": "Python 3",
   "language": "python",
   "name": "python3"
  },
  "language_info": {
   "codemirror_mode": {
    "name": "ipython",
    "version": 3
   },
   "file_extension": ".py",
   "mimetype": "text/x-python",
   "name": "python",
   "nbconvert_exporter": "python",
   "pygments_lexer": "ipython3",
   "version": "3.7.6"
  }
 },
 "nbformat": 4,
 "nbformat_minor": 5
}
