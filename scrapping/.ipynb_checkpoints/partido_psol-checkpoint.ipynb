{
 "cells": [
  {
   "cell_type": "code",
   "execution_count": 89,
   "id": "1da1778a",
   "metadata": {},
   "outputs": [],
   "source": [
    "# == importar bibliotecas == \n",
    "\n",
    "from bs4 import BeautifulSoup as bs\n",
    "import requests\n",
    "import pandas as pd\n",
    "import numpy as np"
   ]
  },
  {
   "cell_type": "code",
   "execution_count": 90,
   "id": "e90a8074",
   "metadata": {},
   "outputs": [],
   "source": [
    "# == configurando a variável == \n",
    "\n",
    "URL = \"https://psol50.org.br/noticias/\""
   ]
  },
  {
   "cell_type": "code",
   "execution_count": 91,
   "id": "bbf92917",
   "metadata": {},
   "outputs": [],
   "source": [
    "# == obter html == \n",
    "\n",
    "def get_soup(url):\n",
    "    response = requests.get(URL)\n",
    "    html = response.content\n",
    "    soup = bs(html, 'lxml')\n",
    "    return soup"
   ]
  },
  {
   "cell_type": "code",
   "execution_count": 92,
   "id": "ff8c1304",
   "metadata": {},
   "outputs": [],
   "source": [
    "# == lista de URLs ==\n",
    "\n",
    "soup = get_soup(URL)\n",
    "list_url = []"
   ]
  },
  {
   "cell_type": "code",
   "execution_count": 93,
   "id": "9b2a98a8",
   "metadata": {},
   "outputs": [],
   "source": [
    "# == coletar os sites de artigos == \n",
    "\n",
    "for noticia in soup.find_all(\"h3\", class_='entry-title td-module-title'):\n",
    "    for artigo in noticia.find_all(\"a\", href=True):\n",
    "        list_url.append(artigo.get('href'))"
   ]
  },
  {
   "cell_type": "code",
   "execution_count": 101,
   "id": "3881d7ad",
   "metadata": {},
   "outputs": [],
   "source": [
    "# == obter conteúdo da notícia == \n",
    "\n",
    "for url in list_url:\n",
    "    soup = get_soup(url)"
   ]
  },
  {
   "cell_type": "code",
   "execution_count": 119,
   "id": "50258aca",
   "metadata": {},
   "outputs": [],
   "source": [
    "x = soup.find_all(\"div\", class_='tdb-block-inner td-fix-index')\n"
   ]
  },
  {
   "cell_type": "code",
   "execution_count": 120,
   "id": "8ac03226",
   "metadata": {},
   "outputs": [
    {
     "data": {
      "text/plain": [
       "[<div class=\"tdb-block-inner td-fix-index\"><span class=\"tdb-mobile-menu-button\"><i class=\"tdb-mobile-menu-icon td-icon-mobile\"></i></span></div>,\n",
       " <div class=\"tdb-block-inner td-fix-index\"><a class=\"tdb-logo-a\" href=\"https://psol50.org.br/\"><span class=\"tdb-logo-img-wrap\"><img alt=\"Site oficial do PSOL Nacional\" class=\"tdb-logo-img td-retina-data\" data-retina=\"https://psol50.org.br/file/2021/06/PSOL_logo-header@4x-300x59.png\" src=\"https://psol50.org.br/file/2021/06/PSOL_logo-header.png\" title=\"PSOL Brasil\"/></span><span class=\"tdb-logo-text-wrap\"><span class=\"tdb-logo-text-title\">PSOL</span><span class=\"tdb-logo-text-tagline\">Partido Socialismo e Liberdade</span></span></a></div>,\n",
       " <div class=\"tdb-block-inner td-fix-index\"><span class=\"tdb-header-search-button-mob dropdown-toggle\" data-toggle=\"dropdown\"><span class=\"tdb-mobile-search-icon tdb-mobile-search-icon-svg\"><svg version=\"1.1\" viewbox=\"0 0 1024 1024\" xmlns=\"http://www.w3.org/2000/svg\"><path d=\"M958.484 910.161l-134.543-134.502c63.078-76.595 94.761-170.455 94.7-264.141 0.061-106.414-40.755-213.228-121.917-294.431-81.224-81.183-187.965-121.958-294.349-121.938-106.445-0.020-213.176 40.796-294.38 121.938-81.224 81.203-122.020 188.017-121.979 294.369-0.041 106.445 40.755 213.166 121.979 294.287 81.203 81.285 187.945 122.020 294.38 121.979 93.727 0.041 187.607-31.642 264.11-94.659l134.564 134.564 57.436-57.467zM265.452 748.348c-65.556-65.495-98.14-150.999-98.181-236.882 0.041-85.832 32.625-171.346 98.181-236.913 65.556-65.536 151.060-98.099 236.923-98.14 85.821 0.041 171.346 32.604 236.902 98.14 65.495 65.516 98.099 151.122 98.099 236.913 0 85.924-32.604 171.387-98.099 236.882-65.556 65.495-150.999 98.099-236.902 98.099-85.862 0-171.356-32.604-236.923-98.099z\"></path></svg></span></span></div>,\n",
       " <div class=\"tdb-block-inner td-fix-index\"><span class=\"tdb-mobile-menu-button\"><span class=\"tdb-mobile-menu-icon tdb-mobile-menu-icon-svg\"><svg version=\"1.1\" viewbox=\"0 0 1024 1024\" xmlns=\"http://www.w3.org/2000/svg\"><path d=\"M307.528 231.187c0 47.227-38.267 85.494-85.494 85.494s-85.514-38.257-85.514-85.494c0-47.247 38.277-85.514 85.514-85.514 47.227 0 85.494 38.257 85.494 85.514zM597.494 231.187c0 47.227-38.246 85.494-85.484 85.494s-85.514-38.257-85.514-85.494c0-47.247 38.277-85.514 85.514-85.514s85.484 38.257 85.484 85.514zM887.47 231.187c0 47.227-38.257 85.494-85.494 85.494-47.217 0-85.514-38.257-85.514-85.494 0-47.247 38.287-85.514 85.514-85.514 47.237 0 85.494 38.257 85.494 85.514zM307.528 521.153c0 47.217-38.267 85.504-85.494 85.504s-85.514-38.277-85.514-85.504c0-47.247 38.277-85.514 85.514-85.514 47.227 0 85.494 38.267 85.494 85.514zM597.494 521.153c0 47.217-38.246 85.504-85.484 85.504s-85.514-38.277-85.514-85.504c0-47.247 38.277-85.514 85.514-85.514s85.484 38.267 85.484 85.514zM887.47 521.153c0 47.217-38.257 85.504-85.494 85.504-47.217 0-85.514-38.277-85.514-85.504 0-47.247 38.287-85.514 85.514-85.514 47.237 0 85.494 38.267 85.494 85.514zM307.538 811.119c0 47.223-38.281 85.504-85.504 85.504s-85.504-38.281-85.504-85.504c0-47.223 38.281-85.504 85.504-85.504s85.504 38.281 85.504 85.504zM597.494 811.119c0 47.217-38.277 85.494-85.494 85.494s-85.494-38.277-85.494-85.494c0-47.217 38.277-85.494 85.494-85.494s85.494 38.277 85.494 85.494zM887.47 811.119c0 47.223-38.281 85.504-85.504 85.504s-85.504-38.281-85.504-85.504c0-47.223 38.281-85.504 85.504-85.504s85.504 38.281 85.504 85.504z\"></path></svg></span></span></div>,\n",
       " <div class=\"tdb-block-inner td-fix-index\"><a class=\"tdb-logo-a\" href=\"https://psol50.org.br/\"><span class=\"tdb-logo-img-wrap\"><img alt=\"Site oficial do PSOL Nacional\" class=\"tdb-logo-img td-retina-data\" data-retina=\"https://psol50.org.br/file/2021/06/PSOL_logo-header@4x-300x59.png\" src=\"https://psol50.org.br/file/2021/06/PSOL_logo-header.png\" title=\"PSOL Brasil\"/></span><span class=\"tdb-logo-text-wrap\"><span class=\"tdb-logo-text-title\">PSOL</span><span class=\"tdb-logo-text-tagline\">Partido Socialismo e Liberdade</span></span></a></div>,\n",
       " <div class=\"tdb-block-inner td-fix-index\"><span class=\"tdb-header-search-button-mob dropdown-toggle\" data-toggle=\"dropdown\"><span class=\"tdb-mobile-search-icon tdb-mobile-search-icon-svg\"><svg version=\"1.1\" viewbox=\"0 0 1024 1024\" xmlns=\"http://www.w3.org/2000/svg\"><path d=\"M958.484 910.161l-134.543-134.502c63.078-76.595 94.761-170.455 94.7-264.141 0.061-106.414-40.755-213.228-121.917-294.431-81.224-81.183-187.965-121.958-294.349-121.938-106.445-0.020-213.176 40.796-294.38 121.938-81.224 81.203-122.020 188.017-121.979 294.369-0.041 106.445 40.755 213.166 121.979 294.287 81.203 81.285 187.945 122.020 294.38 121.979 93.727 0.041 187.607-31.642 264.11-94.659l134.564 134.564 57.436-57.467zM265.452 748.348c-65.556-65.495-98.14-150.999-98.181-236.882 0.041-85.832 32.625-171.346 98.181-236.913 65.556-65.536 151.060-98.099 236.923-98.14 85.821 0.041 171.346 32.604 236.902 98.14 65.495 65.516 98.099 151.122 98.099 236.913 0 85.924-32.604 171.387-98.099 236.882-65.556 65.495-150.999 98.099-236.902 98.099-85.862 0-171.356-32.604-236.923-98.099z\"></path></svg></span></span></div>,\n",
       " <div class=\"tdb-block-inner td-fix-index\"><a class=\"tdb-logo-a\" href=\"https://psol50.org.br/\"><span class=\"tdb-logo-img-wrap\"><img alt=\"Site oficial do PSOL Nacional\" class=\"tdb-logo-img td-retina-data\" data-retina=\"https://psol50.org.br/file/2021/06/PSOL_logo-header@3x.png\" height=\"105\" src=\"https://psol50.org.br/file/2021/06/PSOL_logo-header@3x.png\" title=\"PSOL Brasil\" width=\"530\"/></span><span class=\"tdb-logo-text-wrap\"><span class=\"tdb-logo-text-title\">PSOL</span><span class=\"tdb-logo-text-tagline\">Partido Socialismo e Liberdade</span></span></a></div>,\n",
       " <div class=\"tdb-block-inner td-fix-index\"><div aria-labelledby=\"td-header-search-button\" class=\"tdb-drop-down-search\"><div class=\"tdb-drop-down-search-inner\"><form action=\"https://psol50.org.br/\" class=\"tdb-search-form\" method=\"get\"><div class=\"tdb-search-form-inner\"><input autocomplete=\"off\" class=\"tdb-head-search-form-input\" name=\"s\" placeholder=\" \" type=\"text\" value=\"\"/><button class=\"wpb_button wpb_btn-inverse btn tdb-head-search-form-btn\" type=\"submit\"><span>Buscar</span></button></div></form><div class=\"tdb-aj-search\"></div></div></div><a aria-label=\"Search\" class=\"tdb-head-search-btn dropdown-toggle\" data-toggle=\"dropdown\" href=\"#\" role=\"button\"><span class=\"tdb-search-txt\">Busca</span><span class=\"tdb-search-icon tdb-search-icon-svg\"><svg version=\"1.1\" viewbox=\"0 0 1024 1024\" xmlns=\"http://www.w3.org/2000/svg\"><path d=\"M958.484 910.161l-134.543-134.502c63.078-76.595 94.761-170.455 94.7-264.141 0.061-106.414-40.755-213.228-121.917-294.431-81.224-81.183-187.965-121.958-294.349-121.938-106.445-0.020-213.176 40.796-294.38 121.938-81.224 81.203-122.020 188.017-121.979 294.369-0.041 106.445 40.755 213.166 121.979 294.287 81.203 81.285 187.945 122.020 294.38 121.979 93.727 0.041 187.607-31.642 264.11-94.659l134.564 134.564 57.436-57.467zM265.452 748.348c-65.556-65.495-98.14-150.999-98.181-236.882 0.041-85.832 32.625-171.346 98.181-236.913 65.556-65.536 151.060-98.099 236.923-98.14 85.821 0.041 171.346 32.604 236.902 98.14 65.495 65.516 98.099 151.122 98.099 236.913 0 85.924-32.604 171.387-98.099 236.882-65.556 65.495-150.999 98.099-236.902 98.099-85.862 0-171.356-32.604-236.923-98.099z\"></path></svg></span></a></div>,\n",
       " <div class=\"tdb-block-inner td-fix-index\"><a class=\"tdb-logo-a\" href=\"https://psol50.org.br/\"><span class=\"tdb-logo-img-wrap\"><img alt=\"Site oficial do PSOL Nacional\" class=\"tdb-logo-img td-retina-data\" data-retina=\"https://psol50.org.br/file/2021/06/PSOL_logo-header@3x.png\" height=\"105\" src=\"https://psol50.org.br/file/2021/06/PSOL_logo-header@3x.png\" title=\"PSOL Brasil\" width=\"530\"/></span><span class=\"tdb-logo-text-wrap\"><span class=\"tdb-logo-text-title\">PSOL</span><span class=\"tdb-logo-text-tagline\">Partido Socialismo e Liberdade</span></span></a></div>,\n",
       " <div class=\"tdb-block-inner td-fix-index\"><div aria-labelledby=\"td-header-search-button\" class=\"tdb-drop-down-search\"><div class=\"tdb-drop-down-search-inner\"><form action=\"https://psol50.org.br/\" class=\"tdb-search-form\" method=\"get\"><div class=\"tdb-search-form-inner\"><input autocomplete=\"off\" class=\"tdb-head-search-form-input\" name=\"s\" placeholder=\" \" type=\"text\" value=\"\"/><button class=\"wpb_button wpb_btn-inverse btn tdb-head-search-form-btn\" type=\"submit\"><span>Buscar</span></button></div></form><div class=\"tdb-aj-search\"></div></div></div><a aria-label=\"Search\" class=\"tdb-head-search-btn dropdown-toggle\" data-toggle=\"dropdown\" href=\"#\" role=\"button\"><span class=\"tdb-search-txt\">Busca</span><span class=\"tdb-search-icon tdb-search-icon-svg\"><svg version=\"1.1\" viewbox=\"0 0 1024 1024\" xmlns=\"http://www.w3.org/2000/svg\"><path d=\"M958.484 910.161l-134.543-134.502c63.078-76.595 94.761-170.455 94.7-264.141 0.061-106.414-40.755-213.228-121.917-294.431-81.224-81.183-187.965-121.958-294.349-121.938-106.445-0.020-213.176 40.796-294.38 121.938-81.224 81.203-122.020 188.017-121.979 294.369-0.041 106.445 40.755 213.166 121.979 294.287 81.203 81.285 187.945 122.020 294.38 121.979 93.727 0.041 187.607-31.642 264.11-94.659l134.564 134.564 57.436-57.467zM265.452 748.348c-65.556-65.495-98.14-150.999-98.181-236.882 0.041-85.832 32.625-171.346 98.181-236.913 65.556-65.536 151.060-98.099 236.923-98.14 85.821 0.041 171.346 32.604 236.902 98.14 65.495 65.516 98.099 151.122 98.099 236.913 0 85.924-32.604 171.387-98.099 236.882-65.556 65.495-150.999 98.099-236.902 98.099-85.862 0-171.356-32.604-236.923-98.099z\"></path></svg></span></a></div>,\n",
       " <div class=\"tdb-block-inner td-fix-index\"><h1 class=\"tdb-title-text\">Notícias</h1><div></div><div class=\"tdb-title-line\"></div></div>,\n",
       " <div class=\"tdb-block-inner td-fix-index\"><a class=\"tdb-logo-a\" href=\"https://psol50.org.br/\"><span class=\"tdb-logo-img-wrap\"><img alt=\"Site oficial do PSOL Nacional\" class=\"tdb-logo-img td-retina-data\" data-retina=\"https://psol50.org.br/file/2021/06/PSOL_logo-header@4x-300x59.png\" height=\"105\" src=\"https://psol50.org.br/file/2021/06/PSOL_logo-header@3x.png\" title=\"PSOL Brasil\" width=\"530\"/></span><span class=\"tdb-logo-text-wrap\"><span class=\"tdb-logo-text-title\">PSOL</span><span class=\"tdb-logo-text-tagline\">Partido Socialismo e Liberdade</span></span></a></div>]"
      ]
     },
     "execution_count": 120,
     "metadata": {},
     "output_type": "execute_result"
    }
   ],
   "source": [
    "x"
   ]
  },
  {
   "cell_type": "code",
   "execution_count": null,
   "id": "fc7e4c7f",
   "metadata": {},
   "outputs": [],
   "source": []
  }
 ],
 "metadata": {
  "kernelspec": {
   "display_name": "Python 3",
   "language": "python",
   "name": "python3"
  },
  "language_info": {
   "codemirror_mode": {
    "name": "ipython",
    "version": 3
   },
   "file_extension": ".py",
   "mimetype": "text/x-python",
   "name": "python",
   "nbconvert_exporter": "python",
   "pygments_lexer": "ipython3",
   "version": "3.7.6"
  }
 },
 "nbformat": 4,
 "nbformat_minor": 5
}
