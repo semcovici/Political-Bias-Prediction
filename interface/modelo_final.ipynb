{
 "cells": [
  {
   "cell_type": "code",
   "execution_count": 1,
   "id": "22df3ca1-3dbe-4119-a257-9e8412799283",
   "metadata": {
    "tags": []
   },
   "outputs": [
    {
     "name": "stderr",
     "output_type": "stream",
     "text": [
      "2023-12-11 21:36:48.945034: I tensorflow/core/platform/cpu_feature_guard.cc:193] This TensorFlow binary is optimized with oneAPI Deep Neural Network Library (oneDNN) to use the following CPU instructions in performance-critical operations:  AVX2 AVX512F AVX512_VNNI AVX512_BF16 AVX_VNNI AMX_TILE AMX_INT8 AMX_BF16 FMA\n",
      "To enable them in other operations, rebuild TensorFlow with the appropriate compiler flags.\n",
      "2023-12-11 21:36:49.728044: I tensorflow/core/util/port.cc:104] oneDNN custom operations are on. You may see slightly different numerical results due to floating-point round-off errors from different computation orders. To turn them off, set the environment variable `TF_ENABLE_ONEDNN_OPTS=0`.\n",
      "2023-12-11 21:36:53.745805: W tensorflow/compiler/xla/stream_executor/platform/default/dso_loader.cc:64] Could not load dynamic library 'libnvinfer.so.7'; dlerror: libnvinfer.so.7: cannot open shared object file: No such file or directory; LD_LIBRARY_PATH: /usr/local/cuda/lib64:/usr/local/nccl2/lib:/usr/local/cuda/extras/CUPTI/lib64\n",
      "2023-12-11 21:36:53.746673: W tensorflow/compiler/xla/stream_executor/platform/default/dso_loader.cc:64] Could not load dynamic library 'libnvinfer_plugin.so.7'; dlerror: libnvinfer_plugin.so.7: cannot open shared object file: No such file or directory; LD_LIBRARY_PATH: /usr/local/cuda/lib64:/usr/local/nccl2/lib:/usr/local/cuda/extras/CUPTI/lib64\n",
      "2023-12-11 21:36:53.746680: W tensorflow/compiler/tf2tensorrt/utils/py_utils.cc:38] TF-TRT Warning: Cannot dlopen some TensorRT libraries. If you would like to use Nvidia GPU with TensorRT, please make sure the missing libraries mentioned above are installed properly.\n"
     ]
    }
   ],
   "source": [
    "# == importar bibliotecas ==\n",
    "\n",
    "import pandas as pd \n",
    "from sklearn.preprocessing import MaxAbsScaler\n",
    "from sklearn.model_selection import train_test_split\n",
    "from imblearn.pipeline import Pipeline\n",
    "from imblearn.over_sampling import RandomOverSampler\n",
    "from sklearn.feature_selection import SelectKBest\n",
    "from xgboost import XGBClassifier\n",
    "import numpy as np\n",
    "import joblib\n",
    "import unicodedata\n",
    "from transformers import AutoTokenizer  \n",
    "from transformers import AutoTokenizer  \n",
    "from transformers import TFBertModel, BertModel\n",
    "import torch"
   ]
  },
  {
   "cell_type": "code",
   "execution_count": null,
   "id": "4f094c27-9803-45b7-927f-418b6a45133e",
   "metadata": {
    "scrolled": true,
    "tags": []
   },
   "outputs": [],
   "source": [
    "# == ler dataset ==\n",
    "\n",
    "data = pd.read_parquet('artigos_tratados_bert_lg.parquet')"
   ]
  },
  {
   "cell_type": "code",
   "execution_count": 5,
   "id": "55925d22-270c-4e6d-8193-3ecc33e89deb",
   "metadata": {
    "tags": []
   },
   "outputs": [],
   "source": [
    "# == limpar dataset == \n",
    "\n",
    "data = data[data['Conteudo'] != '']\n",
    "data.drop(columns=['Conteudo', 'URL'], inplace=True)\n",
    "data['Vies'] = data['Vies'].map({'direita':2,\n",
    "                                'centro': 1,\n",
    "                                'esquerda': 0})"
   ]
  },
  {
   "cell_type": "code",
   "execution_count": 6,
   "id": "8c659419-4e04-45cc-88c3-dbbeec61d993",
   "metadata": {
    "tags": []
   },
   "outputs": [],
   "source": [
    "# == separar X e y ==\n",
    "\n",
    "X = data.drop(columns=['Partido', 'Vies'])\n",
    "y = data.Vies"
   ]
  },
  {
   "cell_type": "code",
   "execution_count": 7,
   "id": "ab53f6bb",
   "metadata": {},
   "outputs": [],
   "source": [
    "# == split treino e teste == \n",
    "\n",
    "X_train, X_test, y_train, y_test = train_test_split(\n",
    "    X, \n",
    "    y,\n",
    "    test_size=0.2,\n",
    "    random_state=42,\n",
    "    stratify=data.Partido\n",
    ")"
   ]
  },
  {
   "cell_type": "code",
   "execution_count": 12,
   "id": "7217af39",
   "metadata": {},
   "outputs": [
    {
     "data": {
      "text/plain": [
       "['pipeline.pkl']"
      ]
     },
     "execution_count": 12,
     "metadata": {},
     "output_type": "execute_result"
    }
   ],
   "source": [
    "# == preparar o modelo com melhor desempenho == \n",
    "\n",
    "best_params = {\n",
    "    \"selection__k\": 800,\n",
    "    \"estimator__gamma\": 0,\n",
    "    \"estimator__alpha\": 22,\n",
    "    \"estimator__lambda\": 0,\n",
    "    \"estimator__colsample_bytree\": 1\n",
    "}\n",
    "pipeline = Pipeline([\n",
    "    ('scaling', MaxAbsScaler()), \n",
    "    ('selection', SelectKBest()),\n",
    "    ('ros', RandomOverSampler(random_state=42)),\n",
    "    ('estimator', XGBClassifier(seed=42))\n",
    "])\n",
    "pipeline.set_params(**best_params)\n",
    "pipeline.fit(X, y)\n",
    "joblib.dump(pipeline, 'pipeline.pkl')"
   ]
  },
  {
   "cell_type": "code",
   "execution_count": 13,
   "id": "d3142876",
   "metadata": {},
   "outputs": [],
   "source": [
    "# == dar um load no modelo == \n",
    "\n",
    "pipeline = joblib.load('pipeline.pkl')"
   ]
  },
  {
   "cell_type": "code",
   "execution_count": 14,
   "id": "79aa33f1",
   "metadata": {
    "scrolled": true
   },
   "outputs": [
    {
     "data": {
      "text/plain": [
       "'Ao participar da abertura do 26° encontro do Foro de São Paulo, o presidente Luiz Inácio Lula da Silva criticou a “direita fascista”, pediu união da esquerda no Brasil e disse que tem orgulho de ser chamado de “comunista”. Na cerimônia, ocorrida nesta quinta-feira, 29, em Brasília, o petista se reuniu com os partidos de esquerda da América Latina. Em seu discurso, o petista admitiu que o “discurso do patriotismo e da familia” não estão alinhados com o progressismo. “Aqui no Brasil, nós enfrentamos o discurso do costume, o discurso da família, o discurso do patriotismo. Ou seja, aqui nós enfrentamos o discurso que a gente aprendeu a historicamente combater”, afirmou o presidente da República. “Eles nos acusam de comunistas, achando que nós ficamos ofendidos com isso. Nós não ficamos ofendidos. Ficaríamos ofendidos se nos chamassem de nazista, de neofascista, de terrorista. Mas de comunista, de socialista, nunca. Isso não nos ofende. Isso nos orgulha muitas vezes”, continuou o petista. Fundado em 1990, por iniciativa do Partido dos Trabalhadores (PT) do Brasil e do Partido Comunista de Cuba, o Foro de São Paulo é um encontro dos partidos de esquerda da América Latina e tem como lema neste ano “Integração Regional para Avançar a Soberania Latino-americana e Caribenha”. Após a pandemia, o grupo retoma suas reuniões presenciais anuais. A última edição ocorreu em Caracas , capital da Venezuela, em 2019. Além de Lula, estiverem presentes a presidente do PT, Gleisi Hoffmann, a ministra da Ciência e Tecnologia e presidente do PCdoB, Luciana Santos, e o presidente da Embratur, Marcelo Freixo. Manifestantes contrários ao encontro protestaram na porta da sede do evento. Além disso, partidos de direita, como o PL, repudiaram a presença do que chamam de “ditadores”. No Twitter, a oposição levantou a hashtag #ForaForodeSP.'"
      ]
     },
     "execution_count": 14,
     "metadata": {},
     "output_type": "execute_result"
    }
   ],
   "source": [
    "# == receber input de novo artigo == \n",
    "\n",
    "artigo = 'Ao participar da abertura do 26° encontro do Foro de São Paulo, o presidente Luiz Inácio Lula da Silva criticou a “direita fascista”, pediu união da esquerda no Brasil e disse que tem orgulho de ser chamado de “comunista”. Na cerimônia, ocorrida nesta quinta-feira, 29, em Brasília, o petista se reuniu com os partidos de esquerda da América Latina. Em seu discurso, o petista admitiu que o “discurso do patriotismo e da familia” não estão alinhados com o progressismo. “Aqui no Brasil, nós enfrentamos o discurso do costume, o discurso da família, o discurso do patriotismo. Ou seja, aqui nós enfrentamos o discurso que a gente aprendeu a historicamente combater”, afirmou o presidente da República. “Eles nos acusam de comunistas, achando que nós ficamos ofendidos com isso. Nós não ficamos ofendidos. Ficaríamos ofendidos se nos chamassem de nazista, de neofascista, de terrorista. Mas de comunista, de socialista, nunca. Isso não nos ofende. Isso nos orgulha muitas vezes”, continuou o petista. Fundado em 1990, por iniciativa do Partido dos Trabalhadores (PT) do Brasil e do Partido Comunista de Cuba, o Foro de São Paulo é um encontro dos partidos de esquerda da América Latina e tem como lema neste ano “Integração Regional para Avançar a Soberania Latino-americana e Caribenha”. Após a pandemia, o grupo retoma suas reuniões presenciais anuais. A última edição ocorreu em Caracas , capital da Venezuela, em 2019. Além de Lula, estiverem presentes a presidente do PT, Gleisi Hoffmann, a ministra da Ciência e Tecnologia e presidente do PCdoB, Luciana Santos, e o presidente da Embratur, Marcelo Freixo. Manifestantes contrários ao encontro protestaram na porta da sede do evento. Além disso, partidos de direita, como o PL, repudiaram a presença do que chamam de “ditadores”. No Twitter, a oposição levantou a hashtag #ForaForodeSP.'\n",
    "artigo"
   ]
  },
  {
   "cell_type": "code",
   "execution_count": 15,
   "id": "e397a328",
   "metadata": {},
   "outputs": [],
   "source": [
    "# == aplicar tratamentos == \n",
    "\n",
    "artigo = artigo.lower()\n",
    "artigo = ''.join(artigo.split('.')[:-2])\n",
    "\n",
    "partidos = [\n",
    "    'novo', 'pcb', 'pdt', \n",
    "    'pl', 'pp', 'psol', 'pstu', \n",
    "    'mdb', 'pcdob', 'psb', 'pt', \n",
    "    'pv', 'rede', 'união brasil'\n",
    "]\n",
    "for partido in partidos:\n",
    "    artigo = artigo.replace(f' {partido} ', ' ')\n",
    "    \n",
    "artigo = ' '.join(word for word in artigo.split(' ') if word.isalnum())\n",
    "artigo = unicodedata.normalize('NFKD', artigo)\n",
    "artigo = artigo.encode('ASCII', 'ignore')\n",
    "artigo = artigo.decode('utf-8')\n",
    "artigo = artigo.replace('[^a-zA-Z]', ' ')\n",
    "for n in range(30):\n",
    "    artigo = artigo.replace('  ', ' ')"
   ]
  },
  {
   "cell_type": "code",
   "execution_count": null,
   "id": "3a76c904",
   "metadata": {},
   "outputs": [],
   "source": [
    "# == funções auxiliares de embedding do artigo == \n",
    "\n",
    "def bert_text_preparation(text, tokenizer):\n",
    "    marked_text = \"[CLS] \" + text + \" [SEP]\"\n",
    "    tokenized_text = tokenizer.tokenize(marked_text, truncation=True, max_length=512, padding = True)\n",
    "    indexed_tokens = tokenizer.convert_tokens_to_ids(tokenized_text)\n",
    "    segments_ids = [1]*len(indexed_tokens)\n",
    "\n",
    "    tokens_tensor = torch.tensor([indexed_tokens])\n",
    "    segments_tensors = torch.tensor([segments_ids])\n",
    "\n",
    "    return tokenized_text, tokens_tensor, segments_tensors\n",
    "\n",
    "def get_bert_embeddings(tokens_tensor, segments_tensors, model):\n",
    "    with torch.no_grad():\n",
    "        outputs = model(tokens_tensor, segments_tensors)\n",
    "        hidden_states = outputs[2][1:]\n",
    "\n",
    "    token_embeddings = hidden_states[-1]\n",
    "    token_embeddings = torch.squeeze(token_embeddings, dim=0)\n",
    "    list_token_embeddings = [token_embed.tolist() for token_embed in token_embeddings]\n",
    "\n",
    "    return list_token_embeddings\n",
    "\n",
    "# tokenizer = AutoTokenizer.from_pretrained('neuralmind/bert-large-portuguese-cased', do_lower_case=False)\n",
    "# joblib.dump(tokenizer, 'tokenizer.pkl')\n",
    "# model = BertModel.from_pretrained('neuralmind/bert-large-portuguese-cased', output_hidden_states = True)\n",
    "# joblib.dump(model, 'bert_model.pkl')"
   ]
  },
  {
   "cell_type": "code",
   "execution_count": 17,
   "id": "52a50d3a",
   "metadata": {},
   "outputs": [],
   "source": [
    "# == dar load no modelo bert e tokenizer == \n",
    "\n",
    "tokenizer = joblib.load('tokenizer.pkl')\n",
    "model = joblib.load('bert_model.pkl')"
   ]
  },
  {
   "cell_type": "code",
   "execution_count": 18,
   "id": "6e38d01b",
   "metadata": {},
   "outputs": [],
   "source": [
    "# == obter dataframe de embedding do artigo == \n",
    "\n",
    "tokenized_text, tokens_tensor, segments_tensors = bert_text_preparation(artigo, tokenizer)\n",
    "list_token_embeddings = get_bert_embeddings(tokens_tensor, segments_tensors, model)\n",
    "bert_emb = np.array(list_token_embeddings).mean(axis=0)\n",
    "\n",
    "input_model = pd.DataFrame(\n",
    "    data=bert_emb, \n",
    "    index=[f\"emb_{i + 1}\" for i in range(len(bert_emb))]\n",
    ").T"
   ]
  },
  {
   "cell_type": "code",
   "execution_count": 19,
   "id": "64c6ee06",
   "metadata": {},
   "outputs": [],
   "source": [
    "# == gerar predict do artigo == \n",
    "\n",
    "pred = pipeline.predict(input_model)[0]"
   ]
  },
  {
   "cell_type": "code",
   "execution_count": 20,
   "id": "77060fb3",
   "metadata": {},
   "outputs": [],
   "source": [
    "# == classificar == \n",
    "\n",
    "if pred == 0:\n",
    "    pred = 'Esquerda'\n",
    "elif pred == 1:\n",
    "    pred = 'Centro'\n",
    "else:\n",
    "    pred = 'Direita'"
   ]
  },
  {
   "cell_type": "code",
   "execution_count": 21,
   "id": "b53b15fc",
   "metadata": {},
   "outputs": [],
   "source": [
    "# == gerar probabilidade de predict == \n",
    "\n",
    "predict_proba = pipeline.predict_proba(input_model)[0]"
   ]
  },
  {
   "cell_type": "code",
   "execution_count": 22,
   "id": "4b5267a1",
   "metadata": {},
   "outputs": [],
   "source": [
    "# == montar dicionário de probabilidade == \n",
    "\n",
    "prob_df = pd.DataFrame({\n",
    "    'Esquerda': predict_proba[0],\n",
    "    'Centro': predict_proba[1],\n",
    "    'Direita': predict_proba[2]\n",
    "}, index=[1]).T"
   ]
  },
  {
   "cell_type": "code",
   "execution_count": null,
   "id": "f172d599",
   "metadata": {},
   "outputs": [],
   "source": [
    "import plotly.graph_objects as go\n",
    "\n",
    "fig = go.Figure(\n",
    "    go.Bar(\n",
    "        x=prob_df[1],\n",
    "        y=prob_df.index,\n",
    "        orientation='h',\n",
    "        marker=dict(color = 'orange'),\n",
    "        marker_line=dict(width=1, color='#6e2f0b')\n",
    "    )\n",
    ")\n",
    "\n",
    "fig.update_layout(\n",
    "    xaxis_title=\"Probabilidade\", \n",
    "    yaxis_title=\"Viés\",\n",
    "    yaxis=dict(tickfont=dict(color=\"#6e2f0b\")),\n",
    "    xaxis=dict(tickfont=dict(color=\"#6e2f0b\")),\n",
    "    xaxis_range = [0,1],\n",
    "    width=1000,\n",
    "    height=450\n",
    ")\n",
    "fig.update_xaxes(\n",
    "    showline=True, \n",
    "    linewidth=2, \n",
    "    linecolor='#6e2f0b', \n",
    "    gridcolor='#F67C41', \n",
    "    tickcolor='#6e2f0b', \n",
    "    tickfont=dict(size=16),\n",
    "    title=dict(font=dict(size=16)),\n",
    "    title_font_color=\"#6e2f0b\", \n",
    "    color=\"#6e2f0b\"\n",
    ")\n",
    "fig.update_yaxes(\n",
    "    showline=True, \n",
    "    linewidth=2, \n",
    "    linecolor='#6e2f0b', \n",
    "    gridcolor='#F67C41', \n",
    "    tickcolor='#6e2f0b', \n",
    "    tickfont=dict(size=16),\n",
    "    title=dict(font=dict(size=16)),\n",
    "    title_font_color=\"#6e2f0b\", \n",
    "    color=\"#6e2f0b\"\n",
    ")\n",
    "    \n",
    "#fig.update(layout_xaxis_range = [0,1])\n",
    "fig.show()"
   ]
  },
  {
   "cell_type": "code",
   "execution_count": 23,
   "id": "c8d49c26",
   "metadata": {},
   "outputs": [
    {
     "data": {
      "text/html": [
       "<div>\n",
       "<style scoped>\n",
       "    .dataframe tbody tr th:only-of-type {\n",
       "        vertical-align: middle;\n",
       "    }\n",
       "\n",
       "    .dataframe tbody tr th {\n",
       "        vertical-align: top;\n",
       "    }\n",
       "\n",
       "    .dataframe thead th {\n",
       "        text-align: right;\n",
       "    }\n",
       "</style>\n",
       "<table border=\"1\" class=\"dataframe\">\n",
       "  <thead>\n",
       "    <tr style=\"text-align: right;\">\n",
       "      <th></th>\n",
       "      <th>1</th>\n",
       "    </tr>\n",
       "  </thead>\n",
       "  <tbody>\n",
       "    <tr>\n",
       "      <th>Esquerda</th>\n",
       "      <td>0.653328</td>\n",
       "    </tr>\n",
       "    <tr>\n",
       "      <th>Centro</th>\n",
       "      <td>0.341703</td>\n",
       "    </tr>\n",
       "    <tr>\n",
       "      <th>Direita</th>\n",
       "      <td>0.004969</td>\n",
       "    </tr>\n",
       "  </tbody>\n",
       "</table>\n",
       "</div>"
      ],
      "text/plain": [
       "                 1\n",
       "Esquerda  0.653328\n",
       "Centro    0.341703\n",
       "Direita   0.004969"
      ]
     },
     "execution_count": 23,
     "metadata": {},
     "output_type": "execute_result"
    }
   ],
   "source": [
    "prob_df"
   ]
  },
  {
   "cell_type": "code",
   "execution_count": null,
   "id": "fb592179",
   "metadata": {},
   "outputs": [],
   "source": []
  }
 ],
 "metadata": {
  "environment": {
   "kernel": "python3",
   "name": "tf2-cpu.2-11.m113",
   "type": "gcloud",
   "uri": "gcr.io/deeplearning-platform-release/tf2-cpu.2-11:m113"
  },
  "kernelspec": {
   "display_name": "Python 3",
   "language": "python",
   "name": "python3"
  },
  "language_info": {
   "codemirror_mode": {
    "name": "ipython",
    "version": 3
   },
   "file_extension": ".py",
   "mimetype": "text/x-python",
   "name": "python",
   "nbconvert_exporter": "python",
   "pygments_lexer": "ipython3",
   "version": "3.10.13"
  }
 },
 "nbformat": 4,
 "nbformat_minor": 5
}
