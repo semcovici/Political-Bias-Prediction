{
 "cells": [
  {
   "cell_type": "code",
   "execution_count": 37,
   "id": "0a403d3c",
   "metadata": {},
   "outputs": [],
   "source": [
    "# == importar bibliotecas == \n",
    "\n",
    "from bs4 import BeautifulSoup as bs\n",
    "import unicodedata as ucd\n",
    "import requests\n",
    "import pandas as pd\n",
    "import numpy as np\n",
    "from tqdm import tqdm\n",
    "import os\n",
    "from itertools import chain "
   ]
  },
  {
   "cell_type": "code",
   "execution_count": 40,
   "id": "0f367fd1",
   "metadata": {},
   "outputs": [],
   "source": [
    "# == settando variáveis == \n",
    "\n",
    "JORNAL = 'PL'\n",
    "LABEL = 'direita' \n",
    "URL = \"https://partidoliberal.org.br/noticias-partido-liberal/\"\n",
    "NUM_PAG = 568\n",
    "class_1 = 'col-md-8'\n",
    "class_2 = 'post__content'"
   ]
  },
  {
   "cell_type": "code",
   "execution_count": 10,
   "id": "4a01505c",
   "metadata": {},
   "outputs": [],
   "source": [
    "# == obter html == \n",
    "\n",
    "def get_soup(url):\n",
    "    response = requests.get(url)\n",
    "    html = response.content\n",
    "    soup = bs(html, 'lxml')\n",
    "    return soup"
   ]
  },
  {
   "cell_type": "code",
   "execution_count": 12,
   "id": "1866dec4",
   "metadata": {},
   "outputs": [],
   "source": [
    "# == obter dataframe do texto == \n",
    "\n",
    "def return_df(url, text):\n",
    "    return pd.DataFrame({\n",
    "        'jornal': JORNAL,\n",
    "        'url': url,\n",
    "        'artigo': text,\n",
    "        'label': LABEL\n",
    "    }, index=[1])"
   ]
  },
  {
   "cell_type": "code",
   "execution_count": 26,
   "id": "47ecc19a",
   "metadata": {},
   "outputs": [],
   "source": [
    "# == lista de URLs ==\n",
    "\n",
    "list_url = []"
   ]
  },
  {
   "cell_type": "code",
   "execution_count": 27,
   "id": "15569ba4",
   "metadata": {
    "scrolled": true
   },
   "outputs": [
    {
     "name": "stderr",
     "output_type": "stream",
     "text": [
      "\n",
      "\n",
      "  0%|          | 0/568 [00:00<?, ?it/s]\u001b[A\u001b[A\n",
      "\n",
      "  2%|▏         | 12/568 [00:00<00:04, 119.50it/s]\u001b[A\u001b[A\n",
      "\n",
      "  4%|▍         | 24/568 [00:02<00:37, 14.64it/s] \u001b[A\u001b[A\n",
      "\n",
      "  6%|▋         | 36/568 [00:04<00:55,  9.51it/s]\u001b[A\u001b[A\n",
      "\n",
      "  8%|▊         | 48/568 [00:07<01:10,  7.34it/s]\u001b[A\u001b[A\n",
      "\n",
      " 11%|█         | 60/568 [00:10<01:31,  5.54it/s]\u001b[A\u001b[A\n",
      "\n",
      " 13%|█▎        | 72/568 [00:13<01:32,  5.35it/s]\u001b[A\u001b[A\n",
      "\n",
      " 15%|█▍        | 84/568 [00:15<01:32,  5.25it/s]\u001b[A\u001b[A\n",
      "\n",
      " 17%|█▋        | 96/568 [00:19<01:43,  4.57it/s]\u001b[A\u001b[A\n",
      "\n",
      " 19%|█▉        | 108/568 [00:21<01:37,  4.72it/s]\u001b[A\u001b[A\n",
      "\n",
      " 21%|██        | 120/568 [00:23<01:26,  5.15it/s]\u001b[A\u001b[A\n",
      "\n",
      " 23%|██▎       | 132/568 [00:25<01:23,  5.23it/s]\u001b[A\u001b[A\n",
      "\n",
      " 25%|██▌       | 144/568 [00:27<01:18,  5.38it/s]\u001b[A\u001b[A\n",
      "\n",
      " 27%|██▋       | 156/568 [00:30<01:21,  5.08it/s]\u001b[A\u001b[A\n",
      "\n",
      " 30%|██▉       | 168/568 [00:32<01:20,  4.95it/s]\u001b[A\u001b[A\n",
      "\n",
      " 32%|███▏      | 180/568 [00:35<01:19,  4.90it/s]\u001b[A\u001b[A\n",
      "\n",
      " 34%|███▍      | 192/568 [00:37<01:10,  5.34it/s]\u001b[A\u001b[A\n",
      "\n",
      " 36%|███▌      | 204/568 [00:39<01:11,  5.11it/s]\u001b[A\u001b[A\n",
      "\n",
      " 38%|███▊      | 216/568 [00:42<01:15,  4.68it/s]\u001b[A\u001b[A\n",
      "\n",
      " 40%|████      | 228/568 [00:45<01:13,  4.64it/s]\u001b[A\u001b[A\n",
      "\n",
      " 42%|████▏     | 240/568 [00:47<01:09,  4.69it/s]\u001b[A\u001b[A\n",
      "\n",
      " 44%|████▍     | 252/568 [00:49<01:03,  5.01it/s]\u001b[A\u001b[A\n",
      "\n",
      " 46%|████▋     | 264/568 [00:52<01:04,  4.69it/s]\u001b[A\u001b[A\n",
      "\n",
      " 49%|████▊     | 276/568 [00:55<01:04,  4.52it/s]\u001b[A\u001b[A\n",
      "\n",
      " 51%|█████     | 288/568 [00:58<01:03,  4.40it/s]\u001b[A\u001b[A\n",
      "\n",
      " 53%|█████▎    | 300/568 [01:00<00:56,  4.72it/s]\u001b[A\u001b[A\n",
      "\n",
      " 55%|█████▍    | 312/568 [01:03<00:56,  4.52it/s]\u001b[A\u001b[A\n",
      "\n",
      " 57%|█████▋    | 324/568 [01:05<00:52,  4.69it/s]\u001b[A\u001b[A\n",
      "\n",
      " 59%|█████▉    | 336/568 [01:09<00:54,  4.29it/s]\u001b[A\u001b[A\n",
      "\n",
      " 61%|██████▏   | 348/568 [01:11<00:50,  4.37it/s]\u001b[A\u001b[A\n",
      "\n",
      " 63%|██████▎   | 360/568 [01:15<00:49,  4.18it/s]\u001b[A\u001b[A\n",
      "\n",
      " 65%|██████▌   | 372/568 [01:17<00:43,  4.56it/s]\u001b[A\u001b[A\n",
      "\n",
      " 68%|██████▊   | 384/568 [01:19<00:37,  4.87it/s]\u001b[A\u001b[A\n",
      "\n",
      " 70%|██████▉   | 396/568 [01:21<00:35,  4.79it/s]\u001b[A\u001b[A\n",
      "\n",
      " 72%|███████▏  | 408/568 [01:24<00:32,  4.91it/s]\u001b[A\u001b[A\n",
      "\n",
      " 74%|███████▍  | 420/568 [01:26<00:30,  4.87it/s]\u001b[A\u001b[A\n",
      "\n",
      " 76%|███████▌  | 432/568 [01:28<00:26,  5.16it/s]\u001b[A\u001b[A\n",
      "\n",
      " 78%|███████▊  | 444/568 [01:30<00:22,  5.42it/s]\u001b[A\u001b[A\n",
      "\n",
      " 80%|████████  | 456/568 [01:32<00:20,  5.35it/s]\u001b[A\u001b[A\n",
      "\n",
      " 82%|████████▏ | 468/568 [01:35<00:20,  4.84it/s]\u001b[A\u001b[A\n",
      "\n",
      " 85%|████████▍ | 480/568 [01:39<00:19,  4.49it/s]\u001b[A\u001b[A\n",
      "\n",
      " 87%|████████▋ | 492/568 [01:40<00:15,  5.01it/s]\u001b[A\u001b[A\n",
      "\n",
      " 89%|████████▊ | 504/568 [01:42<00:12,  5.29it/s]\u001b[A\u001b[A\n",
      "\n",
      " 91%|█████████ | 516/568 [01:44<00:09,  5.31it/s]\u001b[A\u001b[A\n",
      "\n",
      " 93%|█████████▎| 528/568 [01:46<00:07,  5.51it/s]\u001b[A\u001b[A\n",
      "\n",
      " 95%|█████████▌| 540/568 [01:49<00:05,  5.40it/s]\u001b[A\u001b[A\n",
      "\n",
      " 97%|█████████▋| 552/568 [01:51<00:03,  5.21it/s]\u001b[A\u001b[A\n",
      "\n",
      "100%|██████████| 568/568 [01:54<00:00,  4.95it/s]\u001b[A\u001b[A\n"
     ]
    }
   ],
   "source": [
    "# == coletar os sites de artigos == \n",
    "\n",
    "def get_links(pag_num):\n",
    "    cur_list = []\n",
    "    soup = get_soup(f'{URL}page/{pag_num}')\n",
    "    for noticia in soup.find_all(\"div\", class_=class_1):\n",
    "        for artigo in noticia.find_all(\"a\", href=True):\n",
    "            cur_list.append(artigo.get('href'))\n",
    "    return cur_list\n",
    "\n",
    "for n in range(NUM_PAG):\n",
    "    list_url.append(get_links(n))"
   ]
  },
  {
   "cell_type": "code",
   "execution_count": 36,
   "id": "d7fd4212",
   "metadata": {},
   "outputs": [],
   "source": [
    "# == remover url duplicado == \n",
    "\n",
    "list_url = list(chain.from_iterable(list_url))\n",
    "list_url = list(set(list_url))"
   ]
  },
  {
   "cell_type": "code",
   "execution_count": 61,
   "id": "cfb55948",
   "metadata": {},
   "outputs": [
    {
     "data": {
      "text/plain": [
       "3402"
      ]
     },
     "execution_count": 61,
     "metadata": {},
     "output_type": "execute_result"
    }
   ],
   "source": [
    "# == remover links que não são notícias == \n",
    "\n",
    "list_url = [\n",
    "    url for url in list_url if 'https://partidoliberal.org.br/noticias-partido-liberal/page/' not in url\n",
    "]"
   ]
  },
  {
   "cell_type": "code",
   "execution_count": null,
   "id": "29ae51ce",
   "metadata": {
    "scrolled": true
   },
   "outputs": [],
   "source": [
    "# == obter conteúdo da notícia == \n",
    "\n",
    "def get_artigo(url):\n",
    "    soup = get_soup(url)\n",
    "    list_text = []\n",
    "    for div in soup.find_all(\"div\", class_=class_2):\n",
    "        for p in div.find_all(\"p\"):\n",
    "            list_text.append(ucd.normalize(\"NFKD\", p.text))\n",
    "        return return_df(url, \" \".join(list_text))\n",
    "\n",
    "res = []\n",
    "for url in list_url:\n",
    "    res.append(get_artigo(url))\n",
    "scrap = pd.concat(res)"
   ]
  },
  {
   "cell_type": "code",
   "execution_count": 75,
   "id": "02bb0814",
   "metadata": {},
   "outputs": [],
   "source": [
    "# == salvar o scrapping == \n",
    "\n",
    "scrap.to_parquet('../dataset/scrapping/PL.parquet')\n",
    "scrap.to_csv('../dataset/scrapping/PL.csv')"
   ]
  },
  {
   "cell_type": "code",
   "execution_count": 78,
   "id": "835de675",
   "metadata": {},
   "outputs": [],
   "source": []
  },
  {
   "cell_type": "code",
   "execution_count": 79,
   "id": "bc150b92",
   "metadata": {},
   "outputs": [
    {
     "data": {
      "text/plain": [
       "(3393, 4)"
      ]
     },
     "execution_count": 79,
     "metadata": {},
     "output_type": "execute_result"
    }
   ],
   "source": [
    "scrap.shape"
   ]
  },
  {
   "cell_type": "code",
   "execution_count": null,
   "id": "b7a53580",
   "metadata": {},
   "outputs": [],
   "source": []
  }
 ],
 "metadata": {
  "kernelspec": {
   "display_name": "Python 3",
   "language": "python",
   "name": "python3"
  },
  "language_info": {
   "codemirror_mode": {
    "name": "ipython",
    "version": 3
   },
   "file_extension": ".py",
   "mimetype": "text/x-python",
   "name": "python",
   "nbconvert_exporter": "python",
   "pygments_lexer": "ipython3",
   "version": "3.7.6"
  }
 },
 "nbformat": 4,
 "nbformat_minor": 5
}
