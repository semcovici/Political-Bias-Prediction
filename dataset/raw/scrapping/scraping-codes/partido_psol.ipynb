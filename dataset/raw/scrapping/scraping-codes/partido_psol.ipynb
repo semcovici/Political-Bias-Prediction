{
 "cells": [
  {
   "cell_type": "code",
   "execution_count": 165,
   "id": "b37861ce",
   "metadata": {},
   "outputs": [],
   "source": [
    "# == importar bibliotecas == \n",
    "\n",
    "from bs4 import BeautifulSoup as bs\n",
    "import unicodedata as ucd\n",
    "import requests\n",
    "import pandas as pd\n",
    "import numpy as np"
   ]
  },
  {
   "cell_type": "code",
   "execution_count": 266,
   "id": "7b6a0f5d",
   "metadata": {},
   "outputs": [],
   "source": [
    "# == settando variáveis == \n",
    "\n",
    "scrap = pd.DataFrame()\n",
    "JORNAL = 'PSOL'\n",
    "LABEL = 'esquerda' \n",
    "URL = \"https://psol50.org.br/noticias/\"\n",
    "class_1 = 'entry-title td-module-title'\n",
    "class_2 = 'td_block_wrap tdb_single_content tdi_75 td-pb-border-top td_block_template_1 td-post-content tagdiv-type'"
   ]
  },
  {
   "cell_type": "code",
   "execution_count": 267,
   "id": "62853cd4",
   "metadata": {},
   "outputs": [],
   "source": [
    "# == obter html == \n",
    "\n",
    "def get_soup(url):\n",
    "    response = requests.get(url)\n",
    "    html = response.content\n",
    "    soup = bs(html, 'lxml')\n",
    "    return soup"
   ]
  },
  {
   "cell_type": "code",
   "execution_count": 268,
   "id": "006bcdb4",
   "metadata": {},
   "outputs": [],
   "source": [
    "# == regra de restrição na seleção (remover trechos que nn fazem parte do artigo) == \n",
    "\n",
    "def check(text):\n",
    "    restricoes = ['<a', '<href']\n",
    "    if any(map(text.__contains__, restricoes)):\n",
    "        return False\n",
    "    return True"
   ]
  },
  {
   "cell_type": "code",
   "execution_count": 269,
   "id": "7cd75921",
   "metadata": {},
   "outputs": [],
   "source": [
    "# == obter dataframe do texto == \n",
    "\n",
    "def return_df(url, text):\n",
    "    return pd.DataFrame({\n",
    "        'jornal': JORNAL,\n",
    "        'url': url,\n",
    "        'artigo': text,\n",
    "        'label': LABEL\n",
    "    }, index=[1])"
   ]
  },
  {
   "cell_type": "code",
   "execution_count": 270,
   "id": "27e5965a",
   "metadata": {},
   "outputs": [],
   "source": [
    "# == lista de URLs ==\n",
    "\n",
    "soup = get_soup(URL)\n",
    "list_url = []"
   ]
  },
  {
   "cell_type": "code",
   "execution_count": 271,
   "id": "10401ee6",
   "metadata": {},
   "outputs": [],
   "source": [
    "# == coletar os sites de artigos == \n",
    "\n",
    "for noticia in soup.find_all(\"h3\", class_=class_1):\n",
    "    for artigo in noticia.find_all(\"a\", href=True):\n",
    "        list_url.append(artigo.get('href'))"
   ]
  },
  {
   "cell_type": "code",
   "execution_count": 272,
   "id": "438c3d79",
   "metadata": {},
   "outputs": [],
   "source": [
    "# == remover url duplicado == \n",
    "\n",
    "list_url = list(set(list_url))"
   ]
  },
  {
   "cell_type": "code",
   "execution_count": 273,
   "id": "6ef96aad",
   "metadata": {},
   "outputs": [],
   "source": [
    "# == obter conteúdo da notícia == \n",
    "\n",
    "for url in list_url:\n",
    "    soup = get_soup(url)\n",
    "    list_text = []\n",
    "    for div in soup.find_all(\"div\", class_=class_2):\n",
    "        for p in div.find_all(\"p\"):\n",
    "            if check(str(p)):\n",
    "                list_text.append(ucd.normalize(\"NFKD\", p.text))\n",
    "        scrap = pd.concat([\n",
    "            scrap,\n",
    "            return_df(url, \" \".join(list_text))\n",
    "        ])\n"
   ]
  },
  {
   "cell_type": "code",
   "execution_count": 274,
   "id": "1c2144bc",
   "metadata": {},
   "outputs": [],
   "source": [
    "# == salvar o scrapping == \n",
    "\n",
    "scrap.to_parquet('../dataset/scrapping/PSOL.parquet')\n",
    "scrap.to_csv('../dataset/scrapping/PSOL.csv')"
   ]
  },
  {
   "cell_type": "code",
   "execution_count": 277,
   "id": "0be74ab8",
   "metadata": {},
   "outputs": [],
   "source": []
  },
  {
   "cell_type": "code",
   "execution_count": 278,
   "id": "57782c73",
   "metadata": {},
   "outputs": [
    {
     "data": {
      "text/plain": [
       "(15, 4)"
      ]
     },
     "execution_count": 278,
     "metadata": {},
     "output_type": "execute_result"
    }
   ],
   "source": [
    "scrap.shape"
   ]
  },
  {
   "cell_type": "code",
   "execution_count": null,
   "id": "36e769f1",
   "metadata": {},
   "outputs": [],
   "source": []
  }
 ],
 "metadata": {
  "kernelspec": {
   "display_name": "Python 3",
   "language": "python",
   "name": "python3"
  },
  "language_info": {
   "codemirror_mode": {
    "name": "ipython",
    "version": 3
   },
   "file_extension": ".py",
   "mimetype": "text/x-python",
   "name": "python",
   "nbconvert_exporter": "python",
   "pygments_lexer": "ipython3",
   "version": "3.7.6"
  }
 },
 "nbformat": 4,
 "nbformat_minor": 5
}
