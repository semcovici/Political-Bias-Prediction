{
 "cells": [
  {
   "cell_type": "code",
   "execution_count": 1,
   "id": "0a403d3c",
   "metadata": {},
   "outputs": [],
   "source": [
    "# == importar bibliotecas == \n",
    "\n",
    "from bs4 import BeautifulSoup as bs\n",
    "import unicodedata as ucd\n",
    "import requests\n",
    "import pandas as pd\n",
    "import numpy as np\n",
    "from tqdm import tqdm\n",
    "from time import sleep\n",
    "import os\n",
    "from itertools import chain \n",
    "from selenium import webdriver\n",
    "from selenium.webdriver.common.by import By"
   ]
  },
  {
   "cell_type": "code",
   "execution_count": 62,
   "id": "0f367fd1",
   "metadata": {},
   "outputs": [],
   "source": [
    "# == settando variáveis == \n",
    "\n",
    "JORNAL = 'NOVO'\n",
    "LABEL = 'direita' \n",
    "URL = \"https://novo.org.br/noticias/\"\n",
    "REF= 50\n",
    "str_load = 'setOffset(1)'\n",
    "class_1 = 'astute-single-blog'\n",
    "class_2 = 'single-blog-content'\n",
    "headers = {\n",
    "    'User-Agent': 'Mozilla/5.0 (Macintosh; Intel Mac OS X 10.12; rv:55.0) Gecko/20100101 Firefox/55.0',\n",
    "}"
   ]
  },
  {
   "cell_type": "code",
   "execution_count": 19,
   "id": "315d0e77",
   "metadata": {},
   "outputs": [],
   "source": [
    "# == configurando env == \n",
    "\n",
    "driver= webdriver.Chrome()\n",
    "driver.get(URL)\n",
    "driver.maximize_window()"
   ]
  },
  {
   "cell_type": "code",
   "execution_count": 41,
   "id": "4a01505c",
   "metadata": {},
   "outputs": [],
   "source": [
    "# == obter html == \n",
    "\n",
    "def get_soup(url):\n",
    "    response = requests.get(url, headers=headers, allow_redirects=False)\n",
    "    html = response.content\n",
    "    soup = bs(html, 'html.parser')\n",
    "    return soup"
   ]
  },
  {
   "cell_type": "code",
   "execution_count": 21,
   "id": "1866dec4",
   "metadata": {},
   "outputs": [],
   "source": [
    "# == obter dataframe do texto == \n",
    "\n",
    "def return_df(url, text):\n",
    "    return pd.DataFrame({\n",
    "        'jornal': JORNAL,\n",
    "        'url': url,\n",
    "        'artigo': text,\n",
    "        'label': LABEL\n",
    "    }, index=[1])"
   ]
  },
  {
   "cell_type": "code",
   "execution_count": 22,
   "id": "f7ba4510",
   "metadata": {},
   "outputs": [],
   "source": [
    "# == coletar o site dos artigos == \n",
    "\n",
    "def get_links(driver):\n",
    "    cur_list = []\n",
    "    soup = bs(driver.page_source, 'lxml')\n",
    "    for tag in soup.find_all(\"a\", href=True, class_=class_1):\n",
    "        cur_list.append(tag.get('href'))\n",
    "    return cur_list"
   ]
  },
  {
   "cell_type": "code",
   "execution_count": 23,
   "id": "8ebb3ecc",
   "metadata": {},
   "outputs": [
    {
     "name": "stderr",
     "output_type": "stream",
     "text": [
      "\n",
      "  0%|          | 0/50 [00:00<?, ?it/s]\u001b[A\n",
      "  2%|▏         | 1/50 [00:06<05:42,  6.99s/it]\u001b[A\n",
      "  4%|▍         | 2/50 [00:13<05:30,  6.88s/it]\u001b[A\n",
      "  6%|▌         | 3/50 [00:20<05:19,  6.81s/it]\u001b[A\n",
      "  8%|▊         | 4/50 [00:27<05:15,  6.86s/it]\u001b[A\n",
      " 10%|█         | 5/50 [00:34<05:18,  7.08s/it]\u001b[A\n",
      " 12%|█▏        | 6/50 [00:42<05:14,  7.15s/it]\u001b[A\n",
      " 14%|█▍        | 7/50 [00:48<05:00,  7.00s/it]\u001b[A\n",
      " 16%|█▌        | 8/50 [00:55<04:51,  6.94s/it]\u001b[A\n",
      " 18%|█▊        | 9/50 [01:02<04:38,  6.80s/it]\u001b[A\n",
      " 20%|██        | 10/50 [01:08<04:31,  6.80s/it]\u001b[A\n",
      " 22%|██▏       | 11/50 [01:18<04:54,  7.56s/it]\u001b[A\n",
      " 24%|██▍       | 12/50 [01:24<04:37,  7.31s/it]\u001b[A\n",
      " 26%|██▌       | 13/50 [01:31<04:24,  7.15s/it]\u001b[A\n",
      " 28%|██▊       | 14/50 [01:38<04:12,  7.00s/it]\u001b[A\n",
      " 30%|███       | 15/50 [01:44<04:00,  6.86s/it]\u001b[A\n",
      " 32%|███▏      | 16/50 [01:51<03:48,  6.72s/it]\u001b[A\n",
      " 34%|███▍      | 17/50 [01:57<03:40,  6.69s/it]\u001b[A\n",
      " 36%|███▌      | 18/50 [02:04<03:33,  6.68s/it]\u001b[A\n",
      " 38%|███▊      | 19/50 [02:11<03:30,  6.79s/it]\u001b[A\n",
      " 40%|████      | 20/50 [02:18<03:23,  6.78s/it]\u001b[A\n",
      " 42%|████▏     | 21/50 [02:25<03:15,  6.75s/it]\u001b[A\n",
      " 44%|████▍     | 22/50 [02:31<03:08,  6.72s/it]\u001b[A\n",
      " 46%|████▌     | 23/50 [02:38<03:03,  6.80s/it]\u001b[A\n",
      " 48%|████▊     | 24/50 [02:45<02:57,  6.84s/it]\u001b[A\n",
      " 50%|█████     | 25/50 [02:52<02:50,  6.80s/it]\u001b[A\n",
      " 52%|█████▏    | 26/50 [02:58<02:41,  6.73s/it]\u001b[A\n",
      " 54%|█████▍    | 27/50 [03:05<02:34,  6.72s/it]\u001b[A\n",
      " 56%|█████▌    | 28/50 [03:12<02:29,  6.78s/it]\u001b[A\n",
      " 58%|█████▊    | 29/50 [03:19<02:23,  6.84s/it]\u001b[A\n",
      " 60%|██████    | 30/50 [03:27<02:23,  7.19s/it]\u001b[A\n",
      " 62%|██████▏   | 31/50 [03:34<02:15,  7.15s/it]\u001b[A\n",
      " 64%|██████▍   | 32/50 [03:40<02:04,  6.94s/it]\u001b[A\n",
      " 66%|██████▌   | 33/50 [03:47<01:56,  6.85s/it]\u001b[A\n",
      " 68%|██████▊   | 34/50 [03:54<01:48,  6.77s/it]\u001b[A\n",
      " 70%|███████   | 35/50 [04:01<01:41,  6.78s/it]\u001b[A\n",
      " 72%|███████▏  | 36/50 [04:07<01:33,  6.71s/it]\u001b[A\n",
      " 74%|███████▍  | 37/50 [04:14<01:27,  6.75s/it]\u001b[A\n",
      " 76%|███████▌  | 38/50 [04:21<01:21,  6.76s/it]\u001b[A\n",
      " 78%|███████▊  | 39/50 [04:30<01:21,  7.44s/it]\u001b[A\n",
      " 80%|████████  | 40/50 [04:36<01:11,  7.15s/it]\u001b[A\n",
      " 82%|████████▏ | 41/50 [04:43<01:03,  7.07s/it]\u001b[A\n",
      " 84%|████████▍ | 42/50 [04:50<00:55,  6.95s/it]\u001b[A\n",
      " 86%|████████▌ | 43/50 [04:57<00:48,  6.93s/it]\u001b[A\n",
      " 88%|████████▊ | 44/50 [05:05<00:43,  7.30s/it]\u001b[A\n",
      " 90%|█████████ | 45/50 [05:11<00:35,  7.12s/it]\u001b[A\n",
      " 92%|█████████▏| 46/50 [05:18<00:28,  7.00s/it]\u001b[A\n",
      " 94%|█████████▍| 47/50 [05:25<00:20,  6.90s/it]\u001b[A\n",
      " 96%|█████████▌| 48/50 [05:32<00:13,  6.83s/it]\u001b[A\n",
      " 98%|█████████▊| 49/50 [05:38<00:06,  6.75s/it]\u001b[A\n",
      "100%|██████████| 50/50 [05:45<00:00,  6.91s/it]\u001b[A\n"
     ]
    }
   ],
   "source": [
    "# == obter conteúdo == \n",
    "\n",
    "list_url = []\n",
    "for n in range(REF):\n",
    "    list_url.append(get_links(driver))\n",
    "    but = driver.find_element(By.XPATH, f\"//button[contains(@onclick,'{str_load}')]\")\n",
    "    driver.execute_script(\"arguments[0].click();\", but)\n",
    "    sleep(5)"
   ]
  },
  {
   "cell_type": "code",
   "execution_count": 25,
   "id": "d7fd4212",
   "metadata": {},
   "outputs": [],
   "source": [
    "# == remover url duplicado == \n",
    "\n",
    "list_url = list(chain.from_iterable(list_url))\n",
    "list_url = list(set(list_url))"
   ]
  },
  {
   "cell_type": "code",
   "execution_count": null,
   "id": "29ae51ce",
   "metadata": {
    "scrolled": true
   },
   "outputs": [],
   "source": [
    "# == obter conteúdo da notícia == \n",
    "\n",
    "def get_artigo(url):\n",
    "    soup = get_soup(url)\n",
    "    list_text = []\n",
    "    for div in soup.find_all(\"div\", class_=class_2):\n",
    "        for p in div.find_all(\"p\"):\n",
    "            list_text.append(ucd.normalize(\"NFKD\", p.text))\n",
    "    return return_df(url, \" \".join(list_text))\n",
    "\n",
    "res = []\n",
    "for url in list_url:\n",
    "    res.append(get_artigo(url))\n",
    "scrap = pd.concat(res)"
   ]
  },
  {
   "cell_type": "code",
   "execution_count": 70,
   "id": "02bb0814",
   "metadata": {},
   "outputs": [],
   "source": [
    "# == salvar o scrapping == \n",
    "\n",
    "scrap.to_parquet('../dataset/scrapping/NOVO.parquet')\n",
    "scrap.to_csv('../dataset/scrapping/NOVO.csv')"
   ]
  },
  {
   "cell_type": "code",
   "execution_count": 66,
   "id": "2b070c1d",
   "metadata": {},
   "outputs": [],
   "source": []
  },
  {
   "cell_type": "code",
   "execution_count": 71,
   "id": "64f9b192",
   "metadata": {},
   "outputs": [
    {
     "data": {
      "text/plain": [
       "(1198, 4)"
      ]
     },
     "execution_count": 71,
     "metadata": {},
     "output_type": "execute_result"
    }
   ],
   "source": [
    "scrap.shape"
   ]
  },
  {
   "cell_type": "code",
   "execution_count": null,
   "id": "64112492",
   "metadata": {},
   "outputs": [],
   "source": []
  }
 ],
 "metadata": {
  "kernelspec": {
   "display_name": "Python 3",
   "language": "python",
   "name": "python3"
  },
  "language_info": {
   "codemirror_mode": {
    "name": "ipython",
    "version": 3
   },
   "file_extension": ".py",
   "mimetype": "text/x-python",
   "name": "python",
   "nbconvert_exporter": "python",
   "pygments_lexer": "ipython3",
   "version": "3.7.6"
  }
 },
 "nbformat": 4,
 "nbformat_minor": 5
}
