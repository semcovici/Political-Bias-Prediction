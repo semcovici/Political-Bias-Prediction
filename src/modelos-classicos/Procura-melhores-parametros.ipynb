{
 "cells": [
  {
   "cell_type": "code",
   "execution_count": 1,
   "id": "963afb27-6cb1-42ef-963f-aa329999085f",
   "metadata": {},
   "outputs": [],
   "source": [
    "import pandas as pd"
   ]
  },
  {
   "cell_type": "code",
   "execution_count": 3,
   "id": "7667b923-1ca2-408d-a3ad-adb1318278da",
   "metadata": {},
   "outputs": [
    {
     "data": {
      "text/html": [
       "<div>\n",
       "<style scoped>\n",
       "    .dataframe tbody tr th:only-of-type {\n",
       "        vertical-align: middle;\n",
       "    }\n",
       "\n",
       "    .dataframe tbody tr th {\n",
       "        vertical-align: top;\n",
       "    }\n",
       "\n",
       "    .dataframe thead th {\n",
       "        text-align: right;\n",
       "    }\n",
       "</style>\n",
       "<table border=\"1\" class=\"dataframe\">\n",
       "  <thead>\n",
       "    <tr style=\"text-align: right;\">\n",
       "      <th></th>\n",
       "      <th>modelo</th>\n",
       "      <th>split</th>\n",
       "      <th>sampler</th>\n",
       "      <th>scaling</th>\n",
       "      <th>duracao_random_search</th>\n",
       "      <th>qnt_iteracoes</th>\n",
       "      <th>f1_randsearch</th>\n",
       "      <th>melhores_parametros</th>\n",
       "      <th>f1_pred</th>\n",
       "      <th>class_report</th>\n",
       "    </tr>\n",
       "  </thead>\n",
       "  <tbody>\n",
       "    <tr>\n",
       "      <th>0</th>\n",
       "      <td>XGBClassifier(base_score=None, booster=None, c...</td>\n",
       "      <td>strat_vies</td>\n",
       "      <td>RandomOverSampler(random_state=42)</td>\n",
       "      <td>MaxAbsScaler()</td>\n",
       "      <td>0 days 00:30:38.921428</td>\n",
       "      <td>100</td>\n",
       "      <td>90.71%</td>\n",
       "      <td>{'selection__k': 800, 'estimator__lambda': 0, ...</td>\n",
       "      <td>91.48%</td>\n",
       "      <td>{'0': {'precision': 0.9182242990654206, 'recal...</td>\n",
       "    </tr>\n",
       "    <tr>\n",
       "      <th>1</th>\n",
       "      <td>XGBClassifier(base_score=None, booster=None, c...</td>\n",
       "      <td>strat_partido</td>\n",
       "      <td>RandomOverSampler(random_state=42)</td>\n",
       "      <td>MaxAbsScaler()</td>\n",
       "      <td>0 days 00:28:56.746834</td>\n",
       "      <td>100</td>\n",
       "      <td>90.86%</td>\n",
       "      <td>{'selection__k': 800, 'estimator__lambda': 0, ...</td>\n",
       "      <td>90.9%</td>\n",
       "      <td>{'0': {'precision': 0.8831460674157303, 'recal...</td>\n",
       "    </tr>\n",
       "    <tr>\n",
       "      <th>2</th>\n",
       "      <td>XGBClassifier(base_score=None, booster=None, c...</td>\n",
       "      <td>pred_partido_novo</td>\n",
       "      <td>RandomOverSampler(random_state=42)</td>\n",
       "      <td>MaxAbsScaler()</td>\n",
       "      <td>0 days 00:28:21.603563</td>\n",
       "      <td>100</td>\n",
       "      <td>80.01%</td>\n",
       "      <td>{'selection__k': 800, 'estimator__lambda': 0, ...</td>\n",
       "      <td>81.73%</td>\n",
       "      <td>{'0': {'precision': 0.7453183520599251, 'recal...</td>\n",
       "    </tr>\n",
       "    <tr>\n",
       "      <th>3</th>\n",
       "      <td>XGBClassifier(base_score=None, booster=None, c...</td>\n",
       "      <td>strat_vies</td>\n",
       "      <td>NaN</td>\n",
       "      <td>MaxAbsScaler()</td>\n",
       "      <td>0 days 00:24:41.510090</td>\n",
       "      <td>100</td>\n",
       "      <td>89.98%</td>\n",
       "      <td>{'selection__k': 1024, 'estimator__lambda': 1,...</td>\n",
       "      <td>91.48%</td>\n",
       "      <td>{'0': {'precision': 0.9347826086956522, 'recal...</td>\n",
       "    </tr>\n",
       "    <tr>\n",
       "      <th>4</th>\n",
       "      <td>XGBClassifier(base_score=None, booster=None, c...</td>\n",
       "      <td>strat_partido</td>\n",
       "      <td>NaN</td>\n",
       "      <td>MaxAbsScaler()</td>\n",
       "      <td>0 days 00:24:12.951595</td>\n",
       "      <td>100</td>\n",
       "      <td>90.54%</td>\n",
       "      <td>{'selection__k': 800, 'estimator__lambda': 0, ...</td>\n",
       "      <td>90.87%</td>\n",
       "      <td>{'0': {'precision': 0.9154589371980676, 'recal...</td>\n",
       "    </tr>\n",
       "    <tr>\n",
       "      <th>5</th>\n",
       "      <td>XGBClassifier(base_score=None, booster=None, c...</td>\n",
       "      <td>pred_partido_novo</td>\n",
       "      <td>NaN</td>\n",
       "      <td>MaxAbsScaler()</td>\n",
       "      <td>0 days 00:22:10.833898</td>\n",
       "      <td>100</td>\n",
       "      <td>79.78%</td>\n",
       "      <td>{'selection__k': 800, 'estimator__lambda': 0, ...</td>\n",
       "      <td>80.99%</td>\n",
       "      <td>{'0': {'precision': 0.7777777777777778, 'recal...</td>\n",
       "    </tr>\n",
       "  </tbody>\n",
       "</table>\n",
       "</div>"
      ],
      "text/plain": [
       "                                              modelo              split  \\\n",
       "0  XGBClassifier(base_score=None, booster=None, c...         strat_vies   \n",
       "1  XGBClassifier(base_score=None, booster=None, c...      strat_partido   \n",
       "2  XGBClassifier(base_score=None, booster=None, c...  pred_partido_novo   \n",
       "3  XGBClassifier(base_score=None, booster=None, c...         strat_vies   \n",
       "4  XGBClassifier(base_score=None, booster=None, c...      strat_partido   \n",
       "5  XGBClassifier(base_score=None, booster=None, c...  pred_partido_novo   \n",
       "\n",
       "                              sampler         scaling   duracao_random_search  \\\n",
       "0  RandomOverSampler(random_state=42)  MaxAbsScaler()  0 days 00:30:38.921428   \n",
       "1  RandomOverSampler(random_state=42)  MaxAbsScaler()  0 days 00:28:56.746834   \n",
       "2  RandomOverSampler(random_state=42)  MaxAbsScaler()  0 days 00:28:21.603563   \n",
       "3                                 NaN  MaxAbsScaler()  0 days 00:24:41.510090   \n",
       "4                                 NaN  MaxAbsScaler()  0 days 00:24:12.951595   \n",
       "5                                 NaN  MaxAbsScaler()  0 days 00:22:10.833898   \n",
       "\n",
       "   qnt_iteracoes f1_randsearch  \\\n",
       "0            100        90.71%   \n",
       "1            100        90.86%   \n",
       "2            100        80.01%   \n",
       "3            100        89.98%   \n",
       "4            100        90.54%   \n",
       "5            100        79.78%   \n",
       "\n",
       "                                 melhores_parametros f1_pred  \\\n",
       "0  {'selection__k': 800, 'estimator__lambda': 0, ...  91.48%   \n",
       "1  {'selection__k': 800, 'estimator__lambda': 0, ...   90.9%   \n",
       "2  {'selection__k': 800, 'estimator__lambda': 0, ...  81.73%   \n",
       "3  {'selection__k': 1024, 'estimator__lambda': 1,...  91.48%   \n",
       "4  {'selection__k': 800, 'estimator__lambda': 0, ...  90.87%   \n",
       "5  {'selection__k': 800, 'estimator__lambda': 0, ...  80.99%   \n",
       "\n",
       "                                        class_report  \n",
       "0  {'0': {'precision': 0.9182242990654206, 'recal...  \n",
       "1  {'0': {'precision': 0.8831460674157303, 'recal...  \n",
       "2  {'0': {'precision': 0.7453183520599251, 'recal...  \n",
       "3  {'0': {'precision': 0.9347826086956522, 'recal...  \n",
       "4  {'0': {'precision': 0.9154589371980676, 'recal...  \n",
       "5  {'0': {'precision': 0.7777777777777778, 'recal...  "
      ]
     },
     "execution_count": 3,
     "metadata": {},
     "output_type": "execute_result"
    }
   ],
   "source": [
    "df = pd.read_csv('compara-xgb-bert-100-.csv')\n",
    "df"
   ]
  },
  {
   "cell_type": "code",
   "execution_count": 4,
   "id": "1787d6ad-50bd-4683-8865-bbd1f42d15da",
   "metadata": {},
   "outputs": [
    {
     "data": {
      "text/plain": [
       "\"{'selection__k': 800, 'estimator__lambda': 0, 'estimator__gamma': 0, 'estimator__colsample_bytree': 1, 'estimator__alpha': 22}\""
      ]
     },
     "execution_count": 4,
     "metadata": {},
     "output_type": "execute_result"
    }
   ],
   "source": [
    "df.melhores_parametros.iloc[0]"
   ]
  },
  {
   "cell_type": "code",
   "execution_count": 5,
   "id": "e633d7d8-8e31-419d-8bfc-2898b1b8b0ad",
   "metadata": {},
   "outputs": [
    {
     "data": {
      "text/plain": [
       "\"{'selection__k': 800, 'estimator__lambda': 0, 'estimator__gamma': 0, 'estimator__colsample_bytree': 1, 'estimator__alpha': 22}\""
      ]
     },
     "execution_count": 5,
     "metadata": {},
     "output_type": "execute_result"
    }
   ],
   "source": [
    "df.melhores_parametros.iloc[1]"
   ]
  },
  {
   "cell_type": "code",
   "execution_count": 6,
   "id": "b6228445-38d6-4cf9-957b-2c976a2641bf",
   "metadata": {},
   "outputs": [
    {
     "data": {
      "text/plain": [
       "\"{'selection__k': 800, 'estimator__lambda': 0, 'estimator__gamma': 0, 'estimator__colsample_bytree': 1, 'estimator__alpha': 22}\""
      ]
     },
     "execution_count": 6,
     "metadata": {},
     "output_type": "execute_result"
    }
   ],
   "source": [
    "df.melhores_parametros.iloc[2]"
   ]
  },
  {
   "cell_type": "code",
   "execution_count": null,
   "id": "9c7a2509-e98f-4cc7-a97a-f58f9313f499",
   "metadata": {},
   "outputs": [],
   "source": []
  }
 ],
 "metadata": {
  "kernelspec": {
   "display_name": "Python 3 (ipykernel)",
   "language": "python",
   "name": "python3"
  },
  "language_info": {
   "codemirror_mode": {
    "name": "ipython",
    "version": 3
   },
   "file_extension": ".py",
   "mimetype": "text/x-python",
   "name": "python",
   "nbconvert_exporter": "python",
   "pygments_lexer": "ipython3",
   "version": "3.9.13"
  }
 },
 "nbformat": 4,
 "nbformat_minor": 5
}
