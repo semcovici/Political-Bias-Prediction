{
 "cells": [
  {
   "cell_type": "code",
   "execution_count": 3,
   "id": "0a403d3c",
   "metadata": {},
   "outputs": [],
   "source": [
    "# == importar bibliotecas == \n",
    "\n",
    "from bs4 import BeautifulSoup as bs\n",
    "import unicodedata as ucd\n",
    "import requests\n",
    "import pandas as pd\n",
    "import numpy as np\n",
    "import os\n",
    "from itertools import chain "
   ]
  },
  {
   "cell_type": "code",
   "execution_count": 79,
   "id": "0f367fd1",
   "metadata": {},
   "outputs": [],
   "source": [
    "# == settando variáveis == \n",
    "\n",
    "JORNAL = 'PSTU'\n",
    "LABEL = 'esquerda' \n",
    "URL = \"https://www.pstu.org.br/category/opiniao-socialista/\"\n",
    "NUM_PAG = 36\n",
    "restrict_content = 'Opinião Socialista'\n",
    "class_1 = 'td-pb-span8 td-main-content'\n",
    "class_2 = 'entry-title td-module-title'\n",
    "class_3 = 'td-post-content'"
   ]
  },
  {
   "cell_type": "code",
   "execution_count": 9,
   "id": "4a01505c",
   "metadata": {},
   "outputs": [],
   "source": [
    "# == obter html == \n",
    "\n",
    "def get_soup(url):\n",
    "    response = requests.get(url)\n",
    "    html = response.content\n",
    "    soup = bs(html, 'lxml')\n",
    "    return soup"
   ]
  },
  {
   "cell_type": "code",
   "execution_count": 10,
   "id": "1866dec4",
   "metadata": {},
   "outputs": [],
   "source": [
    "# == obter dataframe do texto == \n",
    "\n",
    "def return_df(url, text):\n",
    "    return pd.DataFrame({\n",
    "        'jornal': JORNAL,\n",
    "        'url': url,\n",
    "        'artigo': text,\n",
    "        'label': LABEL\n",
    "    }, index=[1])"
   ]
  },
  {
   "cell_type": "code",
   "execution_count": 76,
   "id": "905815d4",
   "metadata": {},
   "outputs": [],
   "source": [
    "from tqdm import tqdm\n",
    "from joblib import Parallel, delayed"
   ]
  },
  {
   "cell_type": "code",
   "execution_count": 71,
   "id": "15569ba4",
   "metadata": {
    "scrolled": true
   },
   "outputs": [
    {
     "name": "stderr",
     "output_type": "stream",
     "text": [
      "100%|██████████| 36/36 [00:08<00:00,  4.35it/s]\n"
     ]
    }
   ],
   "source": [
    "# == coletar os sites de artigos == \n",
    "\n",
    "def get_links(pag_num):\n",
    "    cur_list = []\n",
    "    soup = get_soup(f'{URL}page/{pag_num}')\n",
    "    target = soup.find(\"div\", class_=class_1)\n",
    "    for noticia in target.find_all(\"h3\", class_=class_2):\n",
    "        if restrict_content not in noticia.text:\n",
    "            cur_list.append(noticia.find(\"a\", href=True).get('href'))\n",
    "    return cur_list\n",
    "\n",
    "list_url = []\n",
    "for n in range(PAGE_NUM):\n",
    "    list_url.append(get_links(n))"
   ]
  },
  {
   "cell_type": "code",
   "execution_count": 72,
   "id": "d7fd4212",
   "metadata": {},
   "outputs": [],
   "source": [
    "# == remover url duplicado == \n",
    "\n",
    "list_url = list(chain.from_iterable(list_url))\n",
    "list_url = list(set(list_url))"
   ]
  },
  {
   "cell_type": "code",
   "execution_count": 81,
   "id": "29ae51ce",
   "metadata": {
    "scrolled": true
   },
   "outputs": [
    {
     "name": "stderr",
     "output_type": "stream",
     "text": [
      "100%|██████████| 627/627 [00:53<00:00, 11.79it/s]\n"
     ]
    }
   ],
   "source": [
    "# == obter conteúdo da notícia == \n",
    "\n",
    "def get_artigo(url):\n",
    "    soup = get_soup(url)\n",
    "    list_text = []\n",
    "    for div in soup.find_all(\"div\", class_=class_3):\n",
    "        for p in div.find_all(\"p\"):\n",
    "            list_text.append(ucd.normalize(\"NFKD\", p.text))\n",
    "        return return_df(url, \" \".join(list_text))\n",
    "\n",
    "res = []\n",
    "for url in list_url:\n",
    "    res.append(get_artigo(url))\n",
    "scrap = pd.concat(res)"
   ]
  },
  {
   "cell_type": "code",
   "execution_count": 89,
   "id": "02bb0814",
   "metadata": {},
   "outputs": [],
   "source": [
    "# == salvar o scrapping == \n",
    "\n",
    "scrap.to_parquet('../dataset/scrapping/PSTU.parquet')\n",
    "scrap.to_csv('../dataset/scrapping/PSTU.csv')"
   ]
  },
  {
   "cell_type": "code",
   "execution_count": 78,
   "id": "835de675",
   "metadata": {},
   "outputs": [],
   "source": []
  },
  {
   "cell_type": "code",
   "execution_count": 90,
   "id": "bc150b92",
   "metadata": {},
   "outputs": [
    {
     "data": {
      "text/plain": [
       "(627, 4)"
      ]
     },
     "execution_count": 90,
     "metadata": {},
     "output_type": "execute_result"
    }
   ],
   "source": [
    "scrap.shape"
   ]
  },
  {
   "cell_type": "code",
   "execution_count": null,
   "id": "51433a80",
   "metadata": {},
   "outputs": [],
   "source": []
  }
 ],
 "metadata": {
  "kernelspec": {
   "display_name": "Python 3",
   "language": "python",
   "name": "python3"
  },
  "language_info": {
   "codemirror_mode": {
    "name": "ipython",
    "version": 3
   },
   "file_extension": ".py",
   "mimetype": "text/x-python",
   "name": "python",
   "nbconvert_exporter": "python",
   "pygments_lexer": "ipython3",
   "version": "3.7.6"
  }
 },
 "nbformat": 4,
 "nbformat_minor": 5
}
