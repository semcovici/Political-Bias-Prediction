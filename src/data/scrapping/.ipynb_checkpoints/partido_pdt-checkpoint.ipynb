{
 "cells": [
  {
   "cell_type": "code",
   "execution_count": 91,
   "id": "0a403d3c",
   "metadata": {},
   "outputs": [],
   "source": [
    "# == importar bibliotecas == \n",
    "\n",
    "from bs4 import BeautifulSoup as bs\n",
    "import unicodedata as ucd\n",
    "import requests\n",
    "import pandas as pd\n",
    "import numpy as np\n",
    "import os\n",
    "from itertools import chain \n",
    "from time import sleep\n",
    "from selenium import webdriver\n",
    "from selenium.webdriver.common.by import By"
   ]
  },
  {
   "cell_type": "code",
   "execution_count": 92,
   "id": "0f367fd1",
   "metadata": {},
   "outputs": [],
   "source": [
    "# == settando variáveis == \n",
    "\n",
    "JORNAL = 'PDT'\n",
    "LABEL = 'centro' \n",
    "URL = \"https://pdt.org.br/index.php/artigos/\"\n",
    "NUM_PAG = 46\n",
    "class_1 = 'inside-grid-column'\n",
    "class_2 = 'entry-content'"
   ]
  },
  {
   "cell_type": "code",
   "execution_count": 93,
   "id": "8c165735",
   "metadata": {},
   "outputs": [],
   "source": [
    "# == configurando env == \n",
    "\n",
    "driver= webdriver.Chrome()\n",
    "driver.maximize_window()"
   ]
  },
  {
   "cell_type": "code",
   "execution_count": 72,
   "id": "4a01505c",
   "metadata": {},
   "outputs": [],
   "source": [
    "# == obter html == \n",
    "\n",
    "def get_soup(driver):\n",
    "    soup = bs(driver.page_source, \"html.parser\")\n",
    "    return soup"
   ]
  },
  {
   "cell_type": "code",
   "execution_count": 73,
   "id": "1866dec4",
   "metadata": {},
   "outputs": [],
   "source": [
    "# == obter dataframe do texto == \n",
    "\n",
    "def return_df(url, text):\n",
    "    return pd.DataFrame({\n",
    "        'jornal': JORNAL,\n",
    "        'url': url,\n",
    "        'artigo': text,\n",
    "        'label': LABEL\n",
    "    }, index=[1])"
   ]
  },
  {
   "cell_type": "code",
   "execution_count": null,
   "id": "15569ba4",
   "metadata": {
    "scrolled": true
   },
   "outputs": [],
   "source": [
    "# == coletar os sites de artigos == \n",
    "\n",
    "def get_links(pag_num):\n",
    "    cur_list = []\n",
    "    driver.get(f'{URL}pagina/{pag_num}')\n",
    "    sleep(5)\n",
    "    soup = get_soup(driver)\n",
    "    for noticia in soup.find_all(\"div\", class_=class_1):\n",
    "        for artigo in noticia.find_all(\"a\", href=True):\n",
    "            cur_list.append(artigo.get('href'))\n",
    "    return cur_list\n",
    "\n",
    "list_url = []\n",
    "for n in range(NUM_PAG):\n",
    "    list_url.append(get_links(n))"
   ]
  },
  {
   "cell_type": "code",
   "execution_count": 79,
   "id": "d7fd4212",
   "metadata": {},
   "outputs": [],
   "source": [
    "# == remover url duplicado == \n",
    "\n",
    "list_url = list(chain.from_iterable(list_url))\n",
    "list_url = list(set(list_url))"
   ]
  },
  {
   "cell_type": "code",
   "execution_count": null,
   "id": "29ae51ce",
   "metadata": {
    "scrolled": true
   },
   "outputs": [],
   "source": [
    "# == obter conteúdo da notícia == \n",
    "\n",
    "def get_artigo(url):\n",
    "    driver.get(url)\n",
    "    sleep(5)\n",
    "    soup = get_soup(driver)\n",
    "    list_text = []\n",
    "    for div in soup.find_all(\"div\", class_=class_2):\n",
    "        for p in div.find_all(\"p\"):\n",
    "            list_text.append(ucd.normalize(\"NFKD\", p.text))\n",
    "        return return_df(url, \" \".join(list_text))\n",
    "\n",
    "res = []\n",
    "for url in list_url:\n",
    "    res.append(get_artigo(url))\n",
    "scrap = pd.concat(res)"
   ]
  },
  {
   "cell_type": "code",
   "execution_count": 101,
   "id": "02bb0814",
   "metadata": {},
   "outputs": [],
   "source": [
    "# == salvar o scrapping == \n",
    "\n",
    "scrap.to_parquet('../dataset/scrapping/PDT.parquet')\n",
    "scrap.to_csv('../dataset/scrapping/PDT.csv')"
   ]
  },
  {
   "cell_type": "code",
   "execution_count": 95,
   "id": "bc150b92",
   "metadata": {},
   "outputs": [
    {
     "data": {
      "text/plain": [
       "(450, 4)"
      ]
     },
     "execution_count": 95,
     "metadata": {},
     "output_type": "execute_result"
    }
   ],
   "source": [
    "scrap.shape"
   ]
  },
  {
   "cell_type": "code",
   "execution_count": null,
   "id": "e5459151",
   "metadata": {},
   "outputs": [],
   "source": []
  }
 ],
 "metadata": {
  "kernelspec": {
   "display_name": "Python 3",
   "language": "python",
   "name": "python3"
  },
  "language_info": {
   "codemirror_mode": {
    "name": "ipython",
    "version": 3
   },
   "file_extension": ".py",
   "mimetype": "text/x-python",
   "name": "python",
   "nbconvert_exporter": "python",
   "pygments_lexer": "ipython3",
   "version": "3.7.6"
  }
 },
 "nbformat": 4,
 "nbformat_minor": 5
}
