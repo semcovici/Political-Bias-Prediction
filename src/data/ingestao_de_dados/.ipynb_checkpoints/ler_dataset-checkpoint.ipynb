{
 "cells": [
  {
   "cell_type": "code",
   "execution_count": 23,
   "id": "714258e1-e04b-4a8a-9286-8a1ac308cb54",
   "metadata": {},
   "outputs": [],
   "source": [
    "# == importar bibliotecas == \n",
    "\n",
    "import pandas as pd\n",
    "import numpy as np\n",
    "from tqdm import tqdm\n",
    "import os\n",
    "import json\n",
    "from googletrans import Translator\n",
    "import warnings\n",
    "warnings.filterwarnings('ignore')"
   ]
  },
  {
   "cell_type": "code",
   "execution_count": 47,
   "id": "182a40a1-e6ca-43b2-adde-30ab02dc59c8",
   "metadata": {},
   "outputs": [
    {
     "name": "stderr",
     "output_type": "stream",
     "text": [
      "100%|██████████| 37554/37554 [00:04<00:00, 9127.44it/s]\n"
     ]
    }
   ],
   "source": [
    "# == ler os arquivos .jsons e montar o dataset == \n",
    "\n",
    "path = './jsons'\n",
    "content_list = []\n",
    "for n, arquivo in enumerate(tqdm(os.listdir(path))):\n",
    "    with open(f'{path}/{arquivo}') as f:\n",
    "       content_list.append(json.load(f))\n",
    "dataset = pd.DataFrame(content_list)"
   ]
  },
  {
   "cell_type": "code",
   "execution_count": 48,
   "id": "85962c4a-3432-41f1-9b69-be9da8ef5942",
   "metadata": {},
   "outputs": [],
   "source": [
    "# == traduzir as colunas == \n",
    "\n",
    "dataset = dataset.rename(columns={\n",
    "    'topic': 'topico',\n",
    "    'source': 'fonte',\n",
    "    'bias': 'rotulo',\n",
    "    'title': 'titulo',\n",
    "    'date': 'data',\n",
    "    'authors': 'autores',\n",
    "    'content': 'conteudo',\n",
    "    'content_original': 'conteudo_raw',\n",
    "    'source_url': 'url_fonte',\n",
    "    'bias_text': 'rotulo_texto',\n",
    "    'ID': 'id'\n",
    "})"
   ]
  },
  {
   "cell_type": "code",
   "execution_count": 49,
   "id": "a499edee-79b1-4fcb-be2b-33ca569948c1",
   "metadata": {},
   "outputs": [],
   "source": [
    "# == remover o rótulo centro == \n",
    "\n",
    "dataset = dataset[dataset.rotulo_texto != 'center']"
   ]
  },
  {
   "cell_type": "code",
   "execution_count": 50,
   "id": "b62b27a3-32d9-4006-9c7f-118a10b2150d",
   "metadata": {},
   "outputs": [],
   "source": [
    "# == traduzir o rótulo == \n",
    "\n",
    "dataset.rotulo_texto = dataset.rotulo_texto.map({\n",
    "    'left': 'esquerda',\n",
    "    'right': 'direita'\n",
    "})"
   ]
  },
  {
   "cell_type": "code",
   "execution_count": 67,
   "id": "69646781-6b53-405f-a5fd-d0f62aa131f3",
   "metadata": {},
   "outputs": [],
   "source": [
    "# == limpar o conteúdo (a ideia eh ir arrumando conforme for achando) == \n",
    "\n",
    "dataset.conteudo = dataset.conteudo.str.replace('\\n', '')\n",
    "dataset.conteudo_raw = dataset.conteudo_raw.str.replace('\\n', '')"
   ]
  },
  {
   "cell_type": "code",
   "execution_count": 70,
   "id": "3585a993-9a3e-415d-b4e4-d4f6ba0faee5",
   "metadata": {},
   "outputs": [],
   "source": [
    "# == salvar o dataset == \n",
    "\n",
    "#dataset.to_parquet('../dataset/dados_treino_ingles.parquet')"
   ]
  },
  {
   "cell_type": "code",
   "execution_count": 84,
   "id": "49cfd137-5de7-4d0f-8824-39474289a70e",
   "metadata": {},
   "outputs": [
    {
     "name": "stderr",
     "output_type": "stream",
     "text": [
      "100%|██████████| 26739/26739 [1:34:06<00:00,  4.74it/s]  \n",
      "100%|██████████| 26739/26739 [1:36:45<00:00,  4.61it/s]  \n"
     ]
    }
   ],
   "source": [
    "# == traduzir o texto para pt-br (temporário para caso precise) ==\n",
    "\n",
    "dataset_pt = dataset.copy()\n",
    "translator = Translator()\n",
    "dataset_pt.conteudo = dataset_pt.conteudo.apply(\n",
    "    lambda x : translator.translate(x, dest='pt').text\n",
    ")\n",
    "dataset_pt.conteudo_raw = dataset_pt.conteudo_raw.apply(\n",
    "    lambda x : translator.translate(x, dest='pt').text\n",
    ")"
   ]
  },
  {
   "cell_type": "code",
   "execution_count": 85,
   "id": "92cf6c99-ab06-4bf0-adb8-979e98def8a2",
   "metadata": {},
   "outputs": [],
   "source": [
    "# == salvar o dataset == \n",
    "\n",
    "#dataset_pt.to_parquet('../dataset/dados_treino_pt_googletrad.parquet')"
   ]
  },
  {
   "cell_type": "code",
   "execution_count": 2,
   "id": "782d7bc3-faea-485c-a66b-91504aacf3d5",
   "metadata": {},
   "outputs": [],
   "source": [
    "# == particionar os dados == \n",
    "\n",
    "# for n, ds in enumerate(np.array_split(dataset, 5)):\n",
    "#     ds.to_parquet(f'../dataset/dados_treino_ingles/parte_{n+1}.parquet')\n",
    "# for n, ds in enumerate(np.array_split(dataset_pt, 5)):\n",
    "#     ds.to_parquet(f'../dataset/dados_treino_pt_google_trad/parte_{n+1}.parquet')"
   ]
  },
  {
   "cell_type": "code",
   "execution_count": null,
   "id": "ab33fe42-bae5-4194-913e-d2ef96d4ed88",
   "metadata": {},
   "outputs": [],
   "source": []
  }
 ],
 "metadata": {
  "environment": {
   "kernel": "python3",
   "name": "tf2-gpu.2-11.m108",
   "type": "gcloud",
   "uri": "gcr.io/deeplearning-platform-release/tf2-gpu.2-11:m108"
  },
  "kernelspec": {
   "display_name": "Python 3 (ipykernel)",
   "language": "python",
   "name": "python3"
  },
  "language_info": {
   "codemirror_mode": {
    "name": "ipython",
    "version": 3
   },
   "file_extension": ".py",
   "mimetype": "text/x-python",
   "name": "python",
   "nbconvert_exporter": "python",
   "pygments_lexer": "ipython3",
   "version": "3.10.10"
  }
 },
 "nbformat": 4,
 "nbformat_minor": 5
}
