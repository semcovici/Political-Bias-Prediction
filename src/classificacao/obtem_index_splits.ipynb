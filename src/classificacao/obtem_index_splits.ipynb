{
 "cells": [
  {
   "cell_type": "code",
   "execution_count": 1,
   "metadata": {},
   "outputs": [],
   "source": [
    "import pandas as pd \n",
    "\n",
    "from sklearn.preprocessing import MaxAbsScaler\n",
    "from sklearn.preprocessing import MinMaxScaler\n",
    "from datetime import datetime\n",
    "from scipy.stats import uniform\n",
    "\n",
    "from sklearn.naive_bayes import MultinomialNB\n",
    "from sklearn.svm import SVC\n",
    "from sklearn.model_selection import train_test_split\n",
    "from sklearn.feature_extraction.text import CountVectorizer\n",
    "#from sklearn.pipeline import Pipeline\n",
    "from imblearn.pipeline import Pipeline\n",
    "from imblearn.over_sampling import RandomOverSampler\n",
    "from sklearn.feature_selection import SelectKBest\n",
    "from sklearn.model_selection import cross_val_score\n",
    "from sklearn.metrics import classification_report\n",
    "from sklearn.metrics import f1_score\n",
    "\n",
    "\n",
    "from sklearn.linear_model import LogisticRegression\n",
    "from sklearn.ensemble import RandomForestClassifier\n",
    "from sklearn.svm import LinearSVC\n",
    "\n",
    "from xgboost import XGBClassifier\n",
    "from sklearn.model_selection import StratifiedKFold\n",
    "from sklearn.feature_extraction.text import TfidfVectorizer\n",
    "from sklearn.compose import ColumnTransformer\n",
    "from sklearn.metrics import accuracy_score\n",
    "import numpy as np\n",
    "from sklearn.model_selection import RandomizedSearchCV\n",
    "from sklearn import set_config\n",
    "set_config(display='diagram')\n",
    "import datetime\n",
    "import time"
   ]
  },
  {
   "cell_type": "code",
   "execution_count": 2,
   "metadata": {},
   "outputs": [],
   "source": [
    "data = pd.read_parquet('../../dataset/processed/artigos_tratados/bertimbau/artigos_tratados_bert_lg.parquet')"
   ]
  },
  {
   "cell_type": "code",
   "execution_count": 3,
   "metadata": {},
   "outputs": [],
   "source": [
    "df_index = pd.DataFrame({\n",
    "    'name': [],\n",
    "    'value':[]\n",
    "})"
   ]
  },
  {
   "cell_type": "code",
   "execution_count": 4,
   "metadata": {},
   "outputs": [
    {
     "data": {
      "text/plain": [
       "Index([ 1140,  1165,  1188,  1314,  1320,  1339,  1361,  2003,  2047,  2168,\n",
       "       ...\n",
       "       10931, 10933, 10934, 10935, 10936, 10940, 10943, 10944, 10945, 10951],\n",
       "      dtype='int64', length=180)"
      ]
     },
     "execution_count": 4,
     "metadata": {},
     "output_type": "execute_result"
    }
   ],
   "source": [
    "linhas_sem_texto = data[data['Conteudo'] == '']\n",
    "linhas_sem_texto.index "
   ]
  },
  {
   "cell_type": "code",
   "execution_count": 5,
   "metadata": {},
   "outputs": [],
   "source": [
    "data = data[data['Conteudo'] != '']"
   ]
  },
  {
   "cell_type": "code",
   "execution_count": 6,
   "metadata": {},
   "outputs": [],
   "source": [
    "row_linhas_sem_texto = {\n",
    "    'name': 'linhas_sem_texto',\n",
    "    'value': str(linhas_sem_texto.index.to_list())\n",
    "}\n"
   ]
  },
  {
   "cell_type": "code",
   "execution_count": 7,
   "metadata": {},
   "outputs": [],
   "source": [
    "df_index.loc[len(df_index)] = row_linhas_sem_texto"
   ]
  },
  {
   "cell_type": "code",
   "execution_count": 8,
   "metadata": {},
   "outputs": [],
   "source": [
    "X_columns = [column for column in data.columns if column != 'Vies']\n",
    "X = data[X_columns] # features\n",
    "y = data['Vies'] # label\n"
   ]
  },
  {
   "cell_type": "code",
   "execution_count": 9,
   "metadata": {},
   "outputs": [],
   "source": [
    "X_train_val_strat_vies, X_test_strat_vies, y_train_val_strat_vies, y_test_strat_vies = train_test_split(X, y,\n",
    "                                                                                                test_size=0.2,\n",
    "                                                                                                random_state=42,\n",
    "                                                                                                stratify=y)\n",
    "\n",
    "X_train_strat_vies, X_val_strat_vies, y_train_strat_vies, y_val_strat_vies = train_test_split(X_train_val_strat_vies, y_train_val_strat_vies,\n",
    "                                                                                                test_size=0.1,\n",
    "                                                                                                random_state=42,\n",
    "                                                                                                stratify=y_train_val_strat_vies)"
   ]
  },
  {
   "cell_type": "code",
   "execution_count": 10,
   "metadata": {},
   "outputs": [],
   "source": [
    "strat_vies = {\n",
    "    'name': 'strat_vies',\n",
    "    'value': [\n",
    "        X_train_strat_vies.index.to_list(), \n",
    "        X_val_strat_vies.index.to_list(), \n",
    "        X_test_strat_vies.index.to_list()\n",
    "    ]\n",
    "}\n",
    "df_index.loc[len(df_index)] = strat_vies"
   ]
  },
  {
   "cell_type": "code",
   "execution_count": 11,
   "metadata": {},
   "outputs": [],
   "source": [
    "X_train_val_strat_part, X_test_strat_part, y_train_val_strat_part, y_test_strat_part = train_test_split(X, y,\n",
    "                                                                                                test_size=0.2,\n",
    "                                                                                                random_state=42,\n",
    "                                                                                                stratify=data['Partido'])\n",
    "\n",
    "X_train_strat_part, X_val_strat_part, y_train_strat_part, y_val_strat_part = train_test_split(X_train_val_strat_part, y_train_val_strat_part,\n",
    "                                                                                                test_size=0.1,\n",
    "                                                                                                random_state=42,\n",
    "                                                                                                stratify=X_train_val_strat_part['Partido'])"
   ]
  },
  {
   "cell_type": "code",
   "execution_count": 12,
   "metadata": {},
   "outputs": [],
   "source": [
    "strat_part = {\n",
    "    'name': 'strat_part',\n",
    "    'value': [\n",
    "        X_train_strat_part.index.to_list(), \n",
    "        X_val_strat_part.index.to_list(), \n",
    "        X_test_strat_part.index.to_list()\n",
    "    ]\n",
    "}\n",
    "\n",
    "df_index.loc[len(df_index)] = strat_part"
   ]
  },
  {
   "cell_type": "code",
   "execution_count": 13,
   "metadata": {},
   "outputs": [],
   "source": [
    "part_teste = ['PSTU', 'PV', 'Novo'] # partidos do conjunto de teste\n",
    "\n",
    "test = data[data['Partido'].isin(part_teste)].copy() # selecao dos dados de teste\n",
    "test.drop('Partido', axis=1, inplace=True) # remocao da coluna partido\n",
    "\n",
    "train = data[~data['Partido'].isin(part_teste)].copy() # selecao dos dados de treino\n",
    "train.drop('Partido', axis=1, inplace=True) # remocao da coluna partido"
   ]
  },
  {
   "cell_type": "code",
   "execution_count": 14,
   "metadata": {},
   "outputs": [],
   "source": [
    "X_train_val_part_novos = train.drop('Vies', axis=1) # X_train\n",
    "y_train_val_part_novos = train['Vies'] # y_train\n",
    "\n",
    "X_train_part_novos, X_val_part_novos, y_train_part_novos, y_val_part_novos = train_test_split(X_train_val_part_novos, y_train_val_part_novos,\n",
    "                                                                                                test_size=0.1,\n",
    "                                                                                                random_state=42)\n",
    "\n",
    "X_test_part_novos = test.drop('Vies', axis=1) # X_test\n",
    "y_test_part_novos = test['Vies'] # y_test"
   ]
  },
  {
   "cell_type": "code",
   "execution_count": 20,
   "metadata": {},
   "outputs": [
    {
     "data": {
      "text/plain": [
       "Vies\n",
       "direita     1161\n",
       "centro       814\n",
       "esquerda     622\n",
       "Name: count, dtype: int64"
      ]
     },
     "execution_count": 20,
     "metadata": {},
     "output_type": "execute_result"
    }
   ],
   "source": [
    "y_test_part_novos.value_counts()"
   ]
  },
  {
   "cell_type": "code",
   "execution_count": 15,
   "metadata": {},
   "outputs": [],
   "source": [
    "part_novos = {\n",
    "    'name': 'part_novos',\n",
    "    'value': [\n",
    "        X_train_part_novos.index.to_list(), \n",
    "        X_val_part_novos.index.to_list(), \n",
    "        X_test_part_novos.index.to_list()\n",
    "    ]\n",
    "}\n",
    "\n",
    "df_index.loc[len(df_index)] = part_novos"
   ]
  },
  {
   "cell_type": "code",
   "execution_count": 16,
   "metadata": {},
   "outputs": [
    {
     "data": {
      "text/html": [
       "<div>\n",
       "<style scoped>\n",
       "    .dataframe tbody tr th:only-of-type {\n",
       "        vertical-align: middle;\n",
       "    }\n",
       "\n",
       "    .dataframe tbody tr th {\n",
       "        vertical-align: top;\n",
       "    }\n",
       "\n",
       "    .dataframe thead th {\n",
       "        text-align: right;\n",
       "    }\n",
       "</style>\n",
       "<table border=\"1\" class=\"dataframe\">\n",
       "  <thead>\n",
       "    <tr style=\"text-align: right;\">\n",
       "      <th></th>\n",
       "      <th>name</th>\n",
       "      <th>value</th>\n",
       "    </tr>\n",
       "  </thead>\n",
       "  <tbody>\n",
       "    <tr>\n",
       "      <th>0</th>\n",
       "      <td>linhas_sem_texto</td>\n",
       "      <td>[1140, 1165, 1188, 1314, 1320, 1339, 1361, 200...</td>\n",
       "    </tr>\n",
       "    <tr>\n",
       "      <th>1</th>\n",
       "      <td>strat_vies</td>\n",
       "      <td>[[2596, 1763, 6620, 10805, 3029, 2637, 744, 41...</td>\n",
       "    </tr>\n",
       "    <tr>\n",
       "      <th>2</th>\n",
       "      <td>strat_part</td>\n",
       "      <td>[[4465, 2218, 972, 580, 1957, 5448, 6819, 8621...</td>\n",
       "    </tr>\n",
       "    <tr>\n",
       "      <th>3</th>\n",
       "      <td>part_novos</td>\n",
       "      <td>[[5497, 6570, 4197, 1214, 5300, 2491, 5284, 38...</td>\n",
       "    </tr>\n",
       "  </tbody>\n",
       "</table>\n",
       "</div>"
      ],
      "text/plain": [
       "               name                                              value\n",
       "0  linhas_sem_texto  [1140, 1165, 1188, 1314, 1320, 1339, 1361, 200...\n",
       "1        strat_vies  [[2596, 1763, 6620, 10805, 3029, 2637, 744, 41...\n",
       "2        strat_part  [[4465, 2218, 972, 580, 1957, 5448, 6819, 8621...\n",
       "3        part_novos  [[5497, 6570, 4197, 1214, 5300, 2491, 5284, 38..."
      ]
     },
     "execution_count": 16,
     "metadata": {},
     "output_type": "execute_result"
    }
   ],
   "source": [
    "df_index.head()"
   ]
  },
  {
   "cell_type": "code",
   "execution_count": 17,
   "metadata": {},
   "outputs": [],
   "source": [
    "df_index.to_csv('../../dataset/index_splits.csv', index = True)"
   ]
  }
 ],
 "metadata": {
  "kernelspec": {
   "display_name": ".venv",
   "language": "python",
   "name": "python3"
  },
  "language_info": {
   "codemirror_mode": {
    "name": "ipython",
    "version": 3
   },
   "file_extension": ".py",
   "mimetype": "text/x-python",
   "name": "python",
   "nbconvert_exporter": "python",
   "pygments_lexer": "ipython3",
   "version": "3.10.12"
  }
 },
 "nbformat": 4,
 "nbformat_minor": 2
}
