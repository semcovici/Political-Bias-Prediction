{
 "cells": [
  {
   "cell_type": "code",
   "execution_count": 55,
   "id": "1c86ec73",
   "metadata": {
    "tags": []
   },
   "outputs": [],
   "source": [
    "# == importando bibliotecas == \n",
    "\n",
    "import pandas as pd\n",
    "import numpy as np\n",
    "import re\n",
    "\n",
    "from IPython.core.interactiveshell import InteractiveShell\n",
    "InteractiveShell.ast_node_interactivity = \"all\"\n",
    "import warnings\n",
    "warnings.filterwarnings('ignore')"
   ]
  },
  {
   "cell_type": "code",
   "execution_count": 202,
   "id": "8e63c19e-20eb-4668-baf8-317fd1c2840b",
   "metadata": {
    "tags": []
   },
   "outputs": [],
   "source": [
    "artigos = {'Conteudo': [\"\"\"Ao participar da abertura do 26° encontro do Foro de São Paulo, o presidente Luiz Inácio Lula da Silva criticou a “direita fascista”, pediu união da esquerda no Brasil e disse que tem orgulho de ser chamado de “comunista”. Na cerimônia, ocorrida nesta quinta-feira, 29, em Brasília, o petista se reuniu com os partidos de esquerda da América Latina. Em seu discurso, o petista admitiu que o “discurso do patriotismo e da familia” não estão alinhados com o progressismo. “Aqui no Brasil, nós enfrentamos o discurso do costume, o discurso da família, o discurso do patriotismo. Ou seja, aqui nós enfrentamos o discurso que a gente aprendeu a historicamente combater”, afirmou o presidente da República. “Eles nos acusam de comunistas, achando que nós ficamos ofendidos com isso. Nós não ficamos ofendidos. Ficaríamos ofendidos se nos chamassem de nazista, de neofascista, de terrorista. Mas de comunista, de socialista, nunca. Isso não nos ofende. Isso nos orgulha muitas vezes”, continuou o petista.\n",
    "\n",
    "Fundado em 1990, por iniciativa do Partido dos Trabalhadores (PT) do Brasil e do Partido Comunista de Cuba, o Foro de São Paulo é um encontro dos partidos de esquerda da América Latina e tem como lema neste ano “Integração Regional para Avançar a Soberania Latino-americana e Caribenha”. Após a pandemia, o grupo retoma suas reuniões presenciais anuais. A última edição ocorreu em Caracas , capital da Venezuela, em 2019. Além de Lula, estiverem presentes a presidente do PT, Gleisi Hoffmann, a ministra da Ciência e Tecnologia e presidente do PCdoB, Luciana Santos, e o presidente da Embratur, Marcelo Freixo. Manifestantes contrários ao encontro protestaram na porta da sede do evento. Além disso, partidos de direita, como o PL, repudiaram a presença do que chamam de “ditadores”. No Twitter, a oposição levantou a hashtag #ForaForodeSP.\"\"\".replace(\"\\n\\n\", \" \")]}\n",
    "artigos = pd.DataFrame(artigos)"
   ]
  },
  {
   "cell_type": "code",
   "execution_count": 203,
   "id": "1a7789f2-e2f2-4810-b02a-3775774ef29a",
   "metadata": {
    "tags": []
   },
   "outputs": [
    {
     "data": {
      "text/plain": [
       "'Ao participar da abertura do 26° encontro do Foro de São Paulo, o presidente Luiz Inácio Lula da Silva criticou a “direita fascista”, pediu união da esquerda no Brasil e disse que tem orgulho de ser chamado de “comunista”. Na cerimônia, ocorrida nesta quinta-feira, 29, em Brasília, o petista se reuniu com os partidos de esquerda da América Latina. Em seu discurso, o petista admitiu que o “discurso do patriotismo e da familia” não estão alinhados com o progressismo. “Aqui no Brasil, nós enfrentamos o discurso do costume, o discurso da família, o discurso do patriotismo. Ou seja, aqui nós enfrentamos o discurso que a gente aprendeu a historicamente combater”, afirmou o presidente da República. “Eles nos acusam de comunistas, achando que nós ficamos ofendidos com isso. Nós não ficamos ofendidos. Ficaríamos ofendidos se nos chamassem de nazista, de neofascista, de terrorista. Mas de comunista, de socialista, nunca. Isso não nos ofende. Isso nos orgulha muitas vezes”, continuou o petista. Fundado em 1990, por iniciativa do Partido dos Trabalhadores (PT) do Brasil e do Partido Comunista de Cuba, o Foro de São Paulo é um encontro dos partidos de esquerda da América Latina e tem como lema neste ano “Integração Regional para Avançar a Soberania Latino-americana e Caribenha”. Após a pandemia, o grupo retoma suas reuniões presenciais anuais. A última edição ocorreu em Caracas , capital da Venezuela, em 2019. Além de Lula, estiverem presentes a presidente do PT, Gleisi Hoffmann, a ministra da Ciência e Tecnologia e presidente do PCdoB, Luciana Santos, e o presidente da Embratur, Marcelo Freixo. Manifestantes contrários ao encontro protestaram na porta da sede do evento. Além disso, partidos de direita, como o PL, repudiaram a presença do que chamam de “ditadores”. No Twitter, a oposição levantou a hashtag #ForaForodeSP.'"
      ]
     },
     "execution_count": 203,
     "metadata": {},
     "output_type": "execute_result"
    }
   ],
   "source": [
    "artigos.Conteudo.iloc[0]"
   ]
  },
  {
   "cell_type": "code",
   "execution_count": 204,
   "id": "1d51d13b",
   "metadata": {
    "tags": []
   },
   "outputs": [],
   "source": [
    "# == ler a base de artigos == \n",
    "\n",
    "#artigos = pd.read_parquet('../../dataset/processed/artigos_de_partidos/artigos_partidos.parquet')"
   ]
  },
  {
   "cell_type": "code",
   "execution_count": 205,
   "id": "7a02d033",
   "metadata": {
    "tags": []
   },
   "outputs": [],
   "source": [
    "# == tornar os artigos em letras minúsculas == \n",
    "\n",
    "artigos.Conteudo = artigos.Conteudo.str.lower()"
   ]
  },
  {
   "cell_type": "code",
   "execution_count": 206,
   "id": "918cbaee",
   "metadata": {
    "tags": []
   },
   "outputs": [],
   "source": [
    "# == remover artigos contendo links == \n",
    "\n",
    "#artigos[artigos.Conteudo.str.contains('http')].Partido.value_counts()\n",
    "#artigos = artigos[~artigos.Conteudo.str.contains('http')]"
   ]
  },
  {
   "cell_type": "code",
   "execution_count": 207,
   "id": "9f61d542",
   "metadata": {
    "tags": []
   },
   "outputs": [],
   "source": [
    "# == todas as sentenças após o penúltimo \".\" a fim de eliminar ruídos que não fazem parte do artigo == \n",
    "\n",
    "artigos.Conteudo = artigos.Conteudo.apply(\n",
    "    lambda x : ''.join(x.split('.')[:-2])\n",
    ")"
   ]
  },
  {
   "cell_type": "code",
   "execution_count": 208,
   "id": "2edff752",
   "metadata": {
    "tags": []
   },
   "outputs": [],
   "source": [
    "# == mascarar nome de partido == \n",
    "\n",
    "partidos = ['novo', 'pcb', 'pdt', 'pl', 'pp', 'psol', 'pstu', 'mdb', 'pcdob', 'psb', 'pt', 'pv', 'rede', 'união brasil']\n",
    "for partido in partidos:\n",
    "    artigos.Conteudo = artigos.Conteudo.str.replace(f' {partido} ', ' ')"
   ]
  },
  {
   "cell_type": "code",
   "execution_count": 209,
   "id": "4f9aab0e",
   "metadata": {
    "tags": []
   },
   "outputs": [],
   "source": [
    "# == remover todas as palavras contendo caracteres especiais ==\n",
    "\n",
    "artigos.Conteudo = artigos.Conteudo.apply(\n",
    "    lambda x : ' '.join(word for word in x.split(' ') if word.isalnum())\n",
    ")"
   ]
  },
  {
   "cell_type": "code",
   "execution_count": 210,
   "id": "8df27a29",
   "metadata": {
    "tags": []
   },
   "outputs": [],
   "source": [
    "# == normalização por unicode e encode ascii ==\n",
    "\n",
    "artigos.Conteudo = artigos.Conteudo.str.lower()\\\n",
    "                                   .str.normalize('NFKD')\\\n",
    "                                   .str.encode('ascii', errors='ignore')\\\n",
    "                                   .str.decode('utf-8')"
   ]
  },
  {
   "cell_type": "code",
   "execution_count": 211,
   "id": "ccb32155",
   "metadata": {
    "tags": []
   },
   "outputs": [],
   "source": [
    "# == remover pontuações e números == \n",
    "\n",
    "artigos.Conteudo = artigos.Conteudo.str.replace('[^a-zA-Z]', ' ')"
   ]
  },
  {
   "cell_type": "code",
   "execution_count": 212,
   "id": "a6f34760",
   "metadata": {
    "tags": []
   },
   "outputs": [],
   "source": [
    "# == remover double space == \n",
    "\n",
    "for n in range(30):\n",
    "    artigos.Conteudo = artigos.Conteudo.str.replace('  ', ' ')"
   ]
  },
  {
   "cell_type": "code",
   "execution_count": 213,
   "id": "4b223f44",
   "metadata": {
    "tags": []
   },
   "outputs": [],
   "source": [
    "# == analisar a contagem média de palavras por partido == \n",
    "\n",
    "#copy = artigos.copy()\n",
    "#copy['Contagem'] = copy.Conteudo.str.count(' ')\n",
    "#copy.groupby(\n",
    "#    by=['Vies', 'Partido'],\n",
    "#).agg(\n",
    "#    ContagemPalavras = ('Contagem', 'mean'), \n",
    "#    ContagemArtigos = ('Contagem', 'count')\n",
    "#)"
   ]
  },
  {
   "cell_type": "code",
   "execution_count": 214,
   "id": "cf001d0b",
   "metadata": {
    "tags": []
   },
   "outputs": [],
   "source": [
    "# == salvar o df tratado == \n",
    "\n",
    "artigos.to_csv('../../dataset/processed/artigos_tratados/artigo-direita4-.csv')"
   ]
  },
  {
   "cell_type": "code",
   "execution_count": null,
   "id": "882bd503",
   "metadata": {},
   "outputs": [],
   "source": []
  },
  {
   "cell_type": "code",
   "execution_count": null,
   "id": "219cf560-af1d-431b-8a74-66f75781703e",
   "metadata": {},
   "outputs": [],
   "source": []
  }
 ],
 "metadata": {
  "kernelspec": {
   "display_name": "Python 3 (ipykernel)",
   "language": "python",
   "name": "python3"
  },
  "language_info": {
   "codemirror_mode": {
    "name": "ipython",
    "version": 3
   },
   "file_extension": ".py",
   "mimetype": "text/x-python",
   "name": "python",
   "nbconvert_exporter": "python",
   "pygments_lexer": "ipython3",
   "version": "3.9.13"
  }
 },
 "nbformat": 4,
 "nbformat_minor": 5
}
