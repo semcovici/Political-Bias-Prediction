{
 "cells": [
  {
   "cell_type": "code",
   "execution_count": 1,
   "id": "1c86ec73",
   "metadata": {
    "tags": []
   },
   "outputs": [],
   "source": [
    "# == importando bibliotecas == \n",
    "\n",
    "import pandas as pd\n",
    "import numpy as np\n",
    "import re\n",
    "\n",
    "from IPython.core.interactiveshell import InteractiveShell\n",
    "InteractiveShell.ast_node_interactivity = \"all\"\n",
    "import warnings\n",
    "warnings.filterwarnings('ignore')"
   ]
  },
  {
   "cell_type": "code",
   "execution_count": 4,
   "id": "5ac44929-4cf5-48e0-abb3-6835108a5da0",
   "metadata": {},
   "outputs": [
    {
     "data": {
      "text/html": [
       "<div>\n",
       "<style scoped>\n",
       "    .dataframe tbody tr th:only-of-type {\n",
       "        vertical-align: middle;\n",
       "    }\n",
       "\n",
       "    .dataframe tbody tr th {\n",
       "        vertical-align: top;\n",
       "    }\n",
       "\n",
       "    .dataframe thead th {\n",
       "        text-align: right;\n",
       "    }\n",
       "</style>\n",
       "<table border=\"1\" class=\"dataframe\">\n",
       "  <thead>\n",
       "    <tr style=\"text-align: right;\">\n",
       "      <th></th>\n",
       "      <th>Conteudo</th>\n",
       "    </tr>\n",
       "  </thead>\n",
       "  <tbody>\n",
       "    <tr>\n",
       "      <th>0</th>\n",
       "      <td>\\n                O pastor petista da Comunida...</td>\n",
       "    </tr>\n",
       "    <tr>\n",
       "      <th>1</th>\n",
       "      <td>\\n            O presidente Luiz Inácio Lula da...</td>\n",
       "    </tr>\n",
       "    <tr>\n",
       "      <th>2</th>\n",
       "      <td>\\n            Enquanto aumentam as tensões por...</td>\n",
       "    </tr>\n",
       "    <tr>\n",
       "      <th>3</th>\n",
       "      <td>\\n            A Confederação Nacional da Agric...</td>\n",
       "    </tr>\n",
       "    <tr>\n",
       "      <th>4</th>\n",
       "      <td>\\n            O presidente Luiz Inácio Lula da...</td>\n",
       "    </tr>\n",
       "    <tr>\n",
       "      <th>5</th>\n",
       "      <td>\\n            O ministro da Justiça, Flávio Di...</td>\n",
       "    </tr>\n",
       "    <tr>\n",
       "      <th>6</th>\n",
       "      <td>\\n            O presidente do Tribunal Superio...</td>\n",
       "    </tr>\n",
       "    <tr>\n",
       "      <th>7</th>\n",
       "      <td>\\n            Ao comentar sobre o estado de sa...</td>\n",
       "    </tr>\n",
       "    <tr>\n",
       "      <th>8</th>\n",
       "      <td>\\n            O presidente Luiz Inácio Lula da...</td>\n",
       "    </tr>\n",
       "    <tr>\n",
       "      <th>9</th>\n",
       "      <td>\\n            A Câmara dos Deputados restringi...</td>\n",
       "    </tr>\n",
       "    <tr>\n",
       "      <th>10</th>\n",
       "      <td>\\n                O presidente Luiz Inácio Lul...</td>\n",
       "    </tr>\n",
       "    <tr>\n",
       "      <th>11</th>\n",
       "      <td>\\n                Nesta quarta-feira (6), dado...</td>\n",
       "    </tr>\n",
       "    <tr>\n",
       "      <th>12</th>\n",
       "      <td>\\n                Jair Bolsonaro, que está ine...</td>\n",
       "    </tr>\n",
       "    <tr>\n",
       "      <th>13</th>\n",
       "      <td>\\n                O Ministério dos Direitos Hu...</td>\n",
       "    </tr>\n",
       "    <tr>\n",
       "      <th>14</th>\n",
       "      <td>\\n                À medida que o mundo continu...</td>\n",
       "    </tr>\n",
       "    <tr>\n",
       "      <th>15</th>\n",
       "      <td>\\n                Um acidente de trabalho envo...</td>\n",
       "    </tr>\n",
       "    <tr>\n",
       "      <th>16</th>\n",
       "      <td>\\n                O Governo Federal lançou uma...</td>\n",
       "    </tr>\n",
       "    <tr>\n",
       "      <th>17</th>\n",
       "      <td>\\n                O Ministério do Desenvolvime...</td>\n",
       "    </tr>\n",
       "    <tr>\n",
       "      <th>18</th>\n",
       "      <td>\\n                O governo federal, sob a lid...</td>\n",
       "    </tr>\n",
       "    <tr>\n",
       "      <th>19</th>\n",
       "      <td>\\n                Com um cenário de inflação c...</td>\n",
       "    </tr>\n",
       "  </tbody>\n",
       "</table>\n",
       "</div>"
      ],
      "text/plain": [
       "                                             Conteudo\n",
       "0   \\n                O pastor petista da Comunida...\n",
       "1   \\n            O presidente Luiz Inácio Lula da...\n",
       "2   \\n            Enquanto aumentam as tensões por...\n",
       "3   \\n            A Confederação Nacional da Agric...\n",
       "4   \\n            O presidente Luiz Inácio Lula da...\n",
       "5   \\n            O ministro da Justiça, Flávio Di...\n",
       "6   \\n            O presidente do Tribunal Superio...\n",
       "7   \\n            Ao comentar sobre o estado de sa...\n",
       "8   \\n            O presidente Luiz Inácio Lula da...\n",
       "9   \\n            A Câmara dos Deputados restringi...\n",
       "10  \\n                O presidente Luiz Inácio Lul...\n",
       "11  \\n                Nesta quarta-feira (6), dado...\n",
       "12  \\n                Jair Bolsonaro, que está ine...\n",
       "13  \\n                O Ministério dos Direitos Hu...\n",
       "14  \\n                À medida que o mundo continu...\n",
       "15  \\n                Um acidente de trabalho envo...\n",
       "16  \\n                O Governo Federal lançou uma...\n",
       "17  \\n                O Ministério do Desenvolvime...\n",
       "18  \\n                O governo federal, sob a lid...\n",
       "19  \\n                Com um cenário de inflação c..."
      ]
     },
     "execution_count": 4,
     "metadata": {},
     "output_type": "execute_result"
    }
   ],
   "source": [
    "artigos = pd.read_csv('noticias-teste.csv')\n",
    "artigos.rename(columns={'Textos': 'Conteudo'}, inplace=True)\n",
    "artigos"
   ]
  },
  {
   "cell_type": "code",
   "execution_count": 202,
   "id": "8e63c19e-20eb-4668-baf8-317fd1c2840b",
   "metadata": {
    "tags": []
   },
   "outputs": [],
   "source": [
    "artigos = {'Conteudo': [\"\"\"Ao participar da abertura do 26° encontro do Foro de São Paulo, o presidente Luiz Inácio Lula da Silva criticou a “direita fascista”, pediu união da esquerda no Brasil e disse que tem orgulho de ser chamado de “comunista”. Na cerimônia, ocorrida nesta quinta-feira, 29, em Brasília, o petista se reuniu com os partidos de esquerda da América Latina. Em seu discurso, o petista admitiu que o “discurso do patriotismo e da familia” não estão alinhados com o progressismo. “Aqui no Brasil, nós enfrentamos o discurso do costume, o discurso da família, o discurso do patriotismo. Ou seja, aqui nós enfrentamos o discurso que a gente aprendeu a historicamente combater”, afirmou o presidente da República. “Eles nos acusam de comunistas, achando que nós ficamos ofendidos com isso. Nós não ficamos ofendidos. Ficaríamos ofendidos se nos chamassem de nazista, de neofascista, de terrorista. Mas de comunista, de socialista, nunca. Isso não nos ofende. Isso nos orgulha muitas vezes”, continuou o petista.\n",
    "\n",
    "Fundado em 1990, por iniciativa do Partido dos Trabalhadores (PT) do Brasil e do Partido Comunista de Cuba, o Foro de São Paulo é um encontro dos partidos de esquerda da América Latina e tem como lema neste ano “Integração Regional para Avançar a Soberania Latino-americana e Caribenha”. Após a pandemia, o grupo retoma suas reuniões presenciais anuais. A última edição ocorreu em Caracas , capital da Venezuela, em 2019. Além de Lula, estiverem presentes a presidente do PT, Gleisi Hoffmann, a ministra da Ciência e Tecnologia e presidente do PCdoB, Luciana Santos, e o presidente da Embratur, Marcelo Freixo. Manifestantes contrários ao encontro protestaram na porta da sede do evento. Além disso, partidos de direita, como o PL, repudiaram a presença do que chamam de “ditadores”. No Twitter, a oposição levantou a hashtag #ForaForodeSP.\"\"\".replace(\"\\n\\n\", \" \")]}\n",
    "artigos = pd.DataFrame(artigos)"
   ]
  },
  {
   "cell_type": "code",
   "execution_count": 5,
   "id": "1a7789f2-e2f2-4810-b02a-3775774ef29a",
   "metadata": {
    "tags": []
   },
   "outputs": [
    {
     "data": {
      "text/plain": [
       "'\\n                O pastor petista da Comunidade de Jesus em Campina Grande (PB), José Barbosa Jr., disse que “30% dos evangélicos (no Brasil) são fascistas” e propôs a criação de uma “bolha enorme de evangélicos de esquerda” para atrair a fatia restante desse público para o PT.\\n                \\n                A fala foi feita nesta sexta-feira (8), durante participação do pastor em um painel sobre Políticas de Direitos para Mudar o Brasil da Conferência Eleitoral do PT para 2024, que aconteceu em Brasília.\\n\\n                No mesmo evento, o presidente Lula (PT) defendeu que a legenda precisa se aproximar dos evangélicos e fazer o “trabalho de base” para conseguir eleger mais candidatos no próximo pleito.\\n                \\n                “Essa luta da ideologia a gente tem como ganhar também por entre os evangélicos. Não pense que está tudo perdido. Tem 30% dos evangélicos que são fascistas. Com esses a gente nem conversa. Agora, tem 40%, 50% que estão em disputa. Então não vamos desistir [...] O núcleo de evangélicos do PT está aí, ativo. A gente não quer furar a bolha. A gente quer criar uma bolha enorme de evangélicos de esquerda. Dá para chegar lá. E rumo à vitória em 2024”, afirmou o pastor.\\n                \\n                Ao comentar sobre as críticas que recebe por ser um pastor evangélico de esquerda, José Barbosa disse que as críticas deveriam ser dirigidas aos pastores que se identificam com a direita. Segundo Barbosa, esses pastores defendem “um sistema baseado na acumulação de riquezas” que seria contra os ensinamentos do cristianismo.\\n                \\n                Ao citar um trecho do texto bíblico em que Jesus Cristo ensina sobre o socorro aos mais pobres, José Barbosa evocou para o PT o monopólio da caridade.\\n                \\n                \"Tem o seguinte critério, eu tive fome, me deu de comer. Eu tive sede, você me deu de beber. Eu estava nu, você me vestiu. Eu era forasteiro, você me acolheu. Eu estava doente, você me visitou. Eu estava preso, você pregou de mim. Então, uma política pública, a partir do Evangelho, quem tem fome, dá de comer. Quem faz isso, o PT ou o (ex-presidente) Jair Bolsonaro? O PT\", afirmou.\\n                '"
      ]
     },
     "execution_count": 5,
     "metadata": {},
     "output_type": "execute_result"
    }
   ],
   "source": [
    "artigos.Conteudo.iloc[0]"
   ]
  },
  {
   "cell_type": "code",
   "execution_count": 6,
   "id": "1d51d13b",
   "metadata": {
    "tags": []
   },
   "outputs": [],
   "source": [
    "# == ler a base de artigos == \n",
    "\n",
    "#artigos = pd.read_parquet('../../dataset/processed/artigos_de_partidos/artigos_partidos.parquet')"
   ]
  },
  {
   "cell_type": "code",
   "execution_count": 7,
   "id": "7a02d033",
   "metadata": {
    "tags": []
   },
   "outputs": [],
   "source": [
    "# == tornar os artigos em letras minúsculas == \n",
    "\n",
    "artigos.Conteudo = artigos.Conteudo.str.lower()"
   ]
  },
  {
   "cell_type": "code",
   "execution_count": 8,
   "id": "918cbaee",
   "metadata": {
    "tags": []
   },
   "outputs": [],
   "source": [
    "# == remover artigos contendo links == \n",
    "\n",
    "#artigos[artigos.Conteudo.str.contains('http')].Partido.value_counts()\n",
    "#artigos = artigos[~artigos.Conteudo.str.contains('http')]"
   ]
  },
  {
   "cell_type": "code",
   "execution_count": 9,
   "id": "9f61d542",
   "metadata": {
    "tags": []
   },
   "outputs": [],
   "source": [
    "# == todas as sentenças após o penúltimo \".\" a fim de eliminar ruídos que não fazem parte do artigo == \n",
    "\n",
    "artigos.Conteudo = artigos.Conteudo.apply(\n",
    "    lambda x : ''.join(x.split('.')[:-2])\n",
    ")"
   ]
  },
  {
   "cell_type": "code",
   "execution_count": 10,
   "id": "2edff752",
   "metadata": {
    "tags": []
   },
   "outputs": [],
   "source": [
    "# == mascarar nome de partido == \n",
    "\n",
    "partidos = ['novo', 'pcb', 'pdt', 'pl', 'pp', 'psol', 'pstu', 'mdb', 'pcdob', 'psb', 'pt', 'pv', 'rede', 'união brasil']\n",
    "for partido in partidos:\n",
    "    artigos.Conteudo = artigos.Conteudo.str.replace(f' {partido} ', ' ')"
   ]
  },
  {
   "cell_type": "code",
   "execution_count": 11,
   "id": "4f9aab0e",
   "metadata": {
    "tags": []
   },
   "outputs": [],
   "source": [
    "# == remover todas as palavras contendo caracteres especiais ==\n",
    "\n",
    "artigos.Conteudo = artigos.Conteudo.apply(\n",
    "    lambda x : ' '.join(word for word in x.split(' ') if word.isalnum())\n",
    ")"
   ]
  },
  {
   "cell_type": "code",
   "execution_count": 12,
   "id": "8df27a29",
   "metadata": {
    "tags": []
   },
   "outputs": [],
   "source": [
    "# == normalização por unicode e encode ascii ==\n",
    "\n",
    "artigos.Conteudo = artigos.Conteudo.str.lower()\\\n",
    "                                   .str.normalize('NFKD')\\\n",
    "                                   .str.encode('ascii', errors='ignore')\\\n",
    "                                   .str.decode('utf-8')"
   ]
  },
  {
   "cell_type": "code",
   "execution_count": 13,
   "id": "ccb32155",
   "metadata": {
    "tags": []
   },
   "outputs": [],
   "source": [
    "# == remover pontuações e números == \n",
    "\n",
    "artigos.Conteudo = artigos.Conteudo.str.replace('[^a-zA-Z]', ' ')"
   ]
  },
  {
   "cell_type": "code",
   "execution_count": 14,
   "id": "a6f34760",
   "metadata": {
    "tags": []
   },
   "outputs": [],
   "source": [
    "# == remover double space == \n",
    "\n",
    "for n in range(30):\n",
    "    artigos.Conteudo = artigos.Conteudo.str.replace('  ', ' ')"
   ]
  },
  {
   "cell_type": "code",
   "execution_count": 15,
   "id": "4b223f44",
   "metadata": {
    "tags": []
   },
   "outputs": [],
   "source": [
    "# == analisar a contagem média de palavras por partido == \n",
    "\n",
    "#copy = artigos.copy()\n",
    "#copy['Contagem'] = copy.Conteudo.str.count(' ')\n",
    "#copy.groupby(\n",
    "#    by=['Vies', 'Partido'],\n",
    "#).agg(\n",
    "#    ContagemPalavras = ('Contagem', 'mean'), \n",
    "#    ContagemArtigos = ('Contagem', 'count')\n",
    "#)"
   ]
  },
  {
   "cell_type": "code",
   "execution_count": 214,
   "id": "cf001d0b",
   "metadata": {
    "tags": []
   },
   "outputs": [],
   "source": [
    "# == salvar o df tratado == \n",
    "\n",
    "artigos.to_csv('../../dataset/processed/artigos_tratados/artigo-direita4-.csv')"
   ]
  },
  {
   "cell_type": "code",
   "execution_count": 16,
   "id": "882bd503",
   "metadata": {},
   "outputs": [],
   "source": [
    "artigos.to_csv('a.csv')"
   ]
  },
  {
   "cell_type": "code",
   "execution_count": 18,
   "id": "219cf560-af1d-431b-8a74-66f75781703e",
   "metadata": {},
   "outputs": [
    {
     "data": {
      "text/plain": [
       "'o pastor petista da comunidade de jesus em campina grande jose barbosa disse que dos evangelicos sao e propos a criacao de uma enorme de evangelicos de para atrair a fatia restante desse publico para o a fala foi feita nesta durante participacao do pastor em um painel sobre politicas de direitos para mudar o brasil da conferencia eleitoral do para que aconteceu em no mesmo o presidente lula defendeu que a legenda precisa se aproximar dos evangelicos e fazer o de para conseguir eleger mais candidatos no proximo luta da ideologia a gente tem como ganhar tambem por entre os evangelicos nao pense que esta tudo perdido tem dos evangelicos que sao fascistas com esses a gente nem conversa tem que estao em disputa entao nao vamos desistir o nucleo de evangelicos do esta ativo a gente nao quer furar a bolha a gente quer criar uma bolha enorme de evangelicos de esquerda da para chegar la e rumo a vitoria em afirmou o ao comentar sobre as criticas que recebe por ser um pastor evangelico de jose barbosa disse que as criticas deveriam ser dirigidas aos pastores que se identificam com a direita segundo esses pastores defendem sistema baseado na acumulacao de que seria contra os ensinamentos do ao citar um trecho do texto biblico em que jesus cristo ensina sobre o socorro aos mais jose barbosa evocou para o o monopolio da o seguinte eu tive me deu de comer eu tive voce me deu de beber eu estava voce me vestiu eu era voce me acolheu eu estava voce me visitou eu estava voce pregou de mim uma politica a partir do quem tem da de comer'"
      ]
     },
     "execution_count": 18,
     "metadata": {},
     "output_type": "execute_result"
    }
   ],
   "source": [
    "artigos.Conteudo.iloc[0]"
   ]
  }
 ],
 "metadata": {
  "kernelspec": {
   "display_name": "Python 3 (ipykernel)",
   "language": "python",
   "name": "python3"
  },
  "language_info": {
   "codemirror_mode": {
    "name": "ipython",
    "version": 3
   },
   "file_extension": ".py",
   "mimetype": "text/x-python",
   "name": "python",
   "nbconvert_exporter": "python",
   "pygments_lexer": "ipython3",
   "version": "3.9.13"
  }
 },
 "nbformat": 4,
 "nbformat_minor": 5
}
