{
 "cells": [
  {
   "cell_type": "code",
   "execution_count": 1,
   "id": "1c86ec73",
   "metadata": {
    "tags": []
   },
   "outputs": [],
   "source": [
    "# == importando bibliotecas == \n",
    "\n",
    "import pandas as pd\n",
    "import numpy as np\n",
    "import re\n",
    "\n",
    "from IPython.core.interactiveshell import InteractiveShell\n",
    "InteractiveShell.ast_node_interactivity = \"all\"\n",
    "import warnings\n",
    "warnings.filterwarnings('ignore')"
   ]
  },
  {
   "cell_type": "code",
   "execution_count": 2,
   "id": "8e63c19e-20eb-4668-baf8-317fd1c2840b",
   "metadata": {
    "tags": []
   },
   "outputs": [],
   "source": [
    "artigos = {'Conteudo': [\"\"\"Bolsonaristas participaram de uma manifestação neste domingo (26) em frente ao Masp, em São Paulo, para homenagear Cleriston Pereira da Cunha, réu dos ataques golpistas de 8 de janeiro que morreu no último dia 20 no Complexo Penitenciário da Papuda, no Distrito Federal. Os discursos foram feitos de um carro de som da organização do evento, estacionado na transversal da avenida Paulista, que bloqueou todas as faixas. Os manifestantes ocuparam as duas pistas da avenida na extensão de um quarteirão e meio, entre as ruas Peixoto Gomide e Itapeva. A Polícia Militar não realizou estimativa de público. Manifestantes entoaram críticas ao presidente Lula, chamado de \"ladrão\", e a Alexandre de Moraes, presidente do TSE e ministro relator dos casos relacionados ao 8 de janeiro no STF (Supremo Tribunal Federal). Nomes de peso do bolsonarismo, como o senador Magno Malta (PL-ES) e o pastor Silas Malafaia, participaram do ato intitulado \"Em Defesa do Estado Democrático de Direito, dos Direitos Humanos e em Memória de Cleriston Pereira da Cunha\". Mesmo sem estar presente, o ex-presidente Jair Bolsonaro (PL) foi lembrado nos discursos, em cartazes e nos gritos dos manifestantes, que cantaram \"volta Bolsonaro\". O advogado Fabio Wajngarten, que comandou a Secretaria de Comunicação do governo Bolsonaro e hoje trabalha para o ex-presidente, publicou vídeo no X, antigo Twitter, com o momento em que os manifestantes pedem a volta do ex-presidente. Desde que deixou a Presidência, Bolsonaro já foi condenado duas vezes pelo TSE (Tribunal Superior Eleitoral). Primeiro pelos ataques e pelas mentiras relacionados ao sistema eleitoral. Depois pelo uso eleitoral dos festejos do 7 de Setembro do ano passado. Bolsonaro está inelegível, proibido de disputar eleições por oito anos e ainda sob investigação pelo STF sob suspeita de ter sido autor intelectual dos ataques golpistas de 8 de janeiro. Apesar de ter feito convocação para seus apoiadores irem à Paulista neste domingo, o ex-presidente ficou longe da manifestação. Ao longo do dia ele registrou nas redes sociais seu café da manhã no Rio de Janeiro e, durante o ato, almoçou em um bar em Angra dos Reis (RJ). Cerca de uma hora após o fim do protesto, Bolsonaro publicou uma mensagem no X cumprimentando \"todos que participaram da belíssima manifestação pela democracia\". \"O dia de hoje nos traz a memória do Clezão, que vive entre nós, e nos encoraja a lutar cada vez mais por honestidade, patriotismo, verdade e liberdade\", afirmou. Se agora Bolsonaro convoca para uma manifestação por direitos humanos, com a deste domingo na Paulista, no passado o termo foi utilizado por ele como retórica política contra adversários. O ex-presidente e seus seguidores associam a pauta dos direitos humanos à esquerda e à impunidade. Em contraposição, eles defendem punições mais severas e questionam a importância de oferecer condições básicas de sobrevivência aos detentos. Quando era parlamentar, Bolsonaro chegou a participar da Comissão de Direitos Humanos na Câmara, mas com viés crítico. Em 1998, ele disse que o colegiado da Câmara defendia \"direitos de picareta e de vagabundo\". A deputada federal Carla Zambelli (PL-SP) foi uma das primeiras a discursar. Após puxar um coro de \"Justiça\", a parlamentar afirmou que \"essa morte não vai ser em vão, não vamos nos intimidar\". Em resposta, manifestantes gritaram \"fora Xandão\", em referência a Moraes. O ministro e o STF foram os principais alvos nos discursos na avenida Paulista. O deputado Sóstenes Cavalcante (PL-RJ) foi outro que mirou o magistrado. \"Alexandre de Moraes, o seu tempo está chegando, e você vai pagar pela morte deste inocente \", disse do alto do carro de som. A manifestação durou cerca de duas horas e meia, terminando por volta das 16h20, após discursos de senadores, deputados, de Malafaia e familiares de Cleriston. Segundo documento da Vara de Execuções Penais, Cleriston, 46, morreu após ter \"um mal súbito durante o banho de sol\". Ele havia sido denunciado pela prática de crimes como associação criminosa armada, abolição violenta do Estado democrático de Direito e golpe de Estado. Em interrogatório no dia 31 de julho, ele afirmou ter um diagnóstico de vasculite, doença que o fazia desmaiar e ter falta de ar, e disse que passou mal no dia dos ataques no traslado entre a sede do Congresso Nacional e o presídio, desmaiando e urinando em sua roupa. Questionado sobre a motivação para participar dos ataques, se recebeu auxílio financeiro para participar e se danificou algo dentro do Senado, onde foi preso em flagrante, decidiu ficar em silêncio.\"\"\"]}\n",
    "artigos = pd.DataFrame(artigos)"
   ]
  },
  {
   "cell_type": "code",
   "execution_count": 3,
   "id": "1a7789f2-e2f2-4810-b02a-3775774ef29a",
   "metadata": {
    "tags": []
   },
   "outputs": [
    {
     "data": {
      "text/plain": [
       "'Bolsonaristas participaram de uma manifestação neste domingo (26) em frente ao Masp, em São Paulo, para homenagear Cleriston Pereira da Cunha, réu dos ataques golpistas de 8 de janeiro que morreu no último dia 20 no Complexo Penitenciário da Papuda, no Distrito Federal. Os discursos foram feitos de um carro de som da organização do evento, estacionado na transversal da avenida Paulista, que bloqueou todas as faixas. Os manifestantes ocuparam as duas pistas da avenida na extensão de um quarteirão e meio, entre as ruas Peixoto Gomide e Itapeva. A Polícia Militar não realizou estimativa de público. Manifestantes entoaram críticas ao presidente Lula, chamado de \"ladrão\", e a Alexandre de Moraes, presidente do TSE e ministro relator dos casos relacionados ao 8 de janeiro no STF (Supremo Tribunal Federal). Nomes de peso do bolsonarismo, como o senador Magno Malta (PL-ES) e o pastor Silas Malafaia, participaram do ato intitulado \"Em Defesa do Estado Democrático de Direito, dos Direitos Humanos e em Memória de Cleriston Pereira da Cunha\". Mesmo sem estar presente, o ex-presidente Jair Bolsonaro (PL) foi lembrado nos discursos, em cartazes e nos gritos dos manifestantes, que cantaram \"volta Bolsonaro\". O advogado Fabio Wajngarten, que comandou a Secretaria de Comunicação do governo Bolsonaro e hoje trabalha para o ex-presidente, publicou vídeo no X, antigo Twitter, com o momento em que os manifestantes pedem a volta do ex-presidente. Desde que deixou a Presidência, Bolsonaro já foi condenado duas vezes pelo TSE (Tribunal Superior Eleitoral). Primeiro pelos ataques e pelas mentiras relacionados ao sistema eleitoral. Depois pelo uso eleitoral dos festejos do 7 de Setembro do ano passado. Bolsonaro está inelegível, proibido de disputar eleições por oito anos e ainda sob investigação pelo STF sob suspeita de ter sido autor intelectual dos ataques golpistas de 8 de janeiro. Apesar de ter feito convocação para seus apoiadores irem à Paulista neste domingo, o ex-presidente ficou longe da manifestação. Ao longo do dia ele registrou nas redes sociais seu café da manhã no Rio de Janeiro e, durante o ato, almoçou em um bar em Angra dos Reis (RJ). Cerca de uma hora após o fim do protesto, Bolsonaro publicou uma mensagem no X cumprimentando \"todos que participaram da belíssima manifestação pela democracia\". \"O dia de hoje nos traz a memória do Clezão, que vive entre nós, e nos encoraja a lutar cada vez mais por honestidade, patriotismo, verdade e liberdade\", afirmou. Se agora Bolsonaro convoca para uma manifestação por direitos humanos, com a deste domingo na Paulista, no passado o termo foi utilizado por ele como retórica política contra adversários. O ex-presidente e seus seguidores associam a pauta dos direitos humanos à esquerda e à impunidade. Em contraposição, eles defendem punições mais severas e questionam a importância de oferecer condições básicas de sobrevivência aos detentos. Quando era parlamentar, Bolsonaro chegou a participar da Comissão de Direitos Humanos na Câmara, mas com viés crítico. Em 1998, ele disse que o colegiado da Câmara defendia \"direitos de picareta e de vagabundo\". A deputada federal Carla Zambelli (PL-SP) foi uma das primeiras a discursar. Após puxar um coro de \"Justiça\", a parlamentar afirmou que \"essa morte não vai ser em vão, não vamos nos intimidar\". Em resposta, manifestantes gritaram \"fora Xandão\", em referência a Moraes. O ministro e o STF foram os principais alvos nos discursos na avenida Paulista. O deputado Sóstenes Cavalcante (PL-RJ) foi outro que mirou o magistrado. \"Alexandre de Moraes, o seu tempo está chegando, e você vai pagar pela morte deste inocente \", disse do alto do carro de som. A manifestação durou cerca de duas horas e meia, terminando por volta das 16h20, após discursos de senadores, deputados, de Malafaia e familiares de Cleriston. Segundo documento da Vara de Execuções Penais, Cleriston, 46, morreu após ter \"um mal súbito durante o banho de sol\". Ele havia sido denunciado pela prática de crimes como associação criminosa armada, abolição violenta do Estado democrático de Direito e golpe de Estado. Em interrogatório no dia 31 de julho, ele afirmou ter um diagnóstico de vasculite, doença que o fazia desmaiar e ter falta de ar, e disse que passou mal no dia dos ataques no traslado entre a sede do Congresso Nacional e o presídio, desmaiando e urinando em sua roupa. Questionado sobre a motivação para participar dos ataques, se recebeu auxílio financeiro para participar e se danificou algo dentro do Senado, onde foi preso em flagrante, decidiu ficar em silêncio.'"
      ]
     },
     "execution_count": 3,
     "metadata": {},
     "output_type": "execute_result"
    }
   ],
   "source": [
    "artigos.Conteudo.iloc[0]"
   ]
  },
  {
   "cell_type": "code",
   "execution_count": 4,
   "id": "1d51d13b",
   "metadata": {
    "tags": []
   },
   "outputs": [],
   "source": [
    "# == ler a base de artigos == \n",
    "\n",
    "#artigos = pd.read_parquet('../../dataset/processed/artigos_de_partidos/artigos_partidos.parquet')"
   ]
  },
  {
   "cell_type": "code",
   "execution_count": 5,
   "id": "7a02d033",
   "metadata": {
    "tags": []
   },
   "outputs": [],
   "source": [
    "# == tornar os artigos em letras minúsculas == \n",
    "\n",
    "artigos.Conteudo = artigos.Conteudo.str.lower()"
   ]
  },
  {
   "cell_type": "code",
   "execution_count": 6,
   "id": "918cbaee",
   "metadata": {
    "tags": []
   },
   "outputs": [
    {
     "ename": "AttributeError",
     "evalue": "'DataFrame' object has no attribute 'Partido'",
     "output_type": "error",
     "traceback": [
      "\u001b[0;31m---------------------------------------------------------------------------\u001b[0m",
      "\u001b[0;31mAttributeError\u001b[0m                            Traceback (most recent call last)",
      "\u001b[0;32m/tmp/ipykernel_14229/2987117352.py\u001b[0m in \u001b[0;36m?\u001b[0;34m()\u001b[0m\n\u001b[1;32m      1\u001b[0m \u001b[0;31m# == remover artigos contendo links ==\u001b[0m\u001b[0;34m\u001b[0m\u001b[0;34m\u001b[0m\u001b[0m\n\u001b[1;32m      2\u001b[0m \u001b[0;34m\u001b[0m\u001b[0m\n\u001b[0;32m----> 3\u001b[0;31m \u001b[0martigos\u001b[0m\u001b[0;34m[\u001b[0m\u001b[0martigos\u001b[0m\u001b[0;34m.\u001b[0m\u001b[0mConteudo\u001b[0m\u001b[0;34m.\u001b[0m\u001b[0mstr\u001b[0m\u001b[0;34m.\u001b[0m\u001b[0mcontains\u001b[0m\u001b[0;34m(\u001b[0m\u001b[0;34m'http'\u001b[0m\u001b[0;34m)\u001b[0m\u001b[0;34m]\u001b[0m\u001b[0;34m.\u001b[0m\u001b[0mPartido\u001b[0m\u001b[0;34m.\u001b[0m\u001b[0mvalue_counts\u001b[0m\u001b[0;34m(\u001b[0m\u001b[0;34m)\u001b[0m\u001b[0;34m\u001b[0m\u001b[0;34m\u001b[0m\u001b[0m\n\u001b[0m\u001b[1;32m      4\u001b[0m \u001b[0martigos\u001b[0m \u001b[0;34m=\u001b[0m \u001b[0martigos\u001b[0m\u001b[0;34m[\u001b[0m\u001b[0;34m~\u001b[0m\u001b[0martigos\u001b[0m\u001b[0;34m.\u001b[0m\u001b[0mConteudo\u001b[0m\u001b[0;34m.\u001b[0m\u001b[0mstr\u001b[0m\u001b[0;34m.\u001b[0m\u001b[0mcontains\u001b[0m\u001b[0;34m(\u001b[0m\u001b[0;34m'http'\u001b[0m\u001b[0;34m)\u001b[0m\u001b[0;34m]\u001b[0m\u001b[0;34m\u001b[0m\u001b[0;34m\u001b[0m\u001b[0m\n",
      "\u001b[0;32m~/anaconda3/lib/python3.11/site-packages/pandas/core/generic.py\u001b[0m in \u001b[0;36m?\u001b[0;34m(self, name)\u001b[0m\n\u001b[1;32m   5985\u001b[0m             \u001b[0;32mand\u001b[0m \u001b[0mname\u001b[0m \u001b[0;32mnot\u001b[0m \u001b[0;32min\u001b[0m \u001b[0mself\u001b[0m\u001b[0;34m.\u001b[0m\u001b[0m_accessors\u001b[0m\u001b[0;34m\u001b[0m\u001b[0;34m\u001b[0m\u001b[0m\n\u001b[1;32m   5986\u001b[0m             \u001b[0;32mand\u001b[0m \u001b[0mself\u001b[0m\u001b[0;34m.\u001b[0m\u001b[0m_info_axis\u001b[0m\u001b[0;34m.\u001b[0m\u001b[0m_can_hold_identifiers_and_holds_name\u001b[0m\u001b[0;34m(\u001b[0m\u001b[0mname\u001b[0m\u001b[0;34m)\u001b[0m\u001b[0;34m\u001b[0m\u001b[0;34m\u001b[0m\u001b[0m\n\u001b[1;32m   5987\u001b[0m         ):\n\u001b[1;32m   5988\u001b[0m             \u001b[0;32mreturn\u001b[0m \u001b[0mself\u001b[0m\u001b[0;34m[\u001b[0m\u001b[0mname\u001b[0m\u001b[0;34m]\u001b[0m\u001b[0;34m\u001b[0m\u001b[0;34m\u001b[0m\u001b[0m\n\u001b[0;32m-> 5989\u001b[0;31m         \u001b[0;32mreturn\u001b[0m \u001b[0mobject\u001b[0m\u001b[0;34m.\u001b[0m\u001b[0m__getattribute__\u001b[0m\u001b[0;34m(\u001b[0m\u001b[0mself\u001b[0m\u001b[0;34m,\u001b[0m \u001b[0mname\u001b[0m\u001b[0;34m)\u001b[0m\u001b[0;34m\u001b[0m\u001b[0;34m\u001b[0m\u001b[0m\n\u001b[0m",
      "\u001b[0;31mAttributeError\u001b[0m: 'DataFrame' object has no attribute 'Partido'"
     ]
    }
   ],
   "source": [
    "# == remover artigos contendo links == \n",
    "\n",
    "artigos[artigos.Conteudo.str.contains('http')].Partido.value_counts()\n",
    "artigos = artigos[~artigos.Conteudo.str.contains('http')]"
   ]
  },
  {
   "cell_type": "code",
   "execution_count": 7,
   "id": "9f61d542",
   "metadata": {
    "tags": []
   },
   "outputs": [],
   "source": [
    "# == todas as sentenças após o penúltimo \".\" a fim de eliminar ruídos que não fazem parte do artigo == \n",
    "\n",
    "artigos.Conteudo = artigos.Conteudo.apply(\n",
    "    lambda x : ''.join(x.split('.')[:-2])\n",
    ")"
   ]
  },
  {
   "cell_type": "code",
   "execution_count": 8,
   "id": "2edff752",
   "metadata": {
    "tags": []
   },
   "outputs": [],
   "source": [
    "# == mascarar nome de partido == \n",
    "\n",
    "partidos = ['novo', 'pcb', 'pdt', 'pl', 'pp', 'psol', 'pstu', 'mdb', 'pcdob', 'psb', 'pt', 'pv', 'rede', 'união brasil']\n",
    "for partido in partidos:\n",
    "    artigos.Conteudo = artigos.Conteudo.str.replace(f' {partido} ', ' ')"
   ]
  },
  {
   "cell_type": "code",
   "execution_count": 9,
   "id": "4f9aab0e",
   "metadata": {
    "tags": []
   },
   "outputs": [],
   "source": [
    "# == remover todas as palavras contendo caracteres especiais ==\n",
    "\n",
    "artigos.Conteudo = artigos.Conteudo.apply(\n",
    "    lambda x : ' '.join(word for word in x.split(' ') if word.isalnum())\n",
    ")"
   ]
  },
  {
   "cell_type": "code",
   "execution_count": 10,
   "id": "8df27a29",
   "metadata": {
    "tags": []
   },
   "outputs": [],
   "source": [
    "# == normalização por unicode e encode ascii ==\n",
    "\n",
    "artigos.Conteudo = artigos.Conteudo.str.lower()\\\n",
    "                                   .str.normalize('NFKD')\\\n",
    "                                   .str.encode('ascii', errors='ignore')\\\n",
    "                                   .str.decode('utf-8')"
   ]
  },
  {
   "cell_type": "code",
   "execution_count": 11,
   "id": "ccb32155",
   "metadata": {
    "tags": []
   },
   "outputs": [],
   "source": [
    "# == remover pontuações e números == \n",
    "\n",
    "artigos.Conteudo = artigos.Conteudo.str.replace('[^a-zA-Z]', ' ')"
   ]
  },
  {
   "cell_type": "code",
   "execution_count": 12,
   "id": "a6f34760",
   "metadata": {
    "tags": []
   },
   "outputs": [],
   "source": [
    "# == remover double space == \n",
    "\n",
    "for n in range(30):\n",
    "    artigos.Conteudo = artigos.Conteudo.str.replace('  ', ' ')"
   ]
  },
  {
   "cell_type": "code",
   "execution_count": 13,
   "id": "4b223f44",
   "metadata": {
    "tags": []
   },
   "outputs": [
    {
     "ename": "KeyError",
     "evalue": "'Vies'",
     "output_type": "error",
     "traceback": [
      "\u001b[0;31m---------------------------------------------------------------------------\u001b[0m",
      "\u001b[0;31mKeyError\u001b[0m                                  Traceback (most recent call last)",
      "Cell \u001b[0;32mIn[13], line 5\u001b[0m\n\u001b[1;32m      3\u001b[0m copy \u001b[38;5;241m=\u001b[39m artigos\u001b[38;5;241m.\u001b[39mcopy()\n\u001b[1;32m      4\u001b[0m copy[\u001b[38;5;124m'\u001b[39m\u001b[38;5;124mContagem\u001b[39m\u001b[38;5;124m'\u001b[39m] \u001b[38;5;241m=\u001b[39m copy\u001b[38;5;241m.\u001b[39mConteudo\u001b[38;5;241m.\u001b[39mstr\u001b[38;5;241m.\u001b[39mcount(\u001b[38;5;124m'\u001b[39m\u001b[38;5;124m \u001b[39m\u001b[38;5;124m'\u001b[39m)\n\u001b[0;32m----> 5\u001b[0m copy\u001b[38;5;241m.\u001b[39mgroupby(\n\u001b[1;32m      6\u001b[0m     by\u001b[38;5;241m=\u001b[39m[\u001b[38;5;124m'\u001b[39m\u001b[38;5;124mVies\u001b[39m\u001b[38;5;124m'\u001b[39m, \u001b[38;5;124m'\u001b[39m\u001b[38;5;124mPartido\u001b[39m\u001b[38;5;124m'\u001b[39m],\n\u001b[1;32m      7\u001b[0m )\u001b[38;5;241m.\u001b[39magg(\n\u001b[1;32m      8\u001b[0m     ContagemPalavras \u001b[38;5;241m=\u001b[39m (\u001b[38;5;124m'\u001b[39m\u001b[38;5;124mContagem\u001b[39m\u001b[38;5;124m'\u001b[39m, \u001b[38;5;124m'\u001b[39m\u001b[38;5;124mmean\u001b[39m\u001b[38;5;124m'\u001b[39m), \n\u001b[1;32m      9\u001b[0m     ContagemArtigos \u001b[38;5;241m=\u001b[39m (\u001b[38;5;124m'\u001b[39m\u001b[38;5;124mContagem\u001b[39m\u001b[38;5;124m'\u001b[39m, \u001b[38;5;124m'\u001b[39m\u001b[38;5;124mcount\u001b[39m\u001b[38;5;124m'\u001b[39m)\n\u001b[1;32m     10\u001b[0m )\n",
      "File \u001b[0;32m~/anaconda3/lib/python3.11/site-packages/pandas/core/frame.py:8252\u001b[0m, in \u001b[0;36mDataFrame.groupby\u001b[0;34m(self, by, axis, level, as_index, sort, group_keys, observed, dropna)\u001b[0m\n\u001b[1;32m   8249\u001b[0m     \u001b[38;5;28;01mraise\u001b[39;00m \u001b[38;5;167;01mTypeError\u001b[39;00m(\u001b[38;5;124m\"\u001b[39m\u001b[38;5;124mYou have to supply one of \u001b[39m\u001b[38;5;124m'\u001b[39m\u001b[38;5;124mby\u001b[39m\u001b[38;5;124m'\u001b[39m\u001b[38;5;124m and \u001b[39m\u001b[38;5;124m'\u001b[39m\u001b[38;5;124mlevel\u001b[39m\u001b[38;5;124m'\u001b[39m\u001b[38;5;124m\"\u001b[39m)\n\u001b[1;32m   8250\u001b[0m axis \u001b[38;5;241m=\u001b[39m \u001b[38;5;28mself\u001b[39m\u001b[38;5;241m.\u001b[39m_get_axis_number(axis)\n\u001b[0;32m-> 8252\u001b[0m \u001b[38;5;28;01mreturn\u001b[39;00m DataFrameGroupBy(\n\u001b[1;32m   8253\u001b[0m     obj\u001b[38;5;241m=\u001b[39m\u001b[38;5;28mself\u001b[39m,\n\u001b[1;32m   8254\u001b[0m     keys\u001b[38;5;241m=\u001b[39mby,\n\u001b[1;32m   8255\u001b[0m     axis\u001b[38;5;241m=\u001b[39maxis,\n\u001b[1;32m   8256\u001b[0m     level\u001b[38;5;241m=\u001b[39mlevel,\n\u001b[1;32m   8257\u001b[0m     as_index\u001b[38;5;241m=\u001b[39mas_index,\n\u001b[1;32m   8258\u001b[0m     sort\u001b[38;5;241m=\u001b[39msort,\n\u001b[1;32m   8259\u001b[0m     group_keys\u001b[38;5;241m=\u001b[39mgroup_keys,\n\u001b[1;32m   8260\u001b[0m     observed\u001b[38;5;241m=\u001b[39mobserved,\n\u001b[1;32m   8261\u001b[0m     dropna\u001b[38;5;241m=\u001b[39mdropna,\n\u001b[1;32m   8262\u001b[0m )\n",
      "File \u001b[0;32m~/anaconda3/lib/python3.11/site-packages/pandas/core/groupby/groupby.py:931\u001b[0m, in \u001b[0;36mGroupBy.__init__\u001b[0;34m(self, obj, keys, axis, level, grouper, exclusions, selection, as_index, sort, group_keys, observed, dropna)\u001b[0m\n\u001b[1;32m    928\u001b[0m \u001b[38;5;28mself\u001b[39m\u001b[38;5;241m.\u001b[39mdropna \u001b[38;5;241m=\u001b[39m dropna\n\u001b[1;32m    930\u001b[0m \u001b[38;5;28;01mif\u001b[39;00m grouper \u001b[38;5;129;01mis\u001b[39;00m \u001b[38;5;28;01mNone\u001b[39;00m:\n\u001b[0;32m--> 931\u001b[0m     grouper, exclusions, obj \u001b[38;5;241m=\u001b[39m get_grouper(\n\u001b[1;32m    932\u001b[0m         obj,\n\u001b[1;32m    933\u001b[0m         keys,\n\u001b[1;32m    934\u001b[0m         axis\u001b[38;5;241m=\u001b[39maxis,\n\u001b[1;32m    935\u001b[0m         level\u001b[38;5;241m=\u001b[39mlevel,\n\u001b[1;32m    936\u001b[0m         sort\u001b[38;5;241m=\u001b[39msort,\n\u001b[1;32m    937\u001b[0m         observed\u001b[38;5;241m=\u001b[39mobserved,\n\u001b[1;32m    938\u001b[0m         dropna\u001b[38;5;241m=\u001b[39m\u001b[38;5;28mself\u001b[39m\u001b[38;5;241m.\u001b[39mdropna,\n\u001b[1;32m    939\u001b[0m     )\n\u001b[1;32m    941\u001b[0m \u001b[38;5;28mself\u001b[39m\u001b[38;5;241m.\u001b[39mobj \u001b[38;5;241m=\u001b[39m obj\n\u001b[1;32m    942\u001b[0m \u001b[38;5;28mself\u001b[39m\u001b[38;5;241m.\u001b[39maxis \u001b[38;5;241m=\u001b[39m obj\u001b[38;5;241m.\u001b[39m_get_axis_number(axis)\n",
      "File \u001b[0;32m~/anaconda3/lib/python3.11/site-packages/pandas/core/groupby/grouper.py:985\u001b[0m, in \u001b[0;36mget_grouper\u001b[0;34m(obj, key, axis, level, sort, observed, validate, dropna)\u001b[0m\n\u001b[1;32m    983\u001b[0m         in_axis, level, gpr \u001b[38;5;241m=\u001b[39m \u001b[38;5;28;01mFalse\u001b[39;00m, gpr, \u001b[38;5;28;01mNone\u001b[39;00m\n\u001b[1;32m    984\u001b[0m     \u001b[38;5;28;01melse\u001b[39;00m:\n\u001b[0;32m--> 985\u001b[0m         \u001b[38;5;28;01mraise\u001b[39;00m \u001b[38;5;167;01mKeyError\u001b[39;00m(gpr)\n\u001b[1;32m    986\u001b[0m \u001b[38;5;28;01melif\u001b[39;00m \u001b[38;5;28misinstance\u001b[39m(gpr, Grouper) \u001b[38;5;129;01mand\u001b[39;00m gpr\u001b[38;5;241m.\u001b[39mkey \u001b[38;5;129;01mis\u001b[39;00m \u001b[38;5;129;01mnot\u001b[39;00m \u001b[38;5;28;01mNone\u001b[39;00m:\n\u001b[1;32m    987\u001b[0m     \u001b[38;5;66;03m# Add key to exclusions\u001b[39;00m\n\u001b[1;32m    988\u001b[0m     exclusions\u001b[38;5;241m.\u001b[39madd(gpr\u001b[38;5;241m.\u001b[39mkey)\n",
      "\u001b[0;31mKeyError\u001b[0m: 'Vies'"
     ]
    }
   ],
   "source": [
    "# == analisar a contagem média de palavras por partido == \n",
    "\n",
    "copy = artigos.copy()\n",
    "copy['Contagem'] = copy.Conteudo.str.count(' ')\n",
    "copy.groupby(\n",
    "    by=['Vies', 'Partido'],\n",
    ").agg(\n",
    "    ContagemPalavras = ('Contagem', 'mean'), \n",
    "    ContagemArtigos = ('Contagem', 'count')\n",
    ")"
   ]
  },
  {
   "cell_type": "code",
   "execution_count": 14,
   "id": "cf001d0b",
   "metadata": {
    "tags": []
   },
   "outputs": [],
   "source": [
    "# == salvar o df tratado == \n",
    "\n",
    "artigos.to_csv('../../dataset/processed/artigos_tratados/artigo-folha_tratados.csv')"
   ]
  },
  {
   "cell_type": "code",
   "execution_count": null,
   "id": "882bd503",
   "metadata": {},
   "outputs": [],
   "source": []
  }
 ],
 "metadata": {
  "kernelspec": {
   "display_name": "Python 3 (ipykernel)",
   "language": "python",
   "name": "python3"
  },
  "language_info": {
   "codemirror_mode": {
    "name": "ipython",
    "version": 3
   },
   "file_extension": ".py",
   "mimetype": "text/x-python",
   "name": "python",
   "nbconvert_exporter": "python",
   "pygments_lexer": "ipython3",
   "version": "3.11.5"
  }
 },
 "nbformat": 4,
 "nbformat_minor": 5
}
