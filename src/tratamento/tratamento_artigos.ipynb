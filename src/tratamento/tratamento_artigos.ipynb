{
 "cells": [
  {
   "cell_type": "code",
   "execution_count": 44,
   "id": "1c86ec73",
   "metadata": {},
   "outputs": [],
   "source": [
    "# == importando bibliotecas == \n",
    "\n",
    "import pandas as pd\n",
    "import numpy as np\n",
    "import re\n",
    "\n",
    "from IPython.core.interactiveshell import InteractiveShell\n",
    "InteractiveShell.ast_node_interactivity = \"all\"\n",
    "import warnings\n",
    "warnings.filterwarnings('ignore')"
   ]
  },
  {
   "cell_type": "code",
   "execution_count": 45,
   "id": "1d51d13b",
   "metadata": {},
   "outputs": [],
   "source": [
    "# == ler a base de artigos == \n",
    "\n",
    "artigos = pd.read_parquet('../../dataset/processed/artigos_de_partidos/artigos_partidos.parquet')"
   ]
  },
  {
   "cell_type": "code",
   "execution_count": 46,
   "id": "7a02d033",
   "metadata": {},
   "outputs": [],
   "source": [
    "# == tornar os artigos em letras minúsculas == \n",
    "\n",
    "artigos.Conteudo = artigos.Conteudo.str.lower()"
   ]
  },
  {
   "cell_type": "code",
   "execution_count": 47,
   "id": "918cbaee",
   "metadata": {},
   "outputs": [
    {
     "data": {
      "text/plain": [
       "PL              198\n",
       "PCB              60\n",
       "PT               42\n",
       "PV               42\n",
       "MDB              41\n",
       "Novo             35\n",
       "União Brasil     16\n",
       "PSB              11\n",
       "PP               10\n",
       "Rede              8\n",
       "PSTU              5\n",
       "PDT               4\n",
       "Name: Partido, dtype: int64"
      ]
     },
     "execution_count": 47,
     "metadata": {},
     "output_type": "execute_result"
    }
   ],
   "source": [
    "# == remover artigos contendo links == \n",
    "\n",
    "artigos[artigos.Conteudo.str.contains('http')].Partido.value_counts()\n",
    "artigos = artigos[~artigos.Conteudo.str.contains('http')]"
   ]
  },
  {
   "cell_type": "code",
   "execution_count": 48,
   "id": "9f61d542",
   "metadata": {},
   "outputs": [],
   "source": [
    "# == todas as sentenças após o penúltimo \".\" a fim de eliminar ruídos que não fazem parte do artigo == \n",
    "\n",
    "artigos.Conteudo = artigos.Conteudo.apply(\n",
    "    lambda x : ''.join(x.split('.')[:-2])\n",
    ")"
   ]
  },
  {
   "cell_type": "code",
   "execution_count": 49,
   "id": "2edff752",
   "metadata": {},
   "outputs": [],
   "source": [
    "# == mascarar nome de partido == \n",
    "\n",
    "partidos = ['novo', 'pcb', 'pdt', 'pl', 'pp', 'psol', 'pstu', 'mdb', 'pcdob', 'psb', 'pt', 'pv', 'rede', 'união brasil']\n",
    "for partido in partidos:\n",
    "    artigos.Conteudo = artigos.Conteudo.str.replace(f' {partido} ', ' ')"
   ]
  },
  {
   "cell_type": "code",
   "execution_count": 64,
   "id": "4f9aab0e",
   "metadata": {},
   "outputs": [],
   "source": [
    "# == remover todas as palavras contendo caracteres especiais ==\n",
    "\n",
    "artigos.Conteudo = artigos.Conteudo.apply(\n",
    "    lambda x : ' '.join(word for word in x.split(' ') if word.isalnum())\n",
    ")"
   ]
  },
  {
   "cell_type": "code",
   "execution_count": 68,
   "id": "8df27a29",
   "metadata": {},
   "outputs": [],
   "source": [
    "# == normalização por unicode e encode ascii ==\n",
    "\n",
    "artigos.Conteudo = artigos.Conteudo.str.lower()\\\n",
    "                                   .str.normalize('NFKD')\\\n",
    "                                   .str.encode('ascii', errors='ignore')\\\n",
    "                                   .str.decode('utf-8')"
   ]
  },
  {
   "cell_type": "code",
   "execution_count": 72,
   "id": "ccb32155",
   "metadata": {},
   "outputs": [],
   "source": [
    "# == remover pontuações e números == \n",
    "\n",
    "artigos.Conteudo = artigos.Conteudo.str.replace('[^a-zA-Z]', ' ')"
   ]
  },
  {
   "cell_type": "code",
   "execution_count": 92,
   "id": "a6f34760",
   "metadata": {},
   "outputs": [],
   "source": [
    "# == remover double space == \n",
    "\n",
    "for n in range(30):\n",
    "    artigos.Conteudo = artigos.Conteudo.str.replace('  ', ' ')"
   ]
  },
  {
   "cell_type": "code",
   "execution_count": 93,
   "id": "4b223f44",
   "metadata": {},
   "outputs": [
    {
     "data": {
      "text/html": [
       "<div>\n",
       "<style scoped>\n",
       "    .dataframe tbody tr th:only-of-type {\n",
       "        vertical-align: middle;\n",
       "    }\n",
       "\n",
       "    .dataframe tbody tr th {\n",
       "        vertical-align: top;\n",
       "    }\n",
       "\n",
       "    .dataframe thead th {\n",
       "        text-align: right;\n",
       "    }\n",
       "</style>\n",
       "<table border=\"1\" class=\"dataframe\">\n",
       "  <thead>\n",
       "    <tr style=\"text-align: right;\">\n",
       "      <th></th>\n",
       "      <th></th>\n",
       "      <th>ContagemPalavras</th>\n",
       "      <th>ContagemArtigos</th>\n",
       "    </tr>\n",
       "    <tr>\n",
       "      <th>Vies</th>\n",
       "      <th>Partido</th>\n",
       "      <th></th>\n",
       "      <th></th>\n",
       "    </tr>\n",
       "  </thead>\n",
       "  <tbody>\n",
       "    <tr>\n",
       "      <th rowspan=\"4\" valign=\"top\">centro</th>\n",
       "      <th>MDB</th>\n",
       "      <td>341.078571</td>\n",
       "      <td>560</td>\n",
       "    </tr>\n",
       "    <tr>\n",
       "      <th>PDT</th>\n",
       "      <td>475.828442</td>\n",
       "      <td>443</td>\n",
       "    </tr>\n",
       "    <tr>\n",
       "      <th>PSB</th>\n",
       "      <td>351.917190</td>\n",
       "      <td>1751</td>\n",
       "    </tr>\n",
       "    <tr>\n",
       "      <th>PV</th>\n",
       "      <td>418.481840</td>\n",
       "      <td>826</td>\n",
       "    </tr>\n",
       "    <tr>\n",
       "      <th rowspan=\"4\" valign=\"top\">direita</th>\n",
       "      <th>Novo</th>\n",
       "      <td>228.310671</td>\n",
       "      <td>1162</td>\n",
       "    </tr>\n",
       "    <tr>\n",
       "      <th>PL</th>\n",
       "      <td>198.180107</td>\n",
       "      <td>3187</td>\n",
       "    </tr>\n",
       "    <tr>\n",
       "      <th>PP</th>\n",
       "      <td>237.377816</td>\n",
       "      <td>577</td>\n",
       "    </tr>\n",
       "    <tr>\n",
       "      <th>União Brasil</th>\n",
       "      <td>221.873134</td>\n",
       "      <td>268</td>\n",
       "    </tr>\n",
       "    <tr>\n",
       "      <th rowspan=\"6\" valign=\"top\">esquerda</th>\n",
       "      <th>PCB</th>\n",
       "      <td>477.260323</td>\n",
       "      <td>557</td>\n",
       "    </tr>\n",
       "    <tr>\n",
       "      <th>PCDoB</th>\n",
       "      <td>362.799003</td>\n",
       "      <td>602</td>\n",
       "    </tr>\n",
       "    <tr>\n",
       "      <th>PSOL</th>\n",
       "      <td>124.333333</td>\n",
       "      <td>15</td>\n",
       "    </tr>\n",
       "    <tr>\n",
       "      <th>PSTU</th>\n",
       "      <td>791.284566</td>\n",
       "      <td>622</td>\n",
       "    </tr>\n",
       "    <tr>\n",
       "      <th>PT</th>\n",
       "      <td>493.491892</td>\n",
       "      <td>555</td>\n",
       "    </tr>\n",
       "    <tr>\n",
       "      <th>Rede</th>\n",
       "      <td>219.155172</td>\n",
       "      <td>116</td>\n",
       "    </tr>\n",
       "  </tbody>\n",
       "</table>\n",
       "</div>"
      ],
      "text/plain": [
       "                       ContagemPalavras  ContagemArtigos\n",
       "Vies     Partido                                        \n",
       "centro   MDB                 341.078571              560\n",
       "         PDT                 475.828442              443\n",
       "         PSB                 351.917190             1751\n",
       "         PV                  418.481840              826\n",
       "direita  Novo                228.310671             1162\n",
       "         PL                  198.180107             3187\n",
       "         PP                  237.377816              577\n",
       "         União Brasil        221.873134              268\n",
       "esquerda PCB                 477.260323              557\n",
       "         PCDoB               362.799003              602\n",
       "         PSOL                124.333333               15\n",
       "         PSTU                791.284566              622\n",
       "         PT                  493.491892              555\n",
       "         Rede                219.155172              116"
      ]
     },
     "execution_count": 93,
     "metadata": {},
     "output_type": "execute_result"
    }
   ],
   "source": [
    "# == analisar a contagem média de palavras por partido == \n",
    "\n",
    "copy = artigos.copy()\n",
    "copy['Contagem'] = copy.Conteudo.str.count(' ')\n",
    "copy.groupby(\n",
    "    by=['Vies', 'Partido'],\n",
    ").agg(\n",
    "    ContagemPalavras = ('Contagem', 'mean'), \n",
    "    ContagemArtigos = ('Contagem', 'count')\n",
    ")"
   ]
  },
  {
   "cell_type": "code",
   "execution_count": 78,
   "id": "cf001d0b",
   "metadata": {},
   "outputs": [],
   "source": [
    "# == salvar o df tratado == \n",
    "\n",
    "artigos.to_parquet('../../dataset/processed/artigos_tratados/artigos_tratados.parquet')"
   ]
  },
  {
   "cell_type": "code",
   "execution_count": null,
   "id": "882bd503",
   "metadata": {},
   "outputs": [],
   "source": []
  }
 ],
 "metadata": {
  "kernelspec": {
   "display_name": "Python 3",
   "language": "python",
   "name": "python3"
  },
  "language_info": {
   "codemirror_mode": {
    "name": "ipython",
    "version": 3
   },
   "file_extension": ".py",
   "mimetype": "text/x-python",
   "name": "python",
   "nbconvert_exporter": "python",
   "pygments_lexer": "ipython3",
   "version": "3.7.6"
  }
 },
 "nbformat": 4,
 "nbformat_minor": 5
}
